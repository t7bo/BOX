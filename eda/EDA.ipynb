{
 "cells": [
  {
   "cell_type": "code",
   "execution_count": 1,
   "metadata": {},
   "outputs": [],
   "source": [
    "import pandas as pd"
   ]
  },
  {
   "cell_type": "markdown",
   "metadata": {},
   "source": [
    "# Data Preprocessing"
   ]
  },
  {
   "cell_type": "markdown",
   "metadata": {},
   "source": [
    "## Data Scraping"
   ]
  },
  {
   "cell_type": "markdown",
   "metadata": {},
   "source": [
    "### IMDB 2000-2024 movies"
   ]
  },
  {
   "cell_type": "markdown",
   "metadata": {},
   "source": [
    "Original scraped data"
   ]
  },
  {
   "cell_type": "code",
   "execution_count": 62,
   "metadata": {},
   "outputs": [
    {
     "data": {
      "text/plain": [
       "(6733, 21)"
      ]
     },
     "execution_count": 62,
     "metadata": {},
     "output_type": "execute_result"
    }
   ],
   "source": [
    "data = pd.read_csv(r'C:\\Users\\Thibaut\\Documents\\SIMPLON\\DEV-IA\\BOXOFFICE\\scraping\\data\\imdb_movies.csv')\n",
    "data.shape"
   ]
  },
  {
   "cell_type": "code",
   "execution_count": 24,
   "metadata": {},
   "outputs": [
    {
     "data": {
      "text/plain": [
       "Index(['movie_boxoffice', 'movie_budget', 'movie_cast', 'movie_categories',\n",
       "       'movie_countries', 'movie_director', 'movie_id', 'movie_imdb_metascore',\n",
       "       'movie_imdb_nb_of_ratings', 'movie_imdb_popularity',\n",
       "       'movie_imdb_rating', 'movie_length', 'movie_original_title',\n",
       "       'movie_poster', 'movie_production_companies', 'movie_synopsis',\n",
       "       'movie_title', 'movie_url', 'movie_us_boxoffice', 'release_date',\n",
       "       'year'],\n",
       "      dtype='object')"
      ]
     },
     "execution_count": 24,
     "metadata": {},
     "output_type": "execute_result"
    }
   ],
   "source": [
    "data.columns"
   ]
  },
  {
   "cell_type": "markdown",
   "metadata": {},
   "source": [
    "Keep only movies with a poster & a category"
   ]
  },
  {
   "cell_type": "code",
   "execution_count": 88,
   "metadata": {},
   "outputs": [
    {
     "data": {
      "text/plain": [
       "(6009, 21)"
      ]
     },
     "execution_count": 88,
     "metadata": {},
     "output_type": "execute_result"
    }
   ],
   "source": [
    "movies = data.copy()\n",
    "movies = movies.query('movie_poster.isna() == False and movie_categories.isna() == False')\n",
    "movies.shape "
   ]
  },
  {
   "cell_type": "code",
   "execution_count": 89,
   "metadata": {},
   "outputs": [
    {
     "data": {
      "text/html": [
       "<div>\n",
       "<style scoped>\n",
       "    .dataframe tbody tr th:only-of-type {\n",
       "        vertical-align: middle;\n",
       "    }\n",
       "\n",
       "    .dataframe tbody tr th {\n",
       "        vertical-align: top;\n",
       "    }\n",
       "\n",
       "    .dataframe thead th {\n",
       "        text-align: right;\n",
       "    }\n",
       "</style>\n",
       "<table border=\"1\" class=\"dataframe\">\n",
       "  <thead>\n",
       "    <tr style=\"text-align: right;\">\n",
       "      <th></th>\n",
       "      <th>movie_boxoffice</th>\n",
       "      <th>movie_budget</th>\n",
       "      <th>movie_cast</th>\n",
       "      <th>movie_categories</th>\n",
       "      <th>movie_countries</th>\n",
       "      <th>movie_director</th>\n",
       "      <th>movie_id</th>\n",
       "      <th>movie_imdb_metascore</th>\n",
       "      <th>movie_imdb_nb_of_ratings</th>\n",
       "      <th>movie_imdb_popularity</th>\n",
       "      <th>movie_imdb_rating</th>\n",
       "      <th>movie_length</th>\n",
       "      <th>movie_original_title</th>\n",
       "      <th>movie_poster</th>\n",
       "      <th>movie_production_companies</th>\n",
       "      <th>movie_synopsis</th>\n",
       "      <th>movie_title</th>\n",
       "      <th>movie_url</th>\n",
       "      <th>movie_us_boxoffice</th>\n",
       "      <th>release_date</th>\n",
       "      <th>year</th>\n",
       "    </tr>\n",
       "  </thead>\n",
       "  <tbody>\n",
       "    <tr>\n",
       "      <th>4268</th>\n",
       "      <td>3908035.0</td>\n",
       "      <td>9780000.0</td>\n",
       "      <td>Benoît Magimel|Albert Dupontel|Aurélien Recoin...</td>\n",
       "      <td>Drame|Historique|Guerre</td>\n",
       "      <td>France|Maroc</td>\n",
       "      <td>Florent-Emilio Siri</td>\n",
       "      <td>tt0825248</td>\n",
       "      <td>61.0</td>\n",
       "      <td>35000.0</td>\n",
       "      <td>NaN</td>\n",
       "      <td>6.9</td>\n",
       "      <td>111.0</td>\n",
       "      <td>NaN</td>\n",
       "      <td>https://m.media-amazon.com/images/M/MV5BMzhiYz...</td>\n",
       "      <td>Les Films du Kiosque|SND Films|France 2 Cinéma</td>\n",
       "      <td>En Kabylie, Terrien prend le commandement d'un...</td>\n",
       "      <td>L'Ennemi Intime</td>\n",
       "      <td>https://www.imdb.com/title/tt0825248/</td>\n",
       "      <td>NaN</td>\n",
       "      <td>03-10-2007</td>\n",
       "      <td>2007.0</td>\n",
       "    </tr>\n",
       "  </tbody>\n",
       "</table>\n",
       "</div>"
      ],
      "text/plain": [
       "      movie_boxoffice  movie_budget  \\\n",
       "4268        3908035.0     9780000.0   \n",
       "\n",
       "                                             movie_cast  \\\n",
       "4268  Benoît Magimel|Albert Dupontel|Aurélien Recoin...   \n",
       "\n",
       "             movie_categories movie_countries       movie_director   movie_id  \\\n",
       "4268  Drame|Historique|Guerre    France|Maroc  Florent-Emilio Siri  tt0825248   \n",
       "\n",
       "      movie_imdb_metascore  movie_imdb_nb_of_ratings  movie_imdb_popularity  \\\n",
       "4268                  61.0                   35000.0                    NaN   \n",
       "\n",
       "      movie_imdb_rating  movie_length movie_original_title  \\\n",
       "4268                6.9         111.0                  NaN   \n",
       "\n",
       "                                           movie_poster  \\\n",
       "4268  https://m.media-amazon.com/images/M/MV5BMzhiYz...   \n",
       "\n",
       "                          movie_production_companies  \\\n",
       "4268  Les Films du Kiosque|SND Films|France 2 Cinéma   \n",
       "\n",
       "                                         movie_synopsis      movie_title  \\\n",
       "4268  En Kabylie, Terrien prend le commandement d'un...  L'Ennemi Intime   \n",
       "\n",
       "                                  movie_url  movie_us_boxoffice release_date  \\\n",
       "4268  https://www.imdb.com/title/tt0825248/                 NaN   03-10-2007   \n",
       "\n",
       "        year  \n",
       "4268  2007.0  "
      ]
     },
     "execution_count": 89,
     "metadata": {},
     "output_type": "execute_result"
    }
   ],
   "source": [
    "pd.set_option('display.max_columns', None)\n",
    "movies.sample(1)"
   ]
  },
  {
   "cell_type": "markdown",
   "metadata": {},
   "source": [
    "### IMDB Upcoming movies (2024-2025)"
   ]
  },
  {
   "cell_type": "markdown",
   "metadata": {},
   "source": [
    "##### First upcoming movies scraping (don't remember the date, probably March 24th)"
   ]
  },
  {
   "cell_type": "code",
   "execution_count": 21,
   "metadata": {},
   "outputs": [
    {
     "data": {
      "text/plain": [
       "Index(['movie_boxoffice', 'movie_budget', 'movie_cast', 'movie_categories',\n",
       "       'movie_countries', 'movie_director', 'movie_id', 'movie_imdb_metascore',\n",
       "       'movie_imdb_nb_of_ratings', 'movie_imdb_popularity',\n",
       "       'movie_imdb_rating', 'movie_length', 'movie_original_title',\n",
       "       'movie_production_companies', 'movie_synopsis', 'movie_title',\n",
       "       'movie_url', 'movie_us_boxoffice', 'release_date'],\n",
       "      dtype='object')"
      ]
     },
     "execution_count": 21,
     "metadata": {},
     "output_type": "execute_result"
    }
   ],
   "source": [
    "upcoming_movies = pd.read_csv(r'C:\\Users\\Thibaut\\Documents\\SIMPLON\\DEV-IA\\BOXOFFICE\\scraping\\data\\upcomingmovies_march24.csv')\n",
    "upcoming_movies['release_date'] = pd.to_datetime(upcoming_movies['release_date'], format='%d-%m-%Y')\n",
    "upcoming_movies = upcoming_movies.sort_values(by=\"release_date\", ascending=True)\n",
    "upcoming_movies.columns"
   ]
  },
  {
   "cell_type": "markdown",
   "metadata": {},
   "source": [
    "##### Second scraping of upcoming movies : April 6"
   ]
  },
  {
   "cell_type": "code",
   "execution_count": 65,
   "metadata": {},
   "outputs": [
    {
     "data": {
      "text/html": [
       "<div>\n",
       "<style scoped>\n",
       "    .dataframe tbody tr th:only-of-type {\n",
       "        vertical-align: middle;\n",
       "    }\n",
       "\n",
       "    .dataframe tbody tr th {\n",
       "        vertical-align: top;\n",
       "    }\n",
       "\n",
       "    .dataframe thead th {\n",
       "        text-align: right;\n",
       "    }\n",
       "</style>\n",
       "<table border=\"1\" class=\"dataframe\">\n",
       "  <thead>\n",
       "    <tr style=\"text-align: right;\">\n",
       "      <th></th>\n",
       "      <th>movie_boxoffice</th>\n",
       "      <th>movie_budget</th>\n",
       "      <th>movie_cast</th>\n",
       "      <th>movie_categories</th>\n",
       "      <th>movie_countries</th>\n",
       "      <th>movie_director</th>\n",
       "      <th>movie_id</th>\n",
       "      <th>movie_imdb_metascore</th>\n",
       "      <th>movie_imdb_nb_of_ratings</th>\n",
       "      <th>movie_imdb_popularity</th>\n",
       "      <th>movie_imdb_rating</th>\n",
       "      <th>movie_length</th>\n",
       "      <th>movie_original_title</th>\n",
       "      <th>movie_poster</th>\n",
       "      <th>movie_production_companies</th>\n",
       "      <th>movie_synopsis</th>\n",
       "      <th>movie_title</th>\n",
       "      <th>movie_url</th>\n",
       "      <th>movie_us_boxoffice</th>\n",
       "      <th>release_date</th>\n",
       "    </tr>\n",
       "  </thead>\n",
       "  <tbody>\n",
       "    <tr>\n",
       "      <th>0</th>\n",
       "      <td>NaN</td>\n",
       "      <td>NaN</td>\n",
       "      <td>Daniel Berlioux, Oussem Kadri, Majida Ghomari,...</td>\n",
       "      <td>Biographique, Drame</td>\n",
       "      <td>France</td>\n",
       "      <td>Cheyenne Carron</td>\n",
       "      <td>tt29478506</td>\n",
       "      <td>NaN</td>\n",
       "      <td>NaN</td>\n",
       "      <td>NaN</td>\n",
       "      <td>NaN</td>\n",
       "      <td>108.0</td>\n",
       "      <td>Que Notre Joie Demeure</td>\n",
       "      <td>https://m.media-amazon.com/images/M/MV5BMmY2Ym...</td>\n",
       "      <td>Hésiode Productions</td>\n",
       "      <td>Father Jacques Hamel and Adel Kermiche, two de...</td>\n",
       "      <td>Que Notre Joie Demeure</td>\n",
       "      <td>https://www.imdb.com/title/tt29478506/?ref_=rlm</td>\n",
       "      <td>NaN</td>\n",
       "      <td>24-04-2024</td>\n",
       "    </tr>\n",
       "    <tr>\n",
       "      <th>1</th>\n",
       "      <td>NaN</td>\n",
       "      <td>NaN</td>\n",
       "      <td>Tergel Bold-Erdene, Nomin-Erdene Ariunbyamba, ...</td>\n",
       "      <td>Drame</td>\n",
       "      <td>Qatar, Allemagne, Pays-Bas, Portugal, Mongolie...</td>\n",
       "      <td>Lkhagvadulam Purev-Ochir</td>\n",
       "      <td>tt27816866</td>\n",
       "      <td>NaN</td>\n",
       "      <td>140.0</td>\n",
       "      <td>NaN</td>\n",
       "      <td>6.9</td>\n",
       "      <td>104.0</td>\n",
       "      <td>Ser Ser Salhi</td>\n",
       "      <td>NaN</td>\n",
       "      <td>27 Films Production, Aurora Films, Guru Media</td>\n",
       "      <td>Ze, a 17-year-old, studies hard at school to s...</td>\n",
       "      <td>Un Jeune Chaman</td>\n",
       "      <td>https://www.imdb.com/title/tt27816866/?ref_=rlm</td>\n",
       "      <td>NaN</td>\n",
       "      <td>24-04-2024</td>\n",
       "    </tr>\n",
       "    <tr>\n",
       "      <th>2</th>\n",
       "      <td>114426978.0</td>\n",
       "      <td>100000000.0</td>\n",
       "      <td>Paul Rudd, Carrie Coon, Finn Wolfhard, Mckenna...</td>\n",
       "      <td>Aventure, Comédie, Fantastique</td>\n",
       "      <td>États-Unis, Canada, Royaume-Uni</td>\n",
       "      <td>Gil Kenan</td>\n",
       "      <td>tt21235248</td>\n",
       "      <td>46.0</td>\n",
       "      <td>20000.0</td>\n",
       "      <td>4.0</td>\n",
       "      <td>6.5</td>\n",
       "      <td>115.0</td>\n",
       "      <td>Ghostbusters: Frozen Empire</td>\n",
       "      <td>https://m.media-amazon.com/images/M/MV5BNGE5MW...</td>\n",
       "      <td>Columbia Pictures, BRON Studios, Ghostcorps</td>\n",
       "      <td>Lorsque la découverte d'un ancien artefact lib...</td>\n",
       "      <td>S.O.S. Fantômes: La Menace De Glace</td>\n",
       "      <td>https://www.imdb.com/title/tt21235248/?ref_=rlm</td>\n",
       "      <td>79863665.0</td>\n",
       "      <td>10-04-2024</td>\n",
       "    </tr>\n",
       "    <tr>\n",
       "      <th>3</th>\n",
       "      <td>NaN</td>\n",
       "      <td>NaN</td>\n",
       "      <td>Ido Tako, Mika Reiss, Efrat Ben Tzur, Tikva Da...</td>\n",
       "      <td>Drame, Thriller, Guerre</td>\n",
       "      <td>Israël</td>\n",
       "      <td>Dani Rosenberg</td>\n",
       "      <td>tt27817584</td>\n",
       "      <td>NaN</td>\n",
       "      <td>98.0</td>\n",
       "      <td>NaN</td>\n",
       "      <td>6.8</td>\n",
       "      <td>105.0</td>\n",
       "      <td>The Vanishing Soldier</td>\n",
       "      <td>https://m.media-amazon.com/images/M/MV5BNGQ1Yz...</td>\n",
       "      <td>Israel Film Fund, United Channel Movies</td>\n",
       "      <td>Eighteen-year-old Israeli soldier flees back t...</td>\n",
       "      <td>Le Déserteur</td>\n",
       "      <td>https://www.imdb.com/title/tt27817584/?ref_=rlm</td>\n",
       "      <td>NaN</td>\n",
       "      <td>24-04-2024</td>\n",
       "    </tr>\n",
       "    <tr>\n",
       "      <th>4</th>\n",
       "      <td>NaN</td>\n",
       "      <td>NaN</td>\n",
       "      <td>Noée Abita, Anders Danielsen Lie, Alexis Neise...</td>\n",
       "      <td>Drame</td>\n",
       "      <td>France</td>\n",
       "      <td>Victoria Musiedlak</td>\n",
       "      <td>tt26218928</td>\n",
       "      <td>NaN</td>\n",
       "      <td>32.0</td>\n",
       "      <td>NaN</td>\n",
       "      <td>6.0</td>\n",
       "      <td>98.0</td>\n",
       "      <td>NaN</td>\n",
       "      <td>NaN</td>\n",
       "      <td>Ligne 2, France 2 Cinéma, Canal+</td>\n",
       "      <td>An inexperienced criminal defense lawyer is ch...</td>\n",
       "      <td>Première Affaire</td>\n",
       "      <td>https://www.imdb.com/title/tt26218928/?ref_=rlm</td>\n",
       "      <td>NaN</td>\n",
       "      <td>24-04-2024</td>\n",
       "    </tr>\n",
       "    <tr>\n",
       "      <th>...</th>\n",
       "      <td>...</td>\n",
       "      <td>...</td>\n",
       "      <td>...</td>\n",
       "      <td>...</td>\n",
       "      <td>...</td>\n",
       "      <td>...</td>\n",
       "      <td>...</td>\n",
       "      <td>...</td>\n",
       "      <td>...</td>\n",
       "      <td>...</td>\n",
       "      <td>...</td>\n",
       "      <td>...</td>\n",
       "      <td>...</td>\n",
       "      <td>...</td>\n",
       "      <td>...</td>\n",
       "      <td>...</td>\n",
       "      <td>...</td>\n",
       "      <td>...</td>\n",
       "      <td>...</td>\n",
       "      <td>...</td>\n",
       "    </tr>\n",
       "    <tr>\n",
       "      <th>119</th>\n",
       "      <td>64120.0</td>\n",
       "      <td>NaN</td>\n",
       "      <td>Karin Anglin, Clé Bennett, John Eric Bentley, ...</td>\n",
       "      <td>Animation, Action, Aventure</td>\n",
       "      <td>Hongrie</td>\n",
       "      <td>Áron Gauder</td>\n",
       "      <td>tt11736638</td>\n",
       "      <td>NaN</td>\n",
       "      <td>414.0</td>\n",
       "      <td>NaN</td>\n",
       "      <td>7.3</td>\n",
       "      <td>103.0</td>\n",
       "      <td>Kojot Négy Lelke</td>\n",
       "      <td>https://m.media-amazon.com/images/M/MV5BOTYyNW...</td>\n",
       "      <td>Cinemon Entertainment</td>\n",
       "      <td>Native American protesters confront an oil pip...</td>\n",
       "      <td>Les 4 Âmes Du Coyote</td>\n",
       "      <td>https://www.imdb.com/title/tt11736638/?ref_=rlm</td>\n",
       "      <td>NaN</td>\n",
       "      <td>10-04-2024</td>\n",
       "    </tr>\n",
       "    <tr>\n",
       "      <th>120</th>\n",
       "      <td>NaN</td>\n",
       "      <td>NaN</td>\n",
       "      <td>Nell Tiger Free, Ralph Ineson, Sonia Braga, Ta...</td>\n",
       "      <td>Horreur</td>\n",
       "      <td>États-Unis, Italie, Royaume-Uni, Canada, Serbie</td>\n",
       "      <td>Arkasha Stevenson</td>\n",
       "      <td>tt5672290</td>\n",
       "      <td>64.0</td>\n",
       "      <td>19000.0</td>\n",
       "      <td>65.0</td>\n",
       "      <td>7.0</td>\n",
       "      <td>120.0</td>\n",
       "      <td>The First Omen</td>\n",
       "      <td>https://m.media-amazon.com/images/M/MV5BNWZkMm...</td>\n",
       "      <td>20th Century Studios, Phantom Four Films, Abbe...</td>\n",
       "      <td>Une jeune Américaine est envoyée à Rome pour c...</td>\n",
       "      <td>La Malédiction: L'Origine</td>\n",
       "      <td>https://www.imdb.com/title/tt5672290/?ref_=rlm</td>\n",
       "      <td>NaN</td>\n",
       "      <td>10-04-2024</td>\n",
       "    </tr>\n",
       "    <tr>\n",
       "      <th>121</th>\n",
       "      <td>NaN</td>\n",
       "      <td>NaN</td>\n",
       "      <td>NaN</td>\n",
       "      <td>Documentaire</td>\n",
       "      <td>France</td>\n",
       "      <td>Nicolas Philibert</td>\n",
       "      <td>tt31831104</td>\n",
       "      <td>NaN</td>\n",
       "      <td>NaN</td>\n",
       "      <td>NaN</td>\n",
       "      <td>NaN</td>\n",
       "      <td>72.0</td>\n",
       "      <td>NaN</td>\n",
       "      <td>https://m.media-amazon.com/images/M/MV5BOGE0OD...</td>\n",
       "      <td>TS Productions</td>\n",
       "      <td>NaN</td>\n",
       "      <td>La Machine À Écrire Et Autres Sources De Tracas</td>\n",
       "      <td>https://www.imdb.com/title/tt31831104/?ref_=rlm</td>\n",
       "      <td>NaN</td>\n",
       "      <td>17-04-2024</td>\n",
       "    </tr>\n",
       "    <tr>\n",
       "      <th>122</th>\n",
       "      <td>488140.0</td>\n",
       "      <td>100000.0</td>\n",
       "      <td>Alan Nehama, Dutch Welch, Aliya Campbell, Dona...</td>\n",
       "      <td>Drame</td>\n",
       "      <td>Mexique, États-Unis</td>\n",
       "      <td>Michel Franco</td>\n",
       "      <td>tt19864828</td>\n",
       "      <td>71.0</td>\n",
       "      <td>32000.0</td>\n",
       "      <td>936.0</td>\n",
       "      <td>6.6</td>\n",
       "      <td>103.0</td>\n",
       "      <td>NaN</td>\n",
       "      <td>https://m.media-amazon.com/images/M/MV5BODY0OW...</td>\n",
       "      <td>High Frequency Entertainment, Teorema, Case St...</td>\n",
       "      <td>Sylvia est une assistante sociale qui mène une...</td>\n",
       "      <td>Memory</td>\n",
       "      <td>https://www.imdb.com/title/tt19864828/?ref_=rlm</td>\n",
       "      <td>381052.0</td>\n",
       "      <td>29-05-2024</td>\n",
       "    </tr>\n",
       "    <tr>\n",
       "      <th>123</th>\n",
       "      <td>1674900.0</td>\n",
       "      <td>NaN</td>\n",
       "      <td>Santiago Sandoval, Fernando Cuautle, Esteban C...</td>\n",
       "      <td>Drame, Mystère, Thriller</td>\n",
       "      <td>Mexique, Suède</td>\n",
       "      <td>David Zonana</td>\n",
       "      <td>tt24079846</td>\n",
       "      <td>NaN</td>\n",
       "      <td>12000.0</td>\n",
       "      <td>NaN</td>\n",
       "      <td>6.8</td>\n",
       "      <td>88.0</td>\n",
       "      <td>NaN</td>\n",
       "      <td>https://m.media-amazon.com/images/M/MV5BYmQ4YT...</td>\n",
       "      <td>Filmadora, Film i Väst</td>\n",
       "      <td>Luis, un jeune homme de 18 ans aux racines ind...</td>\n",
       "      <td>Heroico</td>\n",
       "      <td>https://www.imdb.com/title/tt24079846/?ref_=rlm</td>\n",
       "      <td>NaN</td>\n",
       "      <td>22-05-2024</td>\n",
       "    </tr>\n",
       "  </tbody>\n",
       "</table>\n",
       "<p>124 rows × 20 columns</p>\n",
       "</div>"
      ],
      "text/plain": [
       "     movie_boxoffice  movie_budget  \\\n",
       "0                NaN           NaN   \n",
       "1                NaN           NaN   \n",
       "2        114426978.0   100000000.0   \n",
       "3                NaN           NaN   \n",
       "4                NaN           NaN   \n",
       "..               ...           ...   \n",
       "119          64120.0           NaN   \n",
       "120              NaN           NaN   \n",
       "121              NaN           NaN   \n",
       "122         488140.0      100000.0   \n",
       "123        1674900.0           NaN   \n",
       "\n",
       "                                            movie_cast  \\\n",
       "0    Daniel Berlioux, Oussem Kadri, Majida Ghomari,...   \n",
       "1    Tergel Bold-Erdene, Nomin-Erdene Ariunbyamba, ...   \n",
       "2    Paul Rudd, Carrie Coon, Finn Wolfhard, Mckenna...   \n",
       "3    Ido Tako, Mika Reiss, Efrat Ben Tzur, Tikva Da...   \n",
       "4    Noée Abita, Anders Danielsen Lie, Alexis Neise...   \n",
       "..                                                 ...   \n",
       "119  Karin Anglin, Clé Bennett, John Eric Bentley, ...   \n",
       "120  Nell Tiger Free, Ralph Ineson, Sonia Braga, Ta...   \n",
       "121                                                NaN   \n",
       "122  Alan Nehama, Dutch Welch, Aliya Campbell, Dona...   \n",
       "123  Santiago Sandoval, Fernando Cuautle, Esteban C...   \n",
       "\n",
       "                   movie_categories  \\\n",
       "0               Biographique, Drame   \n",
       "1                             Drame   \n",
       "2    Aventure, Comédie, Fantastique   \n",
       "3           Drame, Thriller, Guerre   \n",
       "4                             Drame   \n",
       "..                              ...   \n",
       "119     Animation, Action, Aventure   \n",
       "120                         Horreur   \n",
       "121                    Documentaire   \n",
       "122                           Drame   \n",
       "123        Drame, Mystère, Thriller   \n",
       "\n",
       "                                       movie_countries  \\\n",
       "0                                               France   \n",
       "1    Qatar, Allemagne, Pays-Bas, Portugal, Mongolie...   \n",
       "2                      États-Unis, Canada, Royaume-Uni   \n",
       "3                                               Israël   \n",
       "4                                               France   \n",
       "..                                                 ...   \n",
       "119                                            Hongrie   \n",
       "120    États-Unis, Italie, Royaume-Uni, Canada, Serbie   \n",
       "121                                             France   \n",
       "122                                Mexique, États-Unis   \n",
       "123                                     Mexique, Suède   \n",
       "\n",
       "               movie_director    movie_id  movie_imdb_metascore  \\\n",
       "0             Cheyenne Carron  tt29478506                   NaN   \n",
       "1    Lkhagvadulam Purev-Ochir  tt27816866                   NaN   \n",
       "2                   Gil Kenan  tt21235248                  46.0   \n",
       "3              Dani Rosenberg  tt27817584                   NaN   \n",
       "4          Victoria Musiedlak  tt26218928                   NaN   \n",
       "..                        ...         ...                   ...   \n",
       "119               Áron Gauder  tt11736638                   NaN   \n",
       "120         Arkasha Stevenson   tt5672290                  64.0   \n",
       "121         Nicolas Philibert  tt31831104                   NaN   \n",
       "122             Michel Franco  tt19864828                  71.0   \n",
       "123              David Zonana  tt24079846                   NaN   \n",
       "\n",
       "     movie_imdb_nb_of_ratings  movie_imdb_popularity  movie_imdb_rating  \\\n",
       "0                         NaN                    NaN                NaN   \n",
       "1                       140.0                    NaN                6.9   \n",
       "2                     20000.0                    4.0                6.5   \n",
       "3                        98.0                    NaN                6.8   \n",
       "4                        32.0                    NaN                6.0   \n",
       "..                        ...                    ...                ...   \n",
       "119                     414.0                    NaN                7.3   \n",
       "120                   19000.0                   65.0                7.0   \n",
       "121                       NaN                    NaN                NaN   \n",
       "122                   32000.0                  936.0                6.6   \n",
       "123                   12000.0                    NaN                6.8   \n",
       "\n",
       "     movie_length          movie_original_title  \\\n",
       "0           108.0        Que Notre Joie Demeure   \n",
       "1           104.0                 Ser Ser Salhi   \n",
       "2           115.0   Ghostbusters: Frozen Empire   \n",
       "3           105.0         The Vanishing Soldier   \n",
       "4            98.0                           NaN   \n",
       "..            ...                           ...   \n",
       "119         103.0              Kojot Négy Lelke   \n",
       "120         120.0                The First Omen   \n",
       "121          72.0                           NaN   \n",
       "122         103.0                           NaN   \n",
       "123          88.0                           NaN   \n",
       "\n",
       "                                          movie_poster  \\\n",
       "0    https://m.media-amazon.com/images/M/MV5BMmY2Ym...   \n",
       "1                                                  NaN   \n",
       "2    https://m.media-amazon.com/images/M/MV5BNGE5MW...   \n",
       "3    https://m.media-amazon.com/images/M/MV5BNGQ1Yz...   \n",
       "4                                                  NaN   \n",
       "..                                                 ...   \n",
       "119  https://m.media-amazon.com/images/M/MV5BOTYyNW...   \n",
       "120  https://m.media-amazon.com/images/M/MV5BNWZkMm...   \n",
       "121  https://m.media-amazon.com/images/M/MV5BOGE0OD...   \n",
       "122  https://m.media-amazon.com/images/M/MV5BODY0OW...   \n",
       "123  https://m.media-amazon.com/images/M/MV5BYmQ4YT...   \n",
       "\n",
       "                            movie_production_companies  \\\n",
       "0                                  Hésiode Productions   \n",
       "1        27 Films Production, Aurora Films, Guru Media   \n",
       "2          Columbia Pictures, BRON Studios, Ghostcorps   \n",
       "3              Israel Film Fund, United Channel Movies   \n",
       "4                     Ligne 2, France 2 Cinéma, Canal+   \n",
       "..                                                 ...   \n",
       "119                              Cinemon Entertainment   \n",
       "120  20th Century Studios, Phantom Four Films, Abbe...   \n",
       "121                                     TS Productions   \n",
       "122  High Frequency Entertainment, Teorema, Case St...   \n",
       "123                             Filmadora, Film i Väst   \n",
       "\n",
       "                                        movie_synopsis  \\\n",
       "0    Father Jacques Hamel and Adel Kermiche, two de...   \n",
       "1    Ze, a 17-year-old, studies hard at school to s...   \n",
       "2    Lorsque la découverte d'un ancien artefact lib...   \n",
       "3    Eighteen-year-old Israeli soldier flees back t...   \n",
       "4    An inexperienced criminal defense lawyer is ch...   \n",
       "..                                                 ...   \n",
       "119  Native American protesters confront an oil pip...   \n",
       "120  Une jeune Américaine est envoyée à Rome pour c...   \n",
       "121                                                NaN   \n",
       "122  Sylvia est une assistante sociale qui mène une...   \n",
       "123  Luis, un jeune homme de 18 ans aux racines ind...   \n",
       "\n",
       "                                         movie_title  \\\n",
       "0                             Que Notre Joie Demeure   \n",
       "1                                    Un Jeune Chaman   \n",
       "2                S.O.S. Fantômes: La Menace De Glace   \n",
       "3                                       Le Déserteur   \n",
       "4                                   Première Affaire   \n",
       "..                                               ...   \n",
       "119                             Les 4 Âmes Du Coyote   \n",
       "120                        La Malédiction: L'Origine   \n",
       "121  La Machine À Écrire Et Autres Sources De Tracas   \n",
       "122                                           Memory   \n",
       "123                                          Heroico   \n",
       "\n",
       "                                           movie_url  movie_us_boxoffice  \\\n",
       "0    https://www.imdb.com/title/tt29478506/?ref_=rlm                 NaN   \n",
       "1    https://www.imdb.com/title/tt27816866/?ref_=rlm                 NaN   \n",
       "2    https://www.imdb.com/title/tt21235248/?ref_=rlm          79863665.0   \n",
       "3    https://www.imdb.com/title/tt27817584/?ref_=rlm                 NaN   \n",
       "4    https://www.imdb.com/title/tt26218928/?ref_=rlm                 NaN   \n",
       "..                                               ...                 ...   \n",
       "119  https://www.imdb.com/title/tt11736638/?ref_=rlm                 NaN   \n",
       "120   https://www.imdb.com/title/tt5672290/?ref_=rlm                 NaN   \n",
       "121  https://www.imdb.com/title/tt31831104/?ref_=rlm                 NaN   \n",
       "122  https://www.imdb.com/title/tt19864828/?ref_=rlm            381052.0   \n",
       "123  https://www.imdb.com/title/tt24079846/?ref_=rlm                 NaN   \n",
       "\n",
       "    release_date  \n",
       "0     24-04-2024  \n",
       "1     24-04-2024  \n",
       "2     10-04-2024  \n",
       "3     24-04-2024  \n",
       "4     24-04-2024  \n",
       "..           ...  \n",
       "119   10-04-2024  \n",
       "120   10-04-2024  \n",
       "121   17-04-2024  \n",
       "122   29-05-2024  \n",
       "123   22-05-2024  \n",
       "\n",
       "[124 rows x 20 columns]"
      ]
     },
     "execution_count": 65,
     "metadata": {},
     "output_type": "execute_result"
    }
   ],
   "source": [
    "upcoming_movies2 = pd.read_csv(r'C:\\Users\\Thibaut\\Documents\\SIMPLON\\DEV-IA\\BOXOFFICE\\scraping\\data\\upcomingmovies_april6.csv')\n",
    "# upcoming_movies2['release_date'] = pd.to_datetime(upcoming_movies2['release_date'], format='%d-%m-%Y')\n",
    "# upcoming_movies2 = upcoming_movies2.sort_values(by=\"release_date\", ascending=True)\n",
    "upcoming_movies2"
   ]
  },
  {
   "cell_type": "markdown",
   "metadata": {},
   "source": [
    "### IMDB Oscars"
   ]
  },
  {
   "cell_type": "markdown",
   "metadata": {},
   "source": [
    "Original scraped data"
   ]
  },
  {
   "cell_type": "code",
   "execution_count": 9,
   "metadata": {},
   "outputs": [
    {
     "data": {
      "text/plain": [
       "(25, 4)"
      ]
     },
     "execution_count": 9,
     "metadata": {},
     "output_type": "execute_result"
    }
   ],
   "source": [
    "oscars = pd.read_csv(r\"C:\\Users\\Thibaut\\Documents\\SIMPLON\\DEV-IA\\BOXOFFICE\\scraping\\data\\imdb_oscars.csv\")\n",
    "oscars.shape"
   ]
  },
  {
   "cell_type": "code",
   "execution_count": 10,
   "metadata": {},
   "outputs": [
    {
     "data": {
      "text/html": [
       "<div>\n",
       "<style scoped>\n",
       "    .dataframe tbody tr th:only-of-type {\n",
       "        vertical-align: middle;\n",
       "    }\n",
       "\n",
       "    .dataframe tbody tr th {\n",
       "        vertical-align: top;\n",
       "    }\n",
       "\n",
       "    .dataframe thead th {\n",
       "        text-align: right;\n",
       "    }\n",
       "</style>\n",
       "<table border=\"1\" class=\"dataframe\">\n",
       "  <thead>\n",
       "    <tr style=\"text-align: right;\">\n",
       "      <th></th>\n",
       "      <th>categories</th>\n",
       "      <th>winners</th>\n",
       "      <th>year</th>\n",
       "    </tr>\n",
       "  </thead>\n",
       "  <tbody>\n",
       "    <tr>\n",
       "      <th>14</th>\n",
       "      <td>'Best Motion Picture of the Year', 'Best Perfo...</td>\n",
       "      <td>['The Kings Speech', 'Colin Firth', 'Natalie P...</td>\n",
       "      <td>2011</td>\n",
       "    </tr>\n",
       "  </tbody>\n",
       "</table>\n",
       "</div>"
      ],
      "text/plain": [
       "                                           categories  \\\n",
       "14  'Best Motion Picture of the Year', 'Best Perfo...   \n",
       "\n",
       "                                              winners  year  \n",
       "14  ['The Kings Speech', 'Colin Firth', 'Natalie P...  2011  "
      ]
     },
     "execution_count": 10,
     "metadata": {},
     "output_type": "execute_result"
    }
   ],
   "source": [
    "oscars = oscars[['categories', 'winners', 'year']]\n",
    "oscars.sample(1)"
   ]
  },
  {
   "cell_type": "code",
   "execution_count": 11,
   "metadata": {},
   "outputs": [
    {
     "data": {
      "text/html": [
       "<div>\n",
       "<style scoped>\n",
       "    .dataframe tbody tr th:only-of-type {\n",
       "        vertical-align: middle;\n",
       "    }\n",
       "\n",
       "    .dataframe tbody tr th {\n",
       "        vertical-align: top;\n",
       "    }\n",
       "\n",
       "    .dataframe thead th {\n",
       "        text-align: right;\n",
       "    }\n",
       "</style>\n",
       "<table border=\"1\" class=\"dataframe\">\n",
       "  <thead>\n",
       "    <tr style=\"text-align: right;\">\n",
       "      <th></th>\n",
       "      <th>category</th>\n",
       "      <th>winner</th>\n",
       "      <th>year</th>\n",
       "    </tr>\n",
       "  </thead>\n",
       "  <tbody>\n",
       "    <tr>\n",
       "      <th>0</th>\n",
       "      <td>Best Picture</td>\n",
       "      <td>A Beautiful Mind</td>\n",
       "      <td>2002</td>\n",
       "    </tr>\n",
       "    <tr>\n",
       "      <th>1</th>\n",
       "      <td>Best Actor in a Leading Role</td>\n",
       "      <td>Denzel Washington</td>\n",
       "      <td>2002</td>\n",
       "    </tr>\n",
       "    <tr>\n",
       "      <th>2</th>\n",
       "      <td>Best Actress in a Leading Role</td>\n",
       "      <td>Halle Berry</td>\n",
       "      <td>2002</td>\n",
       "    </tr>\n",
       "    <tr>\n",
       "      <th>3</th>\n",
       "      <td>Best Actor in a Supporting Role</td>\n",
       "      <td>Jim Broadbent</td>\n",
       "      <td>2002</td>\n",
       "    </tr>\n",
       "    <tr>\n",
       "      <th>4</th>\n",
       "      <td>Best Actress in a Supporting Role</td>\n",
       "      <td>Jennifer Connelly</td>\n",
       "      <td>2002</td>\n",
       "    </tr>\n",
       "    <tr>\n",
       "      <th>...</th>\n",
       "      <td>...</td>\n",
       "      <td>...</td>\n",
       "      <td>...</td>\n",
       "    </tr>\n",
       "    <tr>\n",
       "      <th>694</th>\n",
       "      <td>Best Animated Feature Film</td>\n",
       "      <td>The Boy and the Heron</td>\n",
       "      <td>2024</td>\n",
       "    </tr>\n",
       "    <tr>\n",
       "      <th>695</th>\n",
       "      <td>Best Animated Short Film</td>\n",
       "      <td>War Is Over!</td>\n",
       "      <td>2024</td>\n",
       "    </tr>\n",
       "    <tr>\n",
       "      <th>696</th>\n",
       "      <td>Best Live Action Short Film</td>\n",
       "      <td>The Wonderful Story of Henry Sugar</td>\n",
       "      <td>2024</td>\n",
       "    </tr>\n",
       "    <tr>\n",
       "      <th>697</th>\n",
       "      <td>Best Documentary Short Film</td>\n",
       "      <td>The Last Repair Shop</td>\n",
       "      <td>2024</td>\n",
       "    </tr>\n",
       "    <tr>\n",
       "      <th>698</th>\n",
       "      <td>Best International Feature Film</td>\n",
       "      <td>The Zone of Interest</td>\n",
       "      <td>2024</td>\n",
       "    </tr>\n",
       "  </tbody>\n",
       "</table>\n",
       "<p>699 rows × 3 columns</p>\n",
       "</div>"
      ],
      "text/plain": [
       "                              category                              winner  \\\n",
       "0                         Best Picture                    A Beautiful Mind   \n",
       "1         Best Actor in a Leading Role                   Denzel Washington   \n",
       "2       Best Actress in a Leading Role                         Halle Berry   \n",
       "3      Best Actor in a Supporting Role                       Jim Broadbent   \n",
       "4    Best Actress in a Supporting Role                   Jennifer Connelly   \n",
       "..                                 ...                                 ...   \n",
       "694         Best Animated Feature Film               The Boy and the Heron   \n",
       "695           Best Animated Short Film                        War Is Over!   \n",
       "696        Best Live Action Short Film  The Wonderful Story of Henry Sugar   \n",
       "697        Best Documentary Short Film                The Last Repair Shop   \n",
       "698    Best International Feature Film                The Zone of Interest   \n",
       "\n",
       "     year  \n",
       "0    2002  \n",
       "1    2002  \n",
       "2    2002  \n",
       "3    2002  \n",
       "4    2002  \n",
       "..    ...  \n",
       "694  2024  \n",
       "695  2024  \n",
       "696  2024  \n",
       "697  2024  \n",
       "698  2024  \n",
       "\n",
       "[699 rows x 3 columns]"
      ]
     },
     "execution_count": 11,
     "metadata": {},
     "output_type": "execute_result"
    }
   ],
   "source": [
    "# Supprimer les crochets \"[\" et \"]\" des colonnes categories et winners\n",
    "oscars['categories'] = oscars['categories'].str.replace(r\"[\", \"\").str.replace(r\"'\", \"\")\n",
    "oscars['winners'] = oscars['winners'].str.replace(r\"[\", \"\").str.replace(r\"'\", \"\")\n",
    "# Nettoyage des chaînes en supprimant les guillemets simples et les espaces autour des chaînes\n",
    "oscars['categories'] = oscars['categories'].str.strip(\"'\").str.strip()\n",
    "oscars['winners'] = oscars['winners'].str.strip(\"'\").str.strip()\n",
    "# # Diviser les valeurs de chaque colonne en une liste\n",
    "oscars['category'] = oscars['categories'].str.split(', ')\n",
    "oscars['winner'] = oscars['winners'].str.split(', ')\n",
    "\n",
    "data_list = [(cat, win, year) for cat_list, win_list, year in zip(oscars['category'], oscars['winner'], oscars['year']) for cat, win in zip(cat_list, win_list)]\n",
    "oscars_data = pd.DataFrame(data_list, columns=['category', 'winner', 'year'])\n",
    "oscars_data.to_csv('oscars.csv', index=False)\n",
    "oscars_data "
   ]
  },
  {
   "cell_type": "markdown",
   "metadata": {},
   "source": [
    "### Allociné TARGET Box Office Week 1"
   ]
  },
  {
   "cell_type": "code",
   "execution_count": 16,
   "metadata": {},
   "outputs": [
    {
     "data": {
      "text/html": [
       "<div>\n",
       "<style scoped>\n",
       "    .dataframe tbody tr th:only-of-type {\n",
       "        vertical-align: middle;\n",
       "    }\n",
       "\n",
       "    .dataframe tbody tr th {\n",
       "        vertical-align: top;\n",
       "    }\n",
       "\n",
       "    .dataframe thead th {\n",
       "        text-align: right;\n",
       "    }\n",
       "</style>\n",
       "<table border=\"1\" class=\"dataframe\">\n",
       "  <thead>\n",
       "    <tr style=\"text-align: right;\">\n",
       "      <th></th>\n",
       "      <th>Titre</th>\n",
       "      <th>Entrées</th>\n",
       "    </tr>\n",
       "  </thead>\n",
       "  <tbody>\n",
       "    <tr>\n",
       "      <th>0</th>\n",
       "      <td>1 Kung Fu Panda 4 Universal Pictures Internati...</td>\n",
       "      <td>825 898</td>\n",
       "    </tr>\n",
       "    <tr>\n",
       "      <th>1</th>\n",
       "      <td>3 La Promesse verte Diaphana Distribution Band...</td>\n",
       "      <td>176 281</td>\n",
       "    </tr>\n",
       "    <tr>\n",
       "      <th>2</th>\n",
       "      <td>4 Pas de vagues Ad Vitam Bande-annonce</td>\n",
       "      <td>170 817</td>\n",
       "    </tr>\n",
       "    <tr>\n",
       "      <th>3</th>\n",
       "      <td>6 Le Jeu de la reine ARP Sélection Bande-annonce</td>\n",
       "      <td>106 872</td>\n",
       "    </tr>\n",
       "    <tr>\n",
       "      <th>4</th>\n",
       "      <td>4 Immaculée Metropolitan FilmExport Bande-annonce</td>\n",
       "      <td>129 796</td>\n",
       "    </tr>\n",
       "    <tr>\n",
       "      <th>...</th>\n",
       "      <td>...</td>\n",
       "      <td>...</td>\n",
       "    </tr>\n",
       "    <tr>\n",
       "      <th>3791</th>\n",
       "      <td>6 Le Masque de Zorro Bande-annonce</td>\n",
       "      <td>226 753</td>\n",
       "    </tr>\n",
       "    <tr>\n",
       "      <th>3792</th>\n",
       "      <td>7 Il faut sauver le soldat Ryan United Interna...</td>\n",
       "      <td>165 808</td>\n",
       "    </tr>\n",
       "    <tr>\n",
       "      <th>3793</th>\n",
       "      <td>8 Alice et Martin Bac Films Bande-annonce</td>\n",
       "      <td>118 215</td>\n",
       "    </tr>\n",
       "    <tr>\n",
       "      <th>3794</th>\n",
       "      <td>9 The X Files, le film UFD Bande-annonce</td>\n",
       "      <td>100 301</td>\n",
       "    </tr>\n",
       "    <tr>\n",
       "      <th>3795</th>\n",
       "      <td>10 Négociateur Warner Bros. France Bande-annonce</td>\n",
       "      <td>85 976</td>\n",
       "    </tr>\n",
       "  </tbody>\n",
       "</table>\n",
       "<p>3796 rows × 2 columns</p>\n",
       "</div>"
      ],
      "text/plain": [
       "                                                  Titre  Entrées\n",
       "0     1 Kung Fu Panda 4 Universal Pictures Internati...  825 898\n",
       "1     3 La Promesse verte Diaphana Distribution Band...  176 281\n",
       "2                4 Pas de vagues Ad Vitam Bande-annonce  170 817\n",
       "3      6 Le Jeu de la reine ARP Sélection Bande-annonce  106 872\n",
       "4     4 Immaculée Metropolitan FilmExport Bande-annonce  129 796\n",
       "...                                                 ...      ...\n",
       "3791                 6 Le Masque de Zorro Bande-annonce  226 753\n",
       "3792  7 Il faut sauver le soldat Ryan United Interna...  165 808\n",
       "3793          8 Alice et Martin Bac Films Bande-annonce  118 215\n",
       "3794           9 The X Files, le film UFD Bande-annonce  100 301\n",
       "3795   10 Négociateur Warner Bros. France Bande-annonce   85 976\n",
       "\n",
       "[3796 rows x 2 columns]"
      ]
     },
     "execution_count": 16,
     "metadata": {},
     "output_type": "execute_result"
    }
   ],
   "source": [
    "import pandas as pd\n",
    "import requests\n",
    "import time\n",
    "from datetime import date, timedelta\n",
    "from io import StringIO \n",
    "from fake_useragent import UserAgent\n",
    "\n",
    "# Generate a random user-agent\n",
    "ua = UserAgent()\n",
    "headers = {'User-Agent': ua.random}\n",
    "\n",
    "# Date de départ\n",
    "start_date = date(2024, 3, 27)\n",
    "urls = [f\"https://www.allocine.fr/boxoffice/france/sem-{(start_date - timedelta(days=7*i)).strftime('%Y-%m-%d')}/\" for i in range(2000)]\n",
    "\n",
    "target_df = pd.DataFrame()\n",
    "\n",
    "# Boucle sur chaque URL\n",
    "for url in urls:\n",
    "    # Utiliser requests pour obtenir le contenu HTML\n",
    "    with requests.Session() as s:\n",
    "        s.headers.update(headers)\n",
    "        response = s.get(url)\n",
    "        if response.status_code == 200:\n",
    "            # Pause pour simuler une navigation humaine\n",
    "            time.sleep(1)\n",
    "            # Utiliser StringIO pour encapsuler le contenu HTML\n",
    "            html_content = StringIO(response.text)\n",
    "            # Utiliser pandas pour lire le tableau\n",
    "            tables = pd.read_html(html_content)\n",
    "            # Supposons que le tableau qui vous intéresse est le premier\n",
    "            table = tables[0]\n",
    "            # Filtrer ou nettoyer le tableau au besoin\n",
    "            table = table.query('Semaine == 1') \n",
    "            # Ajouter le tableau à notre DataFrame principal\n",
    "            target_df = pd.concat([target_df, table], ignore_index=True)\n",
    "            \n",
    "target_df = target_df.rename(columns={'Unnamed: 0': 'Titre'})\n",
    "target_df = target_df[['Titre', 'Entrées']]\n",
    "target_df"
   ]
  },
  {
   "cell_type": "markdown",
   "metadata": {},
   "source": [
    "## Final Data Cleaning"
   ]
  },
  {
   "cell_type": "code",
   "execution_count": 90,
   "metadata": {},
   "outputs": [
    {
     "name": "stderr",
     "output_type": "stream",
     "text": [
      "C:\\Users\\Thibaut\\AppData\\Local\\Temp\\ipykernel_15652\\460538429.py:2: UserWarning: This pattern is interpreted as a regular expression, and has match groups. To actually get the groups, use str.extract.\n",
      "  matching_values = target_df[target_df['Titre'].str.contains(movie_title)]['Entrées']\n"
     ]
    },
    {
     "data": {
      "text/html": [
       "<div>\n",
       "<style scoped>\n",
       "    .dataframe tbody tr th:only-of-type {\n",
       "        vertical-align: middle;\n",
       "    }\n",
       "\n",
       "    .dataframe tbody tr th {\n",
       "        vertical-align: top;\n",
       "    }\n",
       "\n",
       "    .dataframe thead th {\n",
       "        text-align: right;\n",
       "    }\n",
       "</style>\n",
       "<table border=\"1\" class=\"dataframe\">\n",
       "  <thead>\n",
       "    <tr style=\"text-align: right;\">\n",
       "      <th></th>\n",
       "      <th>movie_boxoffice</th>\n",
       "      <th>movie_budget</th>\n",
       "      <th>movie_cast</th>\n",
       "      <th>movie_categories</th>\n",
       "      <th>movie_countries</th>\n",
       "      <th>movie_director</th>\n",
       "      <th>movie_id</th>\n",
       "      <th>movie_imdb_metascore</th>\n",
       "      <th>movie_imdb_nb_of_ratings</th>\n",
       "      <th>movie_imdb_popularity</th>\n",
       "      <th>movie_imdb_rating</th>\n",
       "      <th>movie_length</th>\n",
       "      <th>movie_original_title</th>\n",
       "      <th>movie_poster</th>\n",
       "      <th>movie_production_companies</th>\n",
       "      <th>movie_synopsis</th>\n",
       "      <th>movie_title</th>\n",
       "      <th>movie_url</th>\n",
       "      <th>movie_us_boxoffice</th>\n",
       "      <th>release_date</th>\n",
       "      <th>year</th>\n",
       "      <th>total_tickets_sold_on_week1</th>\n",
       "    </tr>\n",
       "  </thead>\n",
       "  <tbody>\n",
       "    <tr>\n",
       "      <th>0</th>\n",
       "      <td>11208527.0</td>\n",
       "      <td>NaN</td>\n",
       "      <td>Lily Bird|Nicolas Cage|Julianne Nicholson|Jess...</td>\n",
       "      <td>Comédie|Horreur</td>\n",
       "      <td>États-Unis</td>\n",
       "      <td>Kristoffer Borgli</td>\n",
       "      <td>tt21942866</td>\n",
       "      <td>74.0</td>\n",
       "      <td>51000.0</td>\n",
       "      <td>47.0</td>\n",
       "      <td>7.0</td>\n",
       "      <td>102.0</td>\n",
       "      <td>NaN</td>\n",
       "      <td>https://m.media-amazon.com/images/M/MV5BYjA3Yj...</td>\n",
       "      <td>A24|Square Peg</td>\n",
       "      <td>Un père de famille infortuné voit sa vie boule...</td>\n",
       "      <td>Dream Scenario</td>\n",
       "      <td>https://www.imdb.com/title/tt21942866/</td>\n",
       "      <td>5742193.0</td>\n",
       "      <td>27-12-2023</td>\n",
       "      <td>2023.0</td>\n",
       "      <td>None</td>\n",
       "    </tr>\n",
       "    <tr>\n",
       "      <th>1</th>\n",
       "      <td>221026368.0</td>\n",
       "      <td>200000000.0</td>\n",
       "      <td>Joaquin Phoenix|Vanessa Kirby|Tahar Rahim|Rupe...</td>\n",
       "      <td>Action|Aventure|Biographique</td>\n",
       "      <td>États-Unis|Royaume-Uni</td>\n",
       "      <td>Ridley Scott</td>\n",
       "      <td>tt13287846</td>\n",
       "      <td>64.0</td>\n",
       "      <td>134000.0</td>\n",
       "      <td>72.0</td>\n",
       "      <td>6.4</td>\n",
       "      <td>158.0</td>\n",
       "      <td>Napoleon</td>\n",
       "      <td>https://m.media-amazon.com/images/M/MV5BMTI2Zj...</td>\n",
       "      <td>Apple Studios|Moving Picture Company (MPC)|Sco...</td>\n",
       "      <td>Offre un aperçu personnel des origines de Napo...</td>\n",
       "      <td>Napoléon</td>\n",
       "      <td>https://www.imdb.com/title/tt13287846/</td>\n",
       "      <td>61524375.0</td>\n",
       "      <td>22-11-2023</td>\n",
       "      <td>2023.0</td>\n",
       "      <td>764 419</td>\n",
       "    </tr>\n",
       "    <tr>\n",
       "      <th>2</th>\n",
       "      <td>45229548.0</td>\n",
       "      <td>NaN</td>\n",
       "      <td>Anthony Hopkins|Lena Olin|Johnny Flynn|Helena ...</td>\n",
       "      <td>Biographique|Drame|Historique</td>\n",
       "      <td>Royaume-Uni</td>\n",
       "      <td>James Hawes</td>\n",
       "      <td>tt13097932</td>\n",
       "      <td>69.0</td>\n",
       "      <td>14000.0</td>\n",
       "      <td>66.0</td>\n",
       "      <td>7.6</td>\n",
       "      <td>109.0</td>\n",
       "      <td>One Life</td>\n",
       "      <td>https://m.media-amazon.com/images/M/MV5BZWIxZD...</td>\n",
       "      <td>See-Saw Films|MBK Productions|BBC Film</td>\n",
       "      <td>Le film suit l'humanitaire britannique Nichola...</td>\n",
       "      <td>Une Vie</td>\n",
       "      <td>https://www.imdb.com/title/tt13097932/</td>\n",
       "      <td>4853486.0</td>\n",
       "      <td>21-02-2024</td>\n",
       "      <td>2023.0</td>\n",
       "      <td>439 255</td>\n",
       "    </tr>\n",
       "    <tr>\n",
       "      <th>3</th>\n",
       "      <td>567535383.0</td>\n",
       "      <td>291000000.0</td>\n",
       "      <td>Tom Cruise|Hayley Atwell|Ving Rhames|Simon Peg...</td>\n",
       "      <td>Action|Aventure|Thriller</td>\n",
       "      <td>États-Unis</td>\n",
       "      <td>Christopher McQuarrie</td>\n",
       "      <td>tt9603212</td>\n",
       "      <td>81.0</td>\n",
       "      <td>244000.0</td>\n",
       "      <td>100.0</td>\n",
       "      <td>7.7</td>\n",
       "      <td>163.0</td>\n",
       "      <td>Mission: Impossible - Dead Reckoning Part One</td>\n",
       "      <td>https://m.media-amazon.com/images/M/MV5BOGMxNW...</td>\n",
       "      <td>Paramount Pictures|Skydance Media|TC Productions</td>\n",
       "      <td>Une clef, déverrouillant un immense pouvoir, e...</td>\n",
       "      <td>Mission : Impossible - Dead Reckoning, Partie 1</td>\n",
       "      <td>https://www.imdb.com/title/tt9603212/</td>\n",
       "      <td>172135383.0</td>\n",
       "      <td>12-07-2023</td>\n",
       "      <td>2023.0</td>\n",
       "      <td>None</td>\n",
       "    </tr>\n",
       "    <tr>\n",
       "      <th>4</th>\n",
       "      <td>157026901.0</td>\n",
       "      <td>200000000.0</td>\n",
       "      <td>Leonardo DiCaprio|Robert De Niro|Lily Gladston...</td>\n",
       "      <td>Policier|Drame|Historique</td>\n",
       "      <td>États-Unis</td>\n",
       "      <td>Martin Scorsese</td>\n",
       "      <td>tt5537002</td>\n",
       "      <td>89.0</td>\n",
       "      <td>233000.0</td>\n",
       "      <td>53.0</td>\n",
       "      <td>7.6</td>\n",
       "      <td>206.0</td>\n",
       "      <td>NaN</td>\n",
       "      <td>https://m.media-amazon.com/images/M/MV5BMzI4Mm...</td>\n",
       "      <td>Apple Studios|Imperative Entertainment|Sikelia...</td>\n",
       "      <td>Des membres de la tribu Osage aux États-Unis s...</td>\n",
       "      <td>Killers Of The Flower Moon</td>\n",
       "      <td>https://www.imdb.com/title/tt5537002/</td>\n",
       "      <td>68026901.0</td>\n",
       "      <td>18-10-2023</td>\n",
       "      <td>2023.0</td>\n",
       "      <td>None</td>\n",
       "    </tr>\n",
       "    <tr>\n",
       "      <th>...</th>\n",
       "      <td>...</td>\n",
       "      <td>...</td>\n",
       "      <td>...</td>\n",
       "      <td>...</td>\n",
       "      <td>...</td>\n",
       "      <td>...</td>\n",
       "      <td>...</td>\n",
       "      <td>...</td>\n",
       "      <td>...</td>\n",
       "      <td>...</td>\n",
       "      <td>...</td>\n",
       "      <td>...</td>\n",
       "      <td>...</td>\n",
       "      <td>...</td>\n",
       "      <td>...</td>\n",
       "      <td>...</td>\n",
       "      <td>...</td>\n",
       "      <td>...</td>\n",
       "      <td>...</td>\n",
       "      <td>...</td>\n",
       "      <td>...</td>\n",
       "      <td>...</td>\n",
       "    </tr>\n",
       "    <tr>\n",
       "      <th>6727</th>\n",
       "      <td>NaN</td>\n",
       "      <td>NaN</td>\n",
       "      <td>René Collombat|Alix Bénézech|Serge Papagalli|I...</td>\n",
       "      <td>Comédie</td>\n",
       "      <td>France</td>\n",
       "      <td>Jean-Loup Martin</td>\n",
       "      <td>tt19798308</td>\n",
       "      <td>NaN</td>\n",
       "      <td>NaN</td>\n",
       "      <td>NaN</td>\n",
       "      <td>NaN</td>\n",
       "      <td>98.0</td>\n",
       "      <td>NaN</td>\n",
       "      <td>https://m.media-amazon.com/images/M/MV5BYmY5YT...</td>\n",
       "      <td>Cendrane Films</td>\n",
       "      <td>NaN</td>\n",
       "      <td>Le Pied Nickelé</td>\n",
       "      <td>https://www.imdb.com/title/tt19798308/</td>\n",
       "      <td>NaN</td>\n",
       "      <td>08-06-2022</td>\n",
       "      <td>2022.0</td>\n",
       "      <td>None</td>\n",
       "    </tr>\n",
       "    <tr>\n",
       "      <th>6728</th>\n",
       "      <td>NaN</td>\n",
       "      <td>NaN</td>\n",
       "      <td>Mamoudou Camara|Sory Kandia Kouyaté|Amy Boiro|...</td>\n",
       "      <td>Drame</td>\n",
       "      <td>France|Guinée</td>\n",
       "      <td>Gahité Fofana</td>\n",
       "      <td>tt0817959</td>\n",
       "      <td>NaN</td>\n",
       "      <td>34.0</td>\n",
       "      <td>NaN</td>\n",
       "      <td>6.8</td>\n",
       "      <td>75.0</td>\n",
       "      <td>NaN</td>\n",
       "      <td>https://m.media-amazon.com/images/M/MV5BOTVjND...</td>\n",
       "      <td>Arte France Cinéma|Bafila Films|Key Light</td>\n",
       "      <td>Yaguiné and Fodé, schoolboys who try in vain t...</td>\n",
       "      <td>Un Matin Bonne Heure</td>\n",
       "      <td>https://www.imdb.com/title/tt0817959/</td>\n",
       "      <td>NaN</td>\n",
       "      <td>23-11-2006</td>\n",
       "      <td>2006.0</td>\n",
       "      <td>None</td>\n",
       "    </tr>\n",
       "    <tr>\n",
       "      <th>6729</th>\n",
       "      <td>288128.0</td>\n",
       "      <td>NaN</td>\n",
       "      <td>Morjana Alaoui|Nadine Labaki|Hiam Abbass|Lubna...</td>\n",
       "      <td>Comédie|Drame</td>\n",
       "      <td>France|Maroc</td>\n",
       "      <td>Laïla Marrakchi</td>\n",
       "      <td>tt2524568</td>\n",
       "      <td>NaN</td>\n",
       "      <td>11000.0</td>\n",
       "      <td>NaN</td>\n",
       "      <td>6.5</td>\n",
       "      <td>100.0</td>\n",
       "      <td>NaN</td>\n",
       "      <td>https://m.media-amazon.com/images/M/MV5BM2FhNT...</td>\n",
       "      <td>Estrella Productions|Pathé|Agora Films</td>\n",
       "      <td>The whole family is reunited when Sofia comes ...</td>\n",
       "      <td>Rock The Casbah</td>\n",
       "      <td>https://www.imdb.com/title/tt2524568/</td>\n",
       "      <td>NaN</td>\n",
       "      <td>11-09-2013</td>\n",
       "      <td>2013.0</td>\n",
       "      <td>None</td>\n",
       "    </tr>\n",
       "    <tr>\n",
       "      <th>6731</th>\n",
       "      <td>6547983.0</td>\n",
       "      <td>10300000.0</td>\n",
       "      <td>Marion Cotillard|Louis Garrel|Alex Brendemühl|...</td>\n",
       "      <td>Drame|Romantique</td>\n",
       "      <td>France|Belgique|Canada|Espagne</td>\n",
       "      <td>Nicole Garcia</td>\n",
       "      <td>tt3794028</td>\n",
       "      <td>40.0</td>\n",
       "      <td>67000.0</td>\n",
       "      <td>NaN</td>\n",
       "      <td>6.6</td>\n",
       "      <td>120.0</td>\n",
       "      <td>NaN</td>\n",
       "      <td>https://m.media-amazon.com/images/M/MV5BN2Q2OT...</td>\n",
       "      <td>Trésor Films|StudioCanal|France 3 Cinéma</td>\n",
       "      <td>Dans les années 1950, Gabrielle est une femme ...</td>\n",
       "      <td>Mal De Pierres</td>\n",
       "      <td>https://www.imdb.com/title/tt3794028/</td>\n",
       "      <td>47748.0</td>\n",
       "      <td>19-10-2016</td>\n",
       "      <td>2016.0</td>\n",
       "      <td>None</td>\n",
       "    </tr>\n",
       "    <tr>\n",
       "      <th>6732</th>\n",
       "      <td>96992516.0</td>\n",
       "      <td>38000000.0</td>\n",
       "      <td>Daniel Brühl|Chris Hemsworth|Olivia Wilde|Alex...</td>\n",
       "      <td>Action|Biographique|Drame</td>\n",
       "      <td>Royaume-Uni|États-Unis</td>\n",
       "      <td>Ron Howard</td>\n",
       "      <td>tt1979320</td>\n",
       "      <td>74.0</td>\n",
       "      <td>512000.0</td>\n",
       "      <td>879.0</td>\n",
       "      <td>8.1</td>\n",
       "      <td>123.0</td>\n",
       "      <td>NaN</td>\n",
       "      <td>https://m.media-amazon.com/images/M/MV5BNGEyZG...</td>\n",
       "      <td>Exclusive Media Group|Cross Creek Pictures|Ima...</td>\n",
       "      <td>L'impitoyable rivalité des années 1970 entre J...</td>\n",
       "      <td>Rush</td>\n",
       "      <td>https://www.imdb.com/title/tt1979320/</td>\n",
       "      <td>26947624.0</td>\n",
       "      <td>25-09-2013</td>\n",
       "      <td>2013.0</td>\n",
       "      <td>149 696</td>\n",
       "    </tr>\n",
       "  </tbody>\n",
       "</table>\n",
       "<p>6009 rows × 22 columns</p>\n",
       "</div>"
      ],
      "text/plain": [
       "      movie_boxoffice  movie_budget  \\\n",
       "0          11208527.0           NaN   \n",
       "1         221026368.0   200000000.0   \n",
       "2          45229548.0           NaN   \n",
       "3         567535383.0   291000000.0   \n",
       "4         157026901.0   200000000.0   \n",
       "...               ...           ...   \n",
       "6727              NaN           NaN   \n",
       "6728              NaN           NaN   \n",
       "6729         288128.0           NaN   \n",
       "6731        6547983.0    10300000.0   \n",
       "6732       96992516.0    38000000.0   \n",
       "\n",
       "                                             movie_cast  \\\n",
       "0     Lily Bird|Nicolas Cage|Julianne Nicholson|Jess...   \n",
       "1     Joaquin Phoenix|Vanessa Kirby|Tahar Rahim|Rupe...   \n",
       "2     Anthony Hopkins|Lena Olin|Johnny Flynn|Helena ...   \n",
       "3     Tom Cruise|Hayley Atwell|Ving Rhames|Simon Peg...   \n",
       "4     Leonardo DiCaprio|Robert De Niro|Lily Gladston...   \n",
       "...                                                 ...   \n",
       "6727  René Collombat|Alix Bénézech|Serge Papagalli|I...   \n",
       "6728  Mamoudou Camara|Sory Kandia Kouyaté|Amy Boiro|...   \n",
       "6729  Morjana Alaoui|Nadine Labaki|Hiam Abbass|Lubna...   \n",
       "6731  Marion Cotillard|Louis Garrel|Alex Brendemühl|...   \n",
       "6732  Daniel Brühl|Chris Hemsworth|Olivia Wilde|Alex...   \n",
       "\n",
       "                   movie_categories                 movie_countries  \\\n",
       "0                   Comédie|Horreur                      États-Unis   \n",
       "1      Action|Aventure|Biographique          États-Unis|Royaume-Uni   \n",
       "2     Biographique|Drame|Historique                     Royaume-Uni   \n",
       "3          Action|Aventure|Thriller                      États-Unis   \n",
       "4         Policier|Drame|Historique                      États-Unis   \n",
       "...                             ...                             ...   \n",
       "6727                        Comédie                          France   \n",
       "6728                          Drame                   France|Guinée   \n",
       "6729                  Comédie|Drame                    France|Maroc   \n",
       "6731               Drame|Romantique  France|Belgique|Canada|Espagne   \n",
       "6732      Action|Biographique|Drame          Royaume-Uni|États-Unis   \n",
       "\n",
       "             movie_director    movie_id  movie_imdb_metascore  \\\n",
       "0         Kristoffer Borgli  tt21942866                  74.0   \n",
       "1              Ridley Scott  tt13287846                  64.0   \n",
       "2               James Hawes  tt13097932                  69.0   \n",
       "3     Christopher McQuarrie   tt9603212                  81.0   \n",
       "4           Martin Scorsese   tt5537002                  89.0   \n",
       "...                     ...         ...                   ...   \n",
       "6727       Jean-Loup Martin  tt19798308                   NaN   \n",
       "6728          Gahité Fofana   tt0817959                   NaN   \n",
       "6729        Laïla Marrakchi   tt2524568                   NaN   \n",
       "6731          Nicole Garcia   tt3794028                  40.0   \n",
       "6732             Ron Howard   tt1979320                  74.0   \n",
       "\n",
       "      movie_imdb_nb_of_ratings  movie_imdb_popularity  movie_imdb_rating  \\\n",
       "0                      51000.0                   47.0                7.0   \n",
       "1                     134000.0                   72.0                6.4   \n",
       "2                      14000.0                   66.0                7.6   \n",
       "3                     244000.0                  100.0                7.7   \n",
       "4                     233000.0                   53.0                7.6   \n",
       "...                        ...                    ...                ...   \n",
       "6727                       NaN                    NaN                NaN   \n",
       "6728                      34.0                    NaN                6.8   \n",
       "6729                   11000.0                    NaN                6.5   \n",
       "6731                   67000.0                    NaN                6.6   \n",
       "6732                  512000.0                  879.0                8.1   \n",
       "\n",
       "      movie_length                            movie_original_title  \\\n",
       "0            102.0                                             NaN   \n",
       "1            158.0                                        Napoleon   \n",
       "2            109.0                                        One Life   \n",
       "3            163.0   Mission: Impossible - Dead Reckoning Part One   \n",
       "4            206.0                                             NaN   \n",
       "...            ...                                             ...   \n",
       "6727          98.0                                             NaN   \n",
       "6728          75.0                                             NaN   \n",
       "6729         100.0                                             NaN   \n",
       "6731         120.0                                             NaN   \n",
       "6732         123.0                                             NaN   \n",
       "\n",
       "                                           movie_poster  \\\n",
       "0     https://m.media-amazon.com/images/M/MV5BYjA3Yj...   \n",
       "1     https://m.media-amazon.com/images/M/MV5BMTI2Zj...   \n",
       "2     https://m.media-amazon.com/images/M/MV5BZWIxZD...   \n",
       "3     https://m.media-amazon.com/images/M/MV5BOGMxNW...   \n",
       "4     https://m.media-amazon.com/images/M/MV5BMzI4Mm...   \n",
       "...                                                 ...   \n",
       "6727  https://m.media-amazon.com/images/M/MV5BYmY5YT...   \n",
       "6728  https://m.media-amazon.com/images/M/MV5BOTVjND...   \n",
       "6729  https://m.media-amazon.com/images/M/MV5BM2FhNT...   \n",
       "6731  https://m.media-amazon.com/images/M/MV5BN2Q2OT...   \n",
       "6732  https://m.media-amazon.com/images/M/MV5BNGEyZG...   \n",
       "\n",
       "                             movie_production_companies  \\\n",
       "0                                        A24|Square Peg   \n",
       "1     Apple Studios|Moving Picture Company (MPC)|Sco...   \n",
       "2                See-Saw Films|MBK Productions|BBC Film   \n",
       "3      Paramount Pictures|Skydance Media|TC Productions   \n",
       "4     Apple Studios|Imperative Entertainment|Sikelia...   \n",
       "...                                                 ...   \n",
       "6727                                     Cendrane Films   \n",
       "6728          Arte France Cinéma|Bafila Films|Key Light   \n",
       "6729             Estrella Productions|Pathé|Agora Films   \n",
       "6731           Trésor Films|StudioCanal|France 3 Cinéma   \n",
       "6732  Exclusive Media Group|Cross Creek Pictures|Ima...   \n",
       "\n",
       "                                         movie_synopsis  \\\n",
       "0     Un père de famille infortuné voit sa vie boule...   \n",
       "1     Offre un aperçu personnel des origines de Napo...   \n",
       "2     Le film suit l'humanitaire britannique Nichola...   \n",
       "3     Une clef, déverrouillant un immense pouvoir, e...   \n",
       "4     Des membres de la tribu Osage aux États-Unis s...   \n",
       "...                                                 ...   \n",
       "6727                                                NaN   \n",
       "6728  Yaguiné and Fodé, schoolboys who try in vain t...   \n",
       "6729  The whole family is reunited when Sofia comes ...   \n",
       "6731  Dans les années 1950, Gabrielle est une femme ...   \n",
       "6732  L'impitoyable rivalité des années 1970 entre J...   \n",
       "\n",
       "                                          movie_title  \\\n",
       "0                                      Dream Scenario   \n",
       "1                                            Napoléon   \n",
       "2                                             Une Vie   \n",
       "3     Mission : Impossible - Dead Reckoning, Partie 1   \n",
       "4                          Killers Of The Flower Moon   \n",
       "...                                               ...   \n",
       "6727                                  Le Pied Nickelé   \n",
       "6728                             Un Matin Bonne Heure   \n",
       "6729                                  Rock The Casbah   \n",
       "6731                                   Mal De Pierres   \n",
       "6732                                             Rush   \n",
       "\n",
       "                                   movie_url  movie_us_boxoffice release_date  \\\n",
       "0     https://www.imdb.com/title/tt21942866/           5742193.0   27-12-2023   \n",
       "1     https://www.imdb.com/title/tt13287846/          61524375.0   22-11-2023   \n",
       "2     https://www.imdb.com/title/tt13097932/           4853486.0   21-02-2024   \n",
       "3      https://www.imdb.com/title/tt9603212/         172135383.0   12-07-2023   \n",
       "4      https://www.imdb.com/title/tt5537002/          68026901.0   18-10-2023   \n",
       "...                                      ...                 ...          ...   \n",
       "6727  https://www.imdb.com/title/tt19798308/                 NaN   08-06-2022   \n",
       "6728   https://www.imdb.com/title/tt0817959/                 NaN   23-11-2006   \n",
       "6729   https://www.imdb.com/title/tt2524568/                 NaN   11-09-2013   \n",
       "6731   https://www.imdb.com/title/tt3794028/             47748.0   19-10-2016   \n",
       "6732   https://www.imdb.com/title/tt1979320/          26947624.0   25-09-2013   \n",
       "\n",
       "        year total_tickets_sold_on_week1  \n",
       "0     2023.0                        None  \n",
       "1     2023.0                     764 419  \n",
       "2     2023.0                     439 255  \n",
       "3     2023.0                        None  \n",
       "4     2023.0                        None  \n",
       "...      ...                         ...  \n",
       "6727  2022.0                        None  \n",
       "6728  2006.0                        None  \n",
       "6729  2013.0                        None  \n",
       "6731  2016.0                        None  \n",
       "6732  2013.0                     149 696  \n",
       "\n",
       "[6009 rows x 22 columns]"
      ]
     },
     "execution_count": 90,
     "metadata": {},
     "output_type": "execute_result"
    }
   ],
   "source": [
    "def get_matching_values(movie_title):\n",
    "    matching_values = target_df[target_df['Titre'].str.contains(movie_title)]['Entrées']\n",
    "    if not matching_values.empty:\n",
    "        if len(matching_values) < 1:\n",
    "            return ' '.join(map(str, matching_values))\n",
    "        else:\n",
    "            return matching_values.iloc[0]\n",
    "    else:\n",
    "        return None\n",
    "movies_data = movies.copy()\n",
    "# Appliquer la fonction pour chaque titre de film de df1\n",
    "movies_data['total_tickets_sold_on_week1'] = movies_data['movie_title'].apply(get_matching_values)\n",
    "movies_data"
   ]
  },
  {
   "cell_type": "code",
   "execution_count": 92,
   "metadata": {},
   "outputs": [
    {
     "data": {
      "text/html": [
       "<div>\n",
       "<style scoped>\n",
       "    .dataframe tbody tr th:only-of-type {\n",
       "        vertical-align: middle;\n",
       "    }\n",
       "\n",
       "    .dataframe tbody tr th {\n",
       "        vertical-align: top;\n",
       "    }\n",
       "\n",
       "    .dataframe thead th {\n",
       "        text-align: right;\n",
       "    }\n",
       "</style>\n",
       "<table border=\"1\" class=\"dataframe\">\n",
       "  <thead>\n",
       "    <tr style=\"text-align: right;\">\n",
       "      <th></th>\n",
       "      <th>movie_boxoffice</th>\n",
       "      <th>movie_budget</th>\n",
       "      <th>movie_cast</th>\n",
       "      <th>movie_categories</th>\n",
       "      <th>movie_countries</th>\n",
       "      <th>movie_director</th>\n",
       "      <th>movie_id</th>\n",
       "      <th>movie_imdb_metascore</th>\n",
       "      <th>movie_imdb_nb_of_ratings</th>\n",
       "      <th>movie_imdb_popularity</th>\n",
       "      <th>movie_imdb_rating</th>\n",
       "      <th>movie_length</th>\n",
       "      <th>movie_original_title</th>\n",
       "      <th>movie_poster</th>\n",
       "      <th>movie_production_companies</th>\n",
       "      <th>movie_synopsis</th>\n",
       "      <th>movie_title</th>\n",
       "      <th>movie_url</th>\n",
       "      <th>movie_us_boxoffice</th>\n",
       "      <th>release_date</th>\n",
       "      <th>year</th>\n",
       "      <th>total_tickets_sold_on_week1</th>\n",
       "    </tr>\n",
       "  </thead>\n",
       "  <tbody>\n",
       "    <tr>\n",
       "      <th>0</th>\n",
       "      <td>11208527.0</td>\n",
       "      <td>NaN</td>\n",
       "      <td>Lily Bird|Nicolas Cage|Julianne Nicholson|Jess...</td>\n",
       "      <td>Comédie|Horreur</td>\n",
       "      <td>États-Unis</td>\n",
       "      <td>Kristoffer Borgli</td>\n",
       "      <td>tt21942866</td>\n",
       "      <td>74.0</td>\n",
       "      <td>51000.0</td>\n",
       "      <td>47.0</td>\n",
       "      <td>7.0</td>\n",
       "      <td>102.0</td>\n",
       "      <td>NaN</td>\n",
       "      <td>https://m.media-amazon.com/images/M/MV5BYjA3Yj...</td>\n",
       "      <td>A24|Square Peg</td>\n",
       "      <td>Un père de famille infortuné voit sa vie boule...</td>\n",
       "      <td>Dream Scenario</td>\n",
       "      <td>https://www.imdb.com/title/tt21942866/</td>\n",
       "      <td>5742193.0</td>\n",
       "      <td>27-12-2023</td>\n",
       "      <td>2023.0</td>\n",
       "      <td>None</td>\n",
       "    </tr>\n",
       "    <tr>\n",
       "      <th>1</th>\n",
       "      <td>221026368.0</td>\n",
       "      <td>200000000.0</td>\n",
       "      <td>Joaquin Phoenix|Vanessa Kirby|Tahar Rahim|Rupe...</td>\n",
       "      <td>Action|Aventure|Biographique</td>\n",
       "      <td>États-Unis|Royaume-Uni</td>\n",
       "      <td>Ridley Scott</td>\n",
       "      <td>tt13287846</td>\n",
       "      <td>64.0</td>\n",
       "      <td>134000.0</td>\n",
       "      <td>72.0</td>\n",
       "      <td>6.4</td>\n",
       "      <td>158.0</td>\n",
       "      <td>Napoleon</td>\n",
       "      <td>https://m.media-amazon.com/images/M/MV5BMTI2Zj...</td>\n",
       "      <td>Apple Studios|Moving Picture Company (MPC)|Sco...</td>\n",
       "      <td>Offre un aperçu personnel des origines de Napo...</td>\n",
       "      <td>Napoléon</td>\n",
       "      <td>https://www.imdb.com/title/tt13287846/</td>\n",
       "      <td>61524375.0</td>\n",
       "      <td>22-11-2023</td>\n",
       "      <td>2023.0</td>\n",
       "      <td>764 419</td>\n",
       "    </tr>\n",
       "    <tr>\n",
       "      <th>2</th>\n",
       "      <td>45229548.0</td>\n",
       "      <td>NaN</td>\n",
       "      <td>Anthony Hopkins|Lena Olin|Johnny Flynn|Helena ...</td>\n",
       "      <td>Biographique|Drame|Historique</td>\n",
       "      <td>Royaume-Uni</td>\n",
       "      <td>James Hawes</td>\n",
       "      <td>tt13097932</td>\n",
       "      <td>69.0</td>\n",
       "      <td>14000.0</td>\n",
       "      <td>66.0</td>\n",
       "      <td>7.6</td>\n",
       "      <td>109.0</td>\n",
       "      <td>One Life</td>\n",
       "      <td>https://m.media-amazon.com/images/M/MV5BZWIxZD...</td>\n",
       "      <td>See-Saw Films|MBK Productions|BBC Film</td>\n",
       "      <td>Le film suit l'humanitaire britannique Nichola...</td>\n",
       "      <td>Une Vie</td>\n",
       "      <td>https://www.imdb.com/title/tt13097932/</td>\n",
       "      <td>4853486.0</td>\n",
       "      <td>21-02-2024</td>\n",
       "      <td>2023.0</td>\n",
       "      <td>439 255</td>\n",
       "    </tr>\n",
       "    <tr>\n",
       "      <th>3</th>\n",
       "      <td>567535383.0</td>\n",
       "      <td>291000000.0</td>\n",
       "      <td>Tom Cruise|Hayley Atwell|Ving Rhames|Simon Peg...</td>\n",
       "      <td>Action|Aventure|Thriller</td>\n",
       "      <td>États-Unis</td>\n",
       "      <td>Christopher McQuarrie</td>\n",
       "      <td>tt9603212</td>\n",
       "      <td>81.0</td>\n",
       "      <td>244000.0</td>\n",
       "      <td>100.0</td>\n",
       "      <td>7.7</td>\n",
       "      <td>163.0</td>\n",
       "      <td>Mission: Impossible - Dead Reckoning Part One</td>\n",
       "      <td>https://m.media-amazon.com/images/M/MV5BOGMxNW...</td>\n",
       "      <td>Paramount Pictures|Skydance Media|TC Productions</td>\n",
       "      <td>Une clef, déverrouillant un immense pouvoir, e...</td>\n",
       "      <td>Mission : Impossible - Dead Reckoning, Partie 1</td>\n",
       "      <td>https://www.imdb.com/title/tt9603212/</td>\n",
       "      <td>172135383.0</td>\n",
       "      <td>12-07-2023</td>\n",
       "      <td>2023.0</td>\n",
       "      <td>None</td>\n",
       "    </tr>\n",
       "    <tr>\n",
       "      <th>4</th>\n",
       "      <td>157026901.0</td>\n",
       "      <td>200000000.0</td>\n",
       "      <td>Leonardo DiCaprio|Robert De Niro|Lily Gladston...</td>\n",
       "      <td>Policier|Drame|Historique</td>\n",
       "      <td>États-Unis</td>\n",
       "      <td>Martin Scorsese</td>\n",
       "      <td>tt5537002</td>\n",
       "      <td>89.0</td>\n",
       "      <td>233000.0</td>\n",
       "      <td>53.0</td>\n",
       "      <td>7.6</td>\n",
       "      <td>206.0</td>\n",
       "      <td>NaN</td>\n",
       "      <td>https://m.media-amazon.com/images/M/MV5BMzI4Mm...</td>\n",
       "      <td>Apple Studios|Imperative Entertainment|Sikelia...</td>\n",
       "      <td>Des membres de la tribu Osage aux États-Unis s...</td>\n",
       "      <td>Killers Of The Flower Moon</td>\n",
       "      <td>https://www.imdb.com/title/tt5537002/</td>\n",
       "      <td>68026901.0</td>\n",
       "      <td>18-10-2023</td>\n",
       "      <td>2023.0</td>\n",
       "      <td>None</td>\n",
       "    </tr>\n",
       "    <tr>\n",
       "      <th>...</th>\n",
       "      <td>...</td>\n",
       "      <td>...</td>\n",
       "      <td>...</td>\n",
       "      <td>...</td>\n",
       "      <td>...</td>\n",
       "      <td>...</td>\n",
       "      <td>...</td>\n",
       "      <td>...</td>\n",
       "      <td>...</td>\n",
       "      <td>...</td>\n",
       "      <td>...</td>\n",
       "      <td>...</td>\n",
       "      <td>...</td>\n",
       "      <td>...</td>\n",
       "      <td>...</td>\n",
       "      <td>...</td>\n",
       "      <td>...</td>\n",
       "      <td>...</td>\n",
       "      <td>...</td>\n",
       "      <td>...</td>\n",
       "      <td>...</td>\n",
       "      <td>...</td>\n",
       "    </tr>\n",
       "    <tr>\n",
       "      <th>119</th>\n",
       "      <td>64120.0</td>\n",
       "      <td>NaN</td>\n",
       "      <td>Karin Anglin, Clé Bennett, John Eric Bentley, ...</td>\n",
       "      <td>Animation, Action, Aventure</td>\n",
       "      <td>Hongrie</td>\n",
       "      <td>Áron Gauder</td>\n",
       "      <td>tt11736638</td>\n",
       "      <td>NaN</td>\n",
       "      <td>414.0</td>\n",
       "      <td>NaN</td>\n",
       "      <td>7.3</td>\n",
       "      <td>103.0</td>\n",
       "      <td>Kojot Négy Lelke</td>\n",
       "      <td>https://m.media-amazon.com/images/M/MV5BOTYyNW...</td>\n",
       "      <td>Cinemon Entertainment</td>\n",
       "      <td>Native American protesters confront an oil pip...</td>\n",
       "      <td>Les 4 Âmes Du Coyote</td>\n",
       "      <td>https://www.imdb.com/title/tt11736638/?ref_=rlm</td>\n",
       "      <td>NaN</td>\n",
       "      <td>10-04-2024</td>\n",
       "      <td>NaN</td>\n",
       "      <td>NaN</td>\n",
       "    </tr>\n",
       "    <tr>\n",
       "      <th>120</th>\n",
       "      <td>NaN</td>\n",
       "      <td>NaN</td>\n",
       "      <td>Nell Tiger Free, Ralph Ineson, Sonia Braga, Ta...</td>\n",
       "      <td>Horreur</td>\n",
       "      <td>États-Unis, Italie, Royaume-Uni, Canada, Serbie</td>\n",
       "      <td>Arkasha Stevenson</td>\n",
       "      <td>tt5672290</td>\n",
       "      <td>64.0</td>\n",
       "      <td>19000.0</td>\n",
       "      <td>65.0</td>\n",
       "      <td>7.0</td>\n",
       "      <td>120.0</td>\n",
       "      <td>The First Omen</td>\n",
       "      <td>https://m.media-amazon.com/images/M/MV5BNWZkMm...</td>\n",
       "      <td>20th Century Studios, Phantom Four Films, Abbe...</td>\n",
       "      <td>Une jeune Américaine est envoyée à Rome pour c...</td>\n",
       "      <td>La Malédiction: L'Origine</td>\n",
       "      <td>https://www.imdb.com/title/tt5672290/?ref_=rlm</td>\n",
       "      <td>NaN</td>\n",
       "      <td>10-04-2024</td>\n",
       "      <td>NaN</td>\n",
       "      <td>NaN</td>\n",
       "    </tr>\n",
       "    <tr>\n",
       "      <th>121</th>\n",
       "      <td>NaN</td>\n",
       "      <td>NaN</td>\n",
       "      <td>NaN</td>\n",
       "      <td>Documentaire</td>\n",
       "      <td>France</td>\n",
       "      <td>Nicolas Philibert</td>\n",
       "      <td>tt31831104</td>\n",
       "      <td>NaN</td>\n",
       "      <td>NaN</td>\n",
       "      <td>NaN</td>\n",
       "      <td>NaN</td>\n",
       "      <td>72.0</td>\n",
       "      <td>NaN</td>\n",
       "      <td>https://m.media-amazon.com/images/M/MV5BOGE0OD...</td>\n",
       "      <td>TS Productions</td>\n",
       "      <td>NaN</td>\n",
       "      <td>La Machine À Écrire Et Autres Sources De Tracas</td>\n",
       "      <td>https://www.imdb.com/title/tt31831104/?ref_=rlm</td>\n",
       "      <td>NaN</td>\n",
       "      <td>17-04-2024</td>\n",
       "      <td>NaN</td>\n",
       "      <td>NaN</td>\n",
       "    </tr>\n",
       "    <tr>\n",
       "      <th>122</th>\n",
       "      <td>488140.0</td>\n",
       "      <td>100000.0</td>\n",
       "      <td>Alan Nehama, Dutch Welch, Aliya Campbell, Dona...</td>\n",
       "      <td>Drame</td>\n",
       "      <td>Mexique, États-Unis</td>\n",
       "      <td>Michel Franco</td>\n",
       "      <td>tt19864828</td>\n",
       "      <td>71.0</td>\n",
       "      <td>32000.0</td>\n",
       "      <td>936.0</td>\n",
       "      <td>6.6</td>\n",
       "      <td>103.0</td>\n",
       "      <td>NaN</td>\n",
       "      <td>https://m.media-amazon.com/images/M/MV5BODY0OW...</td>\n",
       "      <td>High Frequency Entertainment, Teorema, Case St...</td>\n",
       "      <td>Sylvia est une assistante sociale qui mène une...</td>\n",
       "      <td>Memory</td>\n",
       "      <td>https://www.imdb.com/title/tt19864828/?ref_=rlm</td>\n",
       "      <td>381052.0</td>\n",
       "      <td>29-05-2024</td>\n",
       "      <td>NaN</td>\n",
       "      <td>NaN</td>\n",
       "    </tr>\n",
       "    <tr>\n",
       "      <th>123</th>\n",
       "      <td>1674900.0</td>\n",
       "      <td>NaN</td>\n",
       "      <td>Santiago Sandoval, Fernando Cuautle, Esteban C...</td>\n",
       "      <td>Drame, Mystère, Thriller</td>\n",
       "      <td>Mexique, Suède</td>\n",
       "      <td>David Zonana</td>\n",
       "      <td>tt24079846</td>\n",
       "      <td>NaN</td>\n",
       "      <td>12000.0</td>\n",
       "      <td>NaN</td>\n",
       "      <td>6.8</td>\n",
       "      <td>88.0</td>\n",
       "      <td>NaN</td>\n",
       "      <td>https://m.media-amazon.com/images/M/MV5BYmQ4YT...</td>\n",
       "      <td>Filmadora, Film i Väst</td>\n",
       "      <td>Luis, un jeune homme de 18 ans aux racines ind...</td>\n",
       "      <td>Heroico</td>\n",
       "      <td>https://www.imdb.com/title/tt24079846/?ref_=rlm</td>\n",
       "      <td>NaN</td>\n",
       "      <td>22-05-2024</td>\n",
       "      <td>NaN</td>\n",
       "      <td>NaN</td>\n",
       "    </tr>\n",
       "  </tbody>\n",
       "</table>\n",
       "<p>6133 rows × 22 columns</p>\n",
       "</div>"
      ],
      "text/plain": [
       "     movie_boxoffice  movie_budget  \\\n",
       "0         11208527.0           NaN   \n",
       "1        221026368.0   200000000.0   \n",
       "2         45229548.0           NaN   \n",
       "3        567535383.0   291000000.0   \n",
       "4        157026901.0   200000000.0   \n",
       "..               ...           ...   \n",
       "119          64120.0           NaN   \n",
       "120              NaN           NaN   \n",
       "121              NaN           NaN   \n",
       "122         488140.0      100000.0   \n",
       "123        1674900.0           NaN   \n",
       "\n",
       "                                            movie_cast  \\\n",
       "0    Lily Bird|Nicolas Cage|Julianne Nicholson|Jess...   \n",
       "1    Joaquin Phoenix|Vanessa Kirby|Tahar Rahim|Rupe...   \n",
       "2    Anthony Hopkins|Lena Olin|Johnny Flynn|Helena ...   \n",
       "3    Tom Cruise|Hayley Atwell|Ving Rhames|Simon Peg...   \n",
       "4    Leonardo DiCaprio|Robert De Niro|Lily Gladston...   \n",
       "..                                                 ...   \n",
       "119  Karin Anglin, Clé Bennett, John Eric Bentley, ...   \n",
       "120  Nell Tiger Free, Ralph Ineson, Sonia Braga, Ta...   \n",
       "121                                                NaN   \n",
       "122  Alan Nehama, Dutch Welch, Aliya Campbell, Dona...   \n",
       "123  Santiago Sandoval, Fernando Cuautle, Esteban C...   \n",
       "\n",
       "                  movie_categories  \\\n",
       "0                  Comédie|Horreur   \n",
       "1     Action|Aventure|Biographique   \n",
       "2    Biographique|Drame|Historique   \n",
       "3         Action|Aventure|Thriller   \n",
       "4        Policier|Drame|Historique   \n",
       "..                             ...   \n",
       "119    Animation, Action, Aventure   \n",
       "120                        Horreur   \n",
       "121                   Documentaire   \n",
       "122                          Drame   \n",
       "123       Drame, Mystère, Thriller   \n",
       "\n",
       "                                     movie_countries         movie_director  \\\n",
       "0                                         États-Unis      Kristoffer Borgli   \n",
       "1                             États-Unis|Royaume-Uni           Ridley Scott   \n",
       "2                                        Royaume-Uni            James Hawes   \n",
       "3                                         États-Unis  Christopher McQuarrie   \n",
       "4                                         États-Unis        Martin Scorsese   \n",
       "..                                               ...                    ...   \n",
       "119                                          Hongrie            Áron Gauder   \n",
       "120  États-Unis, Italie, Royaume-Uni, Canada, Serbie      Arkasha Stevenson   \n",
       "121                                           France      Nicolas Philibert   \n",
       "122                              Mexique, États-Unis          Michel Franco   \n",
       "123                                   Mexique, Suède           David Zonana   \n",
       "\n",
       "       movie_id  movie_imdb_metascore  movie_imdb_nb_of_ratings  \\\n",
       "0    tt21942866                  74.0                   51000.0   \n",
       "1    tt13287846                  64.0                  134000.0   \n",
       "2    tt13097932                  69.0                   14000.0   \n",
       "3     tt9603212                  81.0                  244000.0   \n",
       "4     tt5537002                  89.0                  233000.0   \n",
       "..          ...                   ...                       ...   \n",
       "119  tt11736638                   NaN                     414.0   \n",
       "120   tt5672290                  64.0                   19000.0   \n",
       "121  tt31831104                   NaN                       NaN   \n",
       "122  tt19864828                  71.0                   32000.0   \n",
       "123  tt24079846                   NaN                   12000.0   \n",
       "\n",
       "     movie_imdb_popularity  movie_imdb_rating  movie_length  \\\n",
       "0                     47.0                7.0         102.0   \n",
       "1                     72.0                6.4         158.0   \n",
       "2                     66.0                7.6         109.0   \n",
       "3                    100.0                7.7         163.0   \n",
       "4                     53.0                7.6         206.0   \n",
       "..                     ...                ...           ...   \n",
       "119                    NaN                7.3         103.0   \n",
       "120                   65.0                7.0         120.0   \n",
       "121                    NaN                NaN          72.0   \n",
       "122                  936.0                6.6         103.0   \n",
       "123                    NaN                6.8          88.0   \n",
       "\n",
       "                               movie_original_title  \\\n",
       "0                                               NaN   \n",
       "1                                          Napoleon   \n",
       "2                                          One Life   \n",
       "3     Mission: Impossible - Dead Reckoning Part One   \n",
       "4                                               NaN   \n",
       "..                                              ...   \n",
       "119                                Kojot Négy Lelke   \n",
       "120                                  The First Omen   \n",
       "121                                             NaN   \n",
       "122                                             NaN   \n",
       "123                                             NaN   \n",
       "\n",
       "                                          movie_poster  \\\n",
       "0    https://m.media-amazon.com/images/M/MV5BYjA3Yj...   \n",
       "1    https://m.media-amazon.com/images/M/MV5BMTI2Zj...   \n",
       "2    https://m.media-amazon.com/images/M/MV5BZWIxZD...   \n",
       "3    https://m.media-amazon.com/images/M/MV5BOGMxNW...   \n",
       "4    https://m.media-amazon.com/images/M/MV5BMzI4Mm...   \n",
       "..                                                 ...   \n",
       "119  https://m.media-amazon.com/images/M/MV5BOTYyNW...   \n",
       "120  https://m.media-amazon.com/images/M/MV5BNWZkMm...   \n",
       "121  https://m.media-amazon.com/images/M/MV5BOGE0OD...   \n",
       "122  https://m.media-amazon.com/images/M/MV5BODY0OW...   \n",
       "123  https://m.media-amazon.com/images/M/MV5BYmQ4YT...   \n",
       "\n",
       "                            movie_production_companies  \\\n",
       "0                                       A24|Square Peg   \n",
       "1    Apple Studios|Moving Picture Company (MPC)|Sco...   \n",
       "2               See-Saw Films|MBK Productions|BBC Film   \n",
       "3     Paramount Pictures|Skydance Media|TC Productions   \n",
       "4    Apple Studios|Imperative Entertainment|Sikelia...   \n",
       "..                                                 ...   \n",
       "119                              Cinemon Entertainment   \n",
       "120  20th Century Studios, Phantom Four Films, Abbe...   \n",
       "121                                     TS Productions   \n",
       "122  High Frequency Entertainment, Teorema, Case St...   \n",
       "123                             Filmadora, Film i Väst   \n",
       "\n",
       "                                        movie_synopsis  \\\n",
       "0    Un père de famille infortuné voit sa vie boule...   \n",
       "1    Offre un aperçu personnel des origines de Napo...   \n",
       "2    Le film suit l'humanitaire britannique Nichola...   \n",
       "3    Une clef, déverrouillant un immense pouvoir, e...   \n",
       "4    Des membres de la tribu Osage aux États-Unis s...   \n",
       "..                                                 ...   \n",
       "119  Native American protesters confront an oil pip...   \n",
       "120  Une jeune Américaine est envoyée à Rome pour c...   \n",
       "121                                                NaN   \n",
       "122  Sylvia est une assistante sociale qui mène une...   \n",
       "123  Luis, un jeune homme de 18 ans aux racines ind...   \n",
       "\n",
       "                                         movie_title  \\\n",
       "0                                     Dream Scenario   \n",
       "1                                           Napoléon   \n",
       "2                                            Une Vie   \n",
       "3    Mission : Impossible - Dead Reckoning, Partie 1   \n",
       "4                         Killers Of The Flower Moon   \n",
       "..                                               ...   \n",
       "119                             Les 4 Âmes Du Coyote   \n",
       "120                        La Malédiction: L'Origine   \n",
       "121  La Machine À Écrire Et Autres Sources De Tracas   \n",
       "122                                           Memory   \n",
       "123                                          Heroico   \n",
       "\n",
       "                                           movie_url  movie_us_boxoffice  \\\n",
       "0             https://www.imdb.com/title/tt21942866/           5742193.0   \n",
       "1             https://www.imdb.com/title/tt13287846/          61524375.0   \n",
       "2             https://www.imdb.com/title/tt13097932/           4853486.0   \n",
       "3              https://www.imdb.com/title/tt9603212/         172135383.0   \n",
       "4              https://www.imdb.com/title/tt5537002/          68026901.0   \n",
       "..                                               ...                 ...   \n",
       "119  https://www.imdb.com/title/tt11736638/?ref_=rlm                 NaN   \n",
       "120   https://www.imdb.com/title/tt5672290/?ref_=rlm                 NaN   \n",
       "121  https://www.imdb.com/title/tt31831104/?ref_=rlm                 NaN   \n",
       "122  https://www.imdb.com/title/tt19864828/?ref_=rlm            381052.0   \n",
       "123  https://www.imdb.com/title/tt24079846/?ref_=rlm                 NaN   \n",
       "\n",
       "    release_date    year total_tickets_sold_on_week1  \n",
       "0     27-12-2023  2023.0                        None  \n",
       "1     22-11-2023  2023.0                     764 419  \n",
       "2     21-02-2024  2023.0                     439 255  \n",
       "3     12-07-2023  2023.0                        None  \n",
       "4     18-10-2023  2023.0                        None  \n",
       "..           ...     ...                         ...  \n",
       "119   10-04-2024     NaN                         NaN  \n",
       "120   10-04-2024     NaN                         NaN  \n",
       "121   17-04-2024     NaN                         NaN  \n",
       "122   29-05-2024     NaN                         NaN  \n",
       "123   22-05-2024     NaN                         NaN  \n",
       "\n",
       "[6133 rows x 22 columns]"
      ]
     },
     "execution_count": 92,
     "metadata": {},
     "output_type": "execute_result"
    }
   ],
   "source": [
    "merge = pd.concat([movies_data, upcoming_movies2])\n",
    "merge"
   ]
  },
  {
   "cell_type": "markdown",
   "metadata": {},
   "source": [
    "# EDA"
   ]
  },
  {
   "cell_type": "code",
   "execution_count": 104,
   "metadata": {},
   "outputs": [],
   "source": [
    "import matplotlib.pyplot as plt\n",
    "import seaborn as sns\n",
    "import pandas as pd"
   ]
  },
  {
   "cell_type": "code",
   "execution_count": 184,
   "metadata": {},
   "outputs": [],
   "source": [
    "#merge['year'] = merge['year'].fillna(0)\n",
    "merge['year'] = merge['year'].astype(int)"
   ]
  },
  {
   "cell_type": "code",
   "execution_count": 149,
   "metadata": {},
   "outputs": [
    {
     "data": {
      "text/html": [
       "<div>\n",
       "<style scoped>\n",
       "    .dataframe tbody tr th:only-of-type {\n",
       "        vertical-align: middle;\n",
       "    }\n",
       "\n",
       "    .dataframe tbody tr th {\n",
       "        vertical-align: top;\n",
       "    }\n",
       "\n",
       "    .dataframe thead th {\n",
       "        text-align: right;\n",
       "    }\n",
       "</style>\n",
       "<table border=\"1\" class=\"dataframe\">\n",
       "  <thead>\n",
       "    <tr style=\"text-align: right;\">\n",
       "      <th></th>\n",
       "      <th>movie_boxoffice</th>\n",
       "      <th>movie_budget</th>\n",
       "      <th>movie_cast</th>\n",
       "      <th>movie_categories</th>\n",
       "      <th>movie_countries</th>\n",
       "      <th>movie_director</th>\n",
       "      <th>movie_id</th>\n",
       "      <th>movie_imdb_metascore</th>\n",
       "      <th>movie_imdb_nb_of_ratings</th>\n",
       "      <th>movie_imdb_popularity</th>\n",
       "      <th>movie_imdb_rating</th>\n",
       "      <th>movie_length</th>\n",
       "      <th>movie_original_title</th>\n",
       "      <th>movie_poster</th>\n",
       "      <th>movie_production_companies</th>\n",
       "      <th>movie_synopsis</th>\n",
       "      <th>movie_title</th>\n",
       "      <th>movie_url</th>\n",
       "      <th>movie_us_boxoffice</th>\n",
       "      <th>release_date</th>\n",
       "      <th>year</th>\n",
       "      <th>total_tickets_sold_on_week1</th>\n",
       "    </tr>\n",
       "  </thead>\n",
       "  <tbody>\n",
       "    <tr>\n",
       "      <th>6496</th>\n",
       "      <td>123726688.0</td>\n",
       "      <td>15000000.0</td>\n",
       "      <td>Eddie Redmayne|Felicity Jones|Tom Prior|Sophie...</td>\n",
       "      <td>Biographique|Drame|Romantique</td>\n",
       "      <td>Royaume-Uni|Japon</td>\n",
       "      <td>James Marsh</td>\n",
       "      <td>tt2980516</td>\n",
       "      <td>71.0</td>\n",
       "      <td>481000.0</td>\n",
       "      <td>2225.0</td>\n",
       "      <td>7.7</td>\n",
       "      <td>123.0</td>\n",
       "      <td>The Theory of Everything</td>\n",
       "      <td>https://m.media-amazon.com/images/M/MV5BNWM1Yj...</td>\n",
       "      <td>Working Title Films|Dentsu Motion Pictures|Fuj...</td>\n",
       "      <td>Regard sur la relation entre le célèbre physic...</td>\n",
       "      <td>Une Merveilleuse Histoire Du Temps</td>\n",
       "      <td>https://www.imdb.com/title/tt2980516/</td>\n",
       "      <td>35893537.0</td>\n",
       "      <td>21-01-2015</td>\n",
       "      <td>2014</td>\n",
       "      <td>None</td>\n",
       "    </tr>\n",
       "    <tr>\n",
       "      <th>2265</th>\n",
       "      <td>NaN</td>\n",
       "      <td>NaN</td>\n",
       "      <td>Pierre Santini|Marc Duret|Alice Carel|Pascal L...</td>\n",
       "      <td>Comédie</td>\n",
       "      <td>France</td>\n",
       "      <td>Frédéric Cerulli</td>\n",
       "      <td>tt13335652</td>\n",
       "      <td>NaN</td>\n",
       "      <td>NaN</td>\n",
       "      <td>NaN</td>\n",
       "      <td>NaN</td>\n",
       "      <td>100.0</td>\n",
       "      <td>NaN</td>\n",
       "      <td>https://m.media-amazon.com/images/M/MV5BM2VhYW...</td>\n",
       "      <td>Les Films à Fleur de Peau|SMP</td>\n",
       "      <td>Pour les Castelli, les affaires vont mal et il...</td>\n",
       "      <td>Envol</td>\n",
       "      <td>https://www.imdb.com/title/tt13335652/</td>\n",
       "      <td>NaN</td>\n",
       "      <td>27-04-2022</td>\n",
       "      <td>2022</td>\n",
       "      <td>54 583</td>\n",
       "    </tr>\n",
       "  </tbody>\n",
       "</table>\n",
       "</div>"
      ],
      "text/plain": [
       "      movie_boxoffice  movie_budget  \\\n",
       "6496      123726688.0    15000000.0   \n",
       "2265              NaN           NaN   \n",
       "\n",
       "                                             movie_cast  \\\n",
       "6496  Eddie Redmayne|Felicity Jones|Tom Prior|Sophie...   \n",
       "2265  Pierre Santini|Marc Duret|Alice Carel|Pascal L...   \n",
       "\n",
       "                   movie_categories    movie_countries    movie_director  \\\n",
       "6496  Biographique|Drame|Romantique  Royaume-Uni|Japon       James Marsh   \n",
       "2265                        Comédie             France  Frédéric Cerulli   \n",
       "\n",
       "        movie_id  movie_imdb_metascore  movie_imdb_nb_of_ratings  \\\n",
       "6496   tt2980516                  71.0                  481000.0   \n",
       "2265  tt13335652                   NaN                       NaN   \n",
       "\n",
       "      movie_imdb_popularity  movie_imdb_rating  movie_length  \\\n",
       "6496                 2225.0                7.7         123.0   \n",
       "2265                    NaN                NaN         100.0   \n",
       "\n",
       "           movie_original_title  \\\n",
       "6496   The Theory of Everything   \n",
       "2265                        NaN   \n",
       "\n",
       "                                           movie_poster  \\\n",
       "6496  https://m.media-amazon.com/images/M/MV5BNWM1Yj...   \n",
       "2265  https://m.media-amazon.com/images/M/MV5BM2VhYW...   \n",
       "\n",
       "                             movie_production_companies  \\\n",
       "6496  Working Title Films|Dentsu Motion Pictures|Fuj...   \n",
       "2265                      Les Films à Fleur de Peau|SMP   \n",
       "\n",
       "                                         movie_synopsis  \\\n",
       "6496  Regard sur la relation entre le célèbre physic...   \n",
       "2265  Pour les Castelli, les affaires vont mal et il...   \n",
       "\n",
       "                             movie_title  \\\n",
       "6496  Une Merveilleuse Histoire Du Temps   \n",
       "2265                               Envol   \n",
       "\n",
       "                                   movie_url  movie_us_boxoffice release_date  \\\n",
       "6496   https://www.imdb.com/title/tt2980516/          35893537.0   21-01-2015   \n",
       "2265  https://www.imdb.com/title/tt13335652/                 NaN   27-04-2022   \n",
       "\n",
       "      year total_tickets_sold_on_week1  \n",
       "6496  2014                        None  \n",
       "2265  2022                      54 583  "
      ]
     },
     "execution_count": 149,
     "metadata": {},
     "output_type": "execute_result"
    }
   ],
   "source": [
    "merge.sample(2)"
   ]
  },
  {
   "cell_type": "markdown",
   "metadata": {},
   "source": [
    "## Univariate Analysis"
   ]
  },
  {
   "cell_type": "markdown",
   "metadata": {},
   "source": [
    "#### MOVIE BOXOFFICE"
   ]
  },
  {
   "cell_type": "code",
   "execution_count": 109,
   "metadata": {},
   "outputs": [
    {
     "data": {
      "image/png": "[encoded data removed]",
      "text/plain": [
       "<Figure size 640x480 with 1 Axes>"
      ]
     },
     "metadata": {},
     "output_type": "display_data"
    }
   ],
   "source": [
    "sns.boxenplot(merge.movie_boxoffice, color='cadetblue')\n",
    "plt.title(\"MOVIE BOX OFFICE DISTRIBUTION\")\n",
    "plt.yscale('log')\n",
    "plt.show()"
   ]
  },
  {
   "cell_type": "code",
   "execution_count": 224,
   "metadata": {},
   "outputs": [
    {
     "name": "stdout",
     "output_type": "stream",
     "text": [
      "Il y a 2256 films sans movie_boxoffice dans le dataset\n"
     ]
    }
   ],
   "source": [
    "nan = merge.movie_boxoffice.isna().sum()\n",
    "print(f'Il y a {nan} films sans movie_boxoffice dans le dataset')"
   ]
  },
  {
   "cell_type": "markdown",
   "metadata": {},
   "source": [
    "#### MOVIE BUDGET"
   ]
  },
  {
   "cell_type": "code",
   "execution_count": null,
   "metadata": {},
   "outputs": [],
   "source": [
    "# Attention, il y avait un problème de conversion des budgets non américains donc j'ai tout laissé tel quel\n",
    "# Il faudrait peut-être les convertir via pandas & rescraper ces données en enlevant le nettoyage de cette variable dans les pipelines\n",
    "# Supprimer les budgets inférieurs à un certain seuil?"
   ]
  },
  {
   "cell_type": "code",
   "execution_count": 96,
   "metadata": {},
   "outputs": [
    {
     "data": {
      "text/plain": [
       "count    2.005000e+03\n",
       "mean     2.099514e+07\n",
       "std      6.171521e+07\n",
       "min      1.000000e+00\n",
       "25%      1.900000e+06\n",
       "50%      5.800000e+06\n",
       "75%      1.680000e+07\n",
       "max      1.800000e+09\n",
       "Name: movie_budget, dtype: float64"
      ]
     },
     "execution_count": 96,
     "metadata": {},
     "output_type": "execute_result"
    }
   ],
   "source": [
    "merge.movie_budget.describe()"
   ]
  },
  {
   "cell_type": "code",
   "execution_count": 107,
   "metadata": {},
   "outputs": [
    {
     "data": {
      "image/png": "[encoded data removed]",
      "text/plain": [
       "<Figure size 640x480 with 1 Axes>"
      ]
     },
     "metadata": {},
     "output_type": "display_data"
    }
   ],
   "source": [
    "sns.boxenplot(merge.movie_budget, color='cadetblue')\n",
    "plt.title(\"MOVIE BUDGETS DISTRIBUTION\")\n",
    "plt.yscale('log')\n",
    "plt.show()"
   ]
  },
  {
   "cell_type": "code",
   "execution_count": 223,
   "metadata": {},
   "outputs": [
    {
     "name": "stdout",
     "output_type": "stream",
     "text": [
      "Il y a 4128 films sans movie_budget dans le dataset\n"
     ]
    }
   ],
   "source": [
    "nan = merge.movie_budget.isna().sum()\n",
    "print(f'Il y a {nan} films sans movie_budget dans le dataset')"
   ]
  },
  {
   "cell_type": "markdown",
   "metadata": {},
   "source": [
    "#### MOVIE CAST"
   ]
  },
  {
   "cell_type": "code",
   "execution_count": 110,
   "metadata": {},
   "outputs": [],
   "source": [
    "# Que faire?"
   ]
  },
  {
   "cell_type": "code",
   "execution_count": 111,
   "metadata": {},
   "outputs": [
    {
     "data": {
      "text/plain": [
       "count                               6079\n",
       "unique                              6077\n",
       "top       \"Timmy DArnay\"|Marine Hoepfner\n",
       "freq                                   2\n",
       "Name: movie_cast, dtype: object"
      ]
     },
     "execution_count": 111,
     "metadata": {},
     "output_type": "execute_result"
    }
   ],
   "source": [
    "merge.movie_cast.describe()"
   ]
  },
  {
   "cell_type": "code",
   "execution_count": 222,
   "metadata": {},
   "outputs": [
    {
     "name": "stdout",
     "output_type": "stream",
     "text": [
      "Il y a 54 films sans movie_cast dans le dataset\n"
     ]
    }
   ],
   "source": [
    "nan = merge.movie_cast.isna().sum()\n",
    "print(f'Il y a {nan} films sans movie_cast dans le dataset')"
   ]
  },
  {
   "cell_type": "markdown",
   "metadata": {},
   "source": [
    "#### MOVIE CATEGORIES"
   ]
  },
  {
   "cell_type": "code",
   "execution_count": 112,
   "metadata": {},
   "outputs": [],
   "source": [
    "# Que faire?"
   ]
  },
  {
   "cell_type": "code",
   "execution_count": 113,
   "metadata": {},
   "outputs": [
    {
     "data": {
      "text/plain": [
       "count      6127\n",
       "unique      394\n",
       "top       Drame\n",
       "freq       1555\n",
       "Name: movie_categories, dtype: object"
      ]
     },
     "execution_count": 113,
     "metadata": {},
     "output_type": "execute_result"
    }
   ],
   "source": [
    "merge.movie_categories.describe()"
   ]
  },
  {
   "cell_type": "code",
   "execution_count": 221,
   "metadata": {},
   "outputs": [
    {
     "name": "stdout",
     "output_type": "stream",
     "text": [
      "Il y a 6 films sans movie_categories dans le dataset\n"
     ]
    }
   ],
   "source": [
    "nan = merge.movie_categories.isna().sum()\n",
    "print(f'Il y a {nan} films sans movie_categories dans le dataset')"
   ]
  },
  {
   "cell_type": "markdown",
   "metadata": {},
   "source": [
    "#### MOVIE COUNTRIES"
   ]
  },
  {
   "cell_type": "code",
   "execution_count": 114,
   "metadata": {},
   "outputs": [
    {
     "data": {
      "text/plain": [
       "count       6124\n",
       "unique       924\n",
       "top       France\n",
       "freq        3150\n",
       "Name: movie_countries, dtype: object"
      ]
     },
     "execution_count": 114,
     "metadata": {},
     "output_type": "execute_result"
    }
   ],
   "source": [
    "merge.movie_countries.describe()"
   ]
  },
  {
   "cell_type": "code",
   "execution_count": 220,
   "metadata": {},
   "outputs": [
    {
     "name": "stdout",
     "output_type": "stream",
     "text": [
      "Il y a 9 films sans movie_countries dans le dataset\n"
     ]
    }
   ],
   "source": [
    "nan = merge.movie_countries.isna().sum()\n",
    "print(f'Il y a {nan} films sans movie_countries dans le dataset')"
   ]
  },
  {
   "cell_type": "markdown",
   "metadata": {},
   "source": [
    "#### MOVIE DIRECTORS"
   ]
  },
  {
   "cell_type": "code",
   "execution_count": 219,
   "metadata": {},
   "outputs": [
    {
     "name": "stdout",
     "output_type": "stream",
     "text": [
      "Il y a 22 films sans movie_director dans le dataset\n"
     ]
    }
   ],
   "source": [
    "nan = merge.movie_director.isna().sum()\n",
    "print(f'Il y a {nan} films sans movie_director dans le dataset')"
   ]
  },
  {
   "cell_type": "code",
   "execution_count": 115,
   "metadata": {},
   "outputs": [
    {
     "data": {
      "text/plain": [
       "count                  6111\n",
       "unique                 3616\n",
       "top       Jean-Pierre Mocky\n",
       "freq                     25\n",
       "Name: movie_director, dtype: object"
      ]
     },
     "execution_count": 115,
     "metadata": {},
     "output_type": "execute_result"
    }
   ],
   "source": [
    "merge.movie_director.describe()"
   ]
  },
  {
   "cell_type": "code",
   "execution_count": 129,
   "metadata": {},
   "outputs": [
    {
     "data": {
      "image/png": "[encoded data removed]",
      "text/plain": [
       "<Figure size 2000x1000 with 1 Axes>"
      ]
     },
     "metadata": {},
     "output_type": "display_data"
    }
   ],
   "source": [
    "test = merge.groupby(\"movie_director\").count().reset_index()\n",
    "test = test.rename(columns={\"movie_boxoffice\": \"Total\"})\n",
    "test_top = test.sort_values(by=\"Total\", ascending=False).head(20)\n",
    "test_top = test_top[[\"movie_director\", \"Total\"]]\n",
    "plt.figure(figsize=(20,10))\n",
    "plt.title(\"TOP 20 DIRECTORS WITH THE MOST FILMS DIRECTED SINCE YEAR 2000\")\n",
    "sns.barplot(test_top, x='movie_director', y=\"Total\", hue=\"movie_director\", palette=\"Blues_r\", legend=False)\n",
    "plt.xticks(rotation='vertical')\n",
    "plt.ylabel('NUMBER OF MOVIES')\n",
    "plt.xlabel('')\n",
    "plt.show()"
   ]
  },
  {
   "cell_type": "markdown",
   "metadata": {},
   "source": [
    "#### MOVIE ID"
   ]
  },
  {
   "cell_type": "code",
   "execution_count": 130,
   "metadata": {},
   "outputs": [],
   "source": [
    "# Que faire?"
   ]
  },
  {
   "cell_type": "code",
   "execution_count": 218,
   "metadata": {},
   "outputs": [
    {
     "name": "stdout",
     "output_type": "stream",
     "text": [
      "Il y a 0 films sans movie_id dans le dataset\n"
     ]
    }
   ],
   "source": [
    "nan = merge.movie_id.isna().sum()\n",
    "print(f'Il y a {nan} films sans movie_id dans le dataset')"
   ]
  },
  {
   "cell_type": "markdown",
   "metadata": {},
   "source": [
    "#### MOVIE METASCORE"
   ]
  },
  {
   "cell_type": "code",
   "execution_count": 131,
   "metadata": {},
   "outputs": [
    {
     "data": {
      "text/plain": [
       "count    1505.000000\n",
       "mean       63.069103\n",
       "std        15.093080\n",
       "min        10.000000\n",
       "25%        53.000000\n",
       "50%        64.000000\n",
       "75%        74.000000\n",
       "max        96.000000\n",
       "Name: movie_imdb_metascore, dtype: float64"
      ]
     },
     "execution_count": 131,
     "metadata": {},
     "output_type": "execute_result"
    }
   ],
   "source": [
    "merge.movie_imdb_metascore.describe()"
   ]
  },
  {
   "cell_type": "code",
   "execution_count": 136,
   "metadata": {},
   "outputs": [
    {
     "data": {
      "image/png": "[encoded data removed]",
      "text/plain": [
       "<Figure size 640x480 with 1 Axes>"
      ]
     },
     "metadata": {},
     "output_type": "display_data"
    }
   ],
   "source": [
    "sns.boxenplot(merge.movie_imdb_metascore, color='cadetblue')\n",
    "plt.title(\"METASCORES DISTRIBUTION\")\n",
    "plt.ylabel('METASCORE')\n",
    "plt.show()"
   ]
  },
  {
   "cell_type": "code",
   "execution_count": 217,
   "metadata": {},
   "outputs": [
    {
     "name": "stdout",
     "output_type": "stream",
     "text": [
      "Il y a 4628 films sans movie_imdb_metascore dans le dataset\n"
     ]
    }
   ],
   "source": [
    "nan = merge.movie_imdb_metascore.isna().sum()\n",
    "print(f'Il y a {nan} films sans movie_imdb_metascore dans le dataset')"
   ]
  },
  {
   "cell_type": "markdown",
   "metadata": {},
   "source": [
    "#### MOVIE NUMBER OF RATINGS METASCORE"
   ]
  },
  {
   "cell_type": "code",
   "execution_count": 137,
   "metadata": {},
   "outputs": [
    {
     "data": {
      "text/plain": [
       "count    5.535000e+03\n",
       "mean     4.487842e+04\n",
       "std      5.798381e+05\n",
       "min      5.000000e+00\n",
       "25%      1.525000e+02\n",
       "50%      5.920000e+02\n",
       "75%      1.900000e+04\n",
       "max      2.500000e+07\n",
       "Name: movie_imdb_nb_of_ratings, dtype: float64"
      ]
     },
     "execution_count": 137,
     "metadata": {},
     "output_type": "execute_result"
    }
   ],
   "source": [
    "merge.movie_imdb_nb_of_ratings.describe()"
   ]
  },
  {
   "cell_type": "code",
   "execution_count": 143,
   "metadata": {},
   "outputs": [
    {
     "data": {
      "image/png": "[encoded data removed]",
      "text/plain": [
       "<Figure size 640x480 with 1 Axes>"
      ]
     },
     "metadata": {},
     "output_type": "display_data"
    }
   ],
   "source": [
    "sns.boxenplot(merge.movie_imdb_nb_of_ratings, color='cadetblue')\n",
    "plt.yscale('log')\n",
    "plt.title('NUMBER OF METASCORE RATINGS DISTRIBUTION')\n",
    "plt.ylabel('')\n",
    "plt.show()"
   ]
  },
  {
   "cell_type": "code",
   "execution_count": 215,
   "metadata": {},
   "outputs": [
    {
     "name": "stdout",
     "output_type": "stream",
     "text": [
      "Il y a 598 films sans movie_imdb_nb_of_ratings dans le dataset\n"
     ]
    }
   ],
   "source": [
    "nan = merge.movie_imdb_nb_of_ratings.isna().sum()\n",
    "print(f'Il y a {nan} films sans movie_imdb_nb_of_ratings dans le dataset')"
   ]
  },
  {
   "cell_type": "markdown",
   "metadata": {},
   "source": [
    "#### MOVIE IMDB POPULARITY"
   ]
  },
  {
   "cell_type": "code",
   "execution_count": 144,
   "metadata": {},
   "outputs": [
    {
     "data": {
      "text/plain": [
       "count     425.000000\n",
       "mean     1984.809412\n",
       "std      1384.424826\n",
       "min         4.000000\n",
       "25%       825.000000\n",
       "50%      1666.000000\n",
       "75%      3053.000000\n",
       "max      4976.000000\n",
       "Name: movie_imdb_popularity, dtype: float64"
      ]
     },
     "execution_count": 144,
     "metadata": {},
     "output_type": "execute_result"
    }
   ],
   "source": [
    "merge.movie_imdb_popularity.describe()"
   ]
  },
  {
   "cell_type": "code",
   "execution_count": 213,
   "metadata": {},
   "outputs": [
    {
     "data": {
      "image/png": "[encoded data removed]",
      "text/plain": [
       "<Figure size 640x480 with 1 Axes>"
      ]
     },
     "metadata": {},
     "output_type": "display_data"
    }
   ],
   "source": [
    "sns.boxenplot(merge.movie_imdb_popularity, color='cadetblue')\n",
    "plt.ylabel(\"\")\n",
    "plt.show()"
   ]
  },
  {
   "cell_type": "code",
   "execution_count": 212,
   "metadata": {},
   "outputs": [
    {
     "name": "stdout",
     "output_type": "stream",
     "text": [
      "Il y a 5708 films sans movie_imdb_popularity dans le dataset\n"
     ]
    }
   ],
   "source": [
    "nan = merge.movie_imdb_popularity.isna().sum()\n",
    "print(f'Il y a {nan} films sans movie_imdb_popularity dans le dataset')"
   ]
  },
  {
   "cell_type": "markdown",
   "metadata": {},
   "source": [
    "#### MOVIE IMDB RATING"
   ]
  },
  {
   "cell_type": "code",
   "execution_count": 150,
   "metadata": {},
   "outputs": [
    {
     "data": {
      "text/plain": [
       "count    5535.000000\n",
       "mean        6.097651\n",
       "std         0.913384\n",
       "min         1.800000\n",
       "25%         5.500000\n",
       "50%         6.200000\n",
       "75%         6.700000\n",
       "max        10.000000\n",
       "Name: movie_imdb_rating, dtype: float64"
      ]
     },
     "execution_count": 150,
     "metadata": {},
     "output_type": "execute_result"
    }
   ],
   "source": [
    "merge.movie_imdb_rating.describe()"
   ]
  },
  {
   "cell_type": "code",
   "execution_count": 152,
   "metadata": {},
   "outputs": [
    {
     "data": {
      "image/png": "[encoded data removed]",
      "text/plain": [
       "<Figure size 640x480 with 1 Axes>"
      ]
     },
     "metadata": {},
     "output_type": "display_data"
    }
   ],
   "source": [
    "sns.boxenplot(merge.movie_imdb_rating, color='cadetblue')\n",
    "plt.title('IMDB RATINGS DISTRIBUTION')\n",
    "plt.ylabel('')\n",
    "plt.show()"
   ]
  },
  {
   "cell_type": "code",
   "execution_count": 211,
   "metadata": {},
   "outputs": [
    {
     "name": "stdout",
     "output_type": "stream",
     "text": [
      "Il y a 598 films sans movie_imdb_rating dans le dataset\n"
     ]
    }
   ],
   "source": [
    "nan = merge.movie_imdb_rating.isna().sum()\n",
    "print(f'Il y a {nan} films sans movie_imdb_rating dans le dataset')"
   ]
  },
  {
   "cell_type": "markdown",
   "metadata": {},
   "source": [
    "#### MOVIE LENGTH"
   ]
  },
  {
   "cell_type": "code",
   "execution_count": 153,
   "metadata": {},
   "outputs": [
    {
     "data": {
      "text/plain": [
       "count    5930.000000\n",
       "mean       97.781113\n",
       "std        19.380209\n",
       "min        12.000000\n",
       "25%        88.000000\n",
       "50%        96.000000\n",
       "75%       106.000000\n",
       "max       345.000000\n",
       "Name: movie_length, dtype: float64"
      ]
     },
     "execution_count": 153,
     "metadata": {},
     "output_type": "execute_result"
    }
   ],
   "source": [
    "merge.movie_length.describe()"
   ]
  },
  {
   "cell_type": "code",
   "execution_count": 156,
   "metadata": {},
   "outputs": [
    {
     "data": {
      "image/png": "[encoded data removed]",
      "text/plain": [
       "<Figure size 640x480 with 1 Axes>"
      ]
     },
     "metadata": {},
     "output_type": "display_data"
    }
   ],
   "source": [
    "sns.boxenplot(merge.movie_length, color='cadetblue')\n",
    "plt.title('MOVIE DURATIONS DISTRIBUTION')\n",
    "plt.ylabel('MOVIE DURATIONS IN MINUTES')\n",
    "plt.show()"
   ]
  },
  {
   "cell_type": "code",
   "execution_count": 210,
   "metadata": {},
   "outputs": [
    {
     "name": "stdout",
     "output_type": "stream",
     "text": [
      "Il y a 203 films sans movie_length dans le dataset\n"
     ]
    }
   ],
   "source": [
    "nan = merge.movie_length.isna().sum()\n",
    "print(f'Il y a {nan} films sans movie_length dans le dataset')"
   ]
  },
  {
   "cell_type": "markdown",
   "metadata": {},
   "source": [
    "#### MOVIE ORIGINAL TITLE"
   ]
  },
  {
   "cell_type": "code",
   "execution_count": 159,
   "metadata": {},
   "outputs": [],
   "source": [
    "# Que faire?"
   ]
  },
  {
   "cell_type": "code",
   "execution_count": 157,
   "metadata": {},
   "outputs": [
    {
     "data": {
      "text/plain": [
       "count                1186\n",
       "unique               1182\n",
       "top        Les invisibles\n",
       "freq                    2\n",
       "Name: movie_original_title, dtype: object"
      ]
     },
     "execution_count": 157,
     "metadata": {},
     "output_type": "execute_result"
    }
   ],
   "source": [
    "merge.movie_original_title.describe()"
   ]
  },
  {
   "cell_type": "code",
   "execution_count": 209,
   "metadata": {},
   "outputs": [
    {
     "name": "stdout",
     "output_type": "stream",
     "text": [
      "Il y a 4947 films sans movie_original_title dans le dataset\n"
     ]
    }
   ],
   "source": [
    "nan = merge.movie_original_title.isna().sum()\n",
    "print(f'Il y a {nan} films sans movie_original_title dans le dataset')"
   ]
  },
  {
   "cell_type": "markdown",
   "metadata": {},
   "source": [
    "#### MOVIE POSTER"
   ]
  },
  {
   "cell_type": "code",
   "execution_count": 160,
   "metadata": {},
   "outputs": [],
   "source": [
    "# Que faire?"
   ]
  },
  {
   "cell_type": "code",
   "execution_count": 208,
   "metadata": {},
   "outputs": [
    {
     "name": "stdout",
     "output_type": "stream",
     "text": [
      "Il y a 28 films sans movie_poster dans le dataset\n"
     ]
    }
   ],
   "source": [
    "nan = merge.movie_poster.isna().sum()\n",
    "print(f'Il y a {nan} films sans movie_poster dans le dataset')"
   ]
  },
  {
   "cell_type": "markdown",
   "metadata": {},
   "source": [
    "#### MOVIE PRODUCTION COMPANIES"
   ]
  },
  {
   "cell_type": "code",
   "execution_count": 161,
   "metadata": {},
   "outputs": [],
   "source": [
    "# Que faire?"
   ]
  },
  {
   "cell_type": "code",
   "execution_count": 162,
   "metadata": {},
   "outputs": [
    {
     "data": {
      "text/plain": [
       "count                               5885\n",
       "unique                              5426\n",
       "top       Mocky Delicious Products (MDP)\n",
       "freq                                  16\n",
       "Name: movie_production_companies, dtype: object"
      ]
     },
     "execution_count": 162,
     "metadata": {},
     "output_type": "execute_result"
    }
   ],
   "source": [
    "merge.movie_production_companies.describe()"
   ]
  },
  {
   "cell_type": "code",
   "execution_count": 207,
   "metadata": {},
   "outputs": [
    {
     "name": "stdout",
     "output_type": "stream",
     "text": [
      "Il y a 248 films sans movie_production_companies dans le dataset\n"
     ]
    }
   ],
   "source": [
    "nan = merge.movie_production_companies.isna().sum()\n",
    "print(f'Il y a {nan} films sans movie_production_companies dans le dataset')"
   ]
  },
  {
   "cell_type": "code",
   "execution_count": 166,
   "metadata": {},
   "outputs": [
    {
     "data": {
      "image/png": "[encoded data removed]",
      "text/plain": [
       "<Figure size 2000x1000 with 1 Axes>"
      ]
     },
     "metadata": {},
     "output_type": "display_data"
    }
   ],
   "source": [
    "test = merge.groupby(\"movie_production_companies\").count().reset_index()\n",
    "test = test.rename(columns={\"movie_boxoffice\": \"Total\"})\n",
    "test_top = test.sort_values(by=\"Total\", ascending=False).head(20)\n",
    "test_top = test_top[[\"movie_production_companies\", \"Total\"]]\n",
    "plt.figure(figsize=(20,10))\n",
    "plt.title(\"TOP 20 MOVIE PRODUCTION COMPANIES WITH THE MOST FILMS PRODUCED SINCE YEAR 2000\")\n",
    "sns.barplot(test_top, x='movie_production_companies', y=\"Total\", hue=\"movie_production_companies\", palette=\"Blues_r\", legend=False)\n",
    "plt.xticks(rotation='vertical')\n",
    "plt.ylabel('NUMBER OF MOVIES')\n",
    "plt.xlabel('')\n",
    "plt.show()"
   ]
  },
  {
   "cell_type": "markdown",
   "metadata": {},
   "source": [
    "#### MOVIE SYNOPSIS"
   ]
  },
  {
   "cell_type": "code",
   "execution_count": 167,
   "metadata": {},
   "outputs": [],
   "source": [
    "# Que faire?"
   ]
  },
  {
   "cell_type": "code",
   "execution_count": 169,
   "metadata": {},
   "outputs": [
    {
     "data": {
      "text/plain": [
       "count              5657\n",
       "unique             5632\n",
       "top       Plot inconnu.\n",
       "freq                  4\n",
       "Name: movie_synopsis, dtype: object"
      ]
     },
     "execution_count": 169,
     "metadata": {},
     "output_type": "execute_result"
    }
   ],
   "source": [
    "merge.movie_synopsis.describe()"
   ]
  },
  {
   "cell_type": "code",
   "execution_count": 206,
   "metadata": {},
   "outputs": [
    {
     "name": "stdout",
     "output_type": "stream",
     "text": [
      "Il y a 476 films sans movie_synopsis dans le dataset\n"
     ]
    }
   ],
   "source": [
    "nan = merge.movie_synopsis.isna().sum()\n",
    "print(f'Il y a {nan} films sans movie_synopsis dans le dataset')"
   ]
  },
  {
   "cell_type": "markdown",
   "metadata": {},
   "source": [
    "#### MOVIE TITLE"
   ]
  },
  {
   "cell_type": "code",
   "execution_count": 170,
   "metadata": {},
   "outputs": [],
   "source": [
    "# Que faire?"
   ]
  },
  {
   "cell_type": "code",
   "execution_count": 172,
   "metadata": {},
   "outputs": [
    {
     "data": {
      "text/plain": [
       "count             6133\n",
       "unique            6028\n",
       "top       Le Déserteur\n",
       "freq                 4\n",
       "Name: movie_title, dtype: object"
      ]
     },
     "execution_count": 172,
     "metadata": {},
     "output_type": "execute_result"
    }
   ],
   "source": [
    "merge.movie_title.describe()"
   ]
  },
  {
   "cell_type": "code",
   "execution_count": 205,
   "metadata": {},
   "outputs": [
    {
     "name": "stdout",
     "output_type": "stream",
     "text": [
      "Il y a 0 films sans movie_title dans le dataset\n"
     ]
    }
   ],
   "source": [
    "nan = merge.movie_title.isna().sum()\n",
    "print(f'Il y a {nan} films sans movie_title dans le dataset')"
   ]
  },
  {
   "cell_type": "markdown",
   "metadata": {},
   "source": [
    "#### MOVIE URL"
   ]
  },
  {
   "cell_type": "code",
   "execution_count": 173,
   "metadata": {},
   "outputs": [
    {
     "data": {
      "text/plain": [
       "count                                       6133\n",
       "unique                                      6133\n",
       "top       https://www.imdb.com/title/tt21942866/\n",
       "freq                                           1\n",
       "Name: movie_url, dtype: object"
      ]
     },
     "execution_count": 173,
     "metadata": {},
     "output_type": "execute_result"
    }
   ],
   "source": [
    "merge.movie_url.describe()"
   ]
  },
  {
   "cell_type": "code",
   "execution_count": 204,
   "metadata": {},
   "outputs": [
    {
     "name": "stdout",
     "output_type": "stream",
     "text": [
      "Il y a 0 films sans movie_url dans le dataset\n"
     ]
    }
   ],
   "source": [
    "nan = merge.movie_url.isna().sum()\n",
    "print(f'Il y a {nan} films sans movie_url dans le dataset')"
   ]
  },
  {
   "cell_type": "markdown",
   "metadata": {},
   "source": [
    "#### MOVIE US BOXOFFICE"
   ]
  },
  {
   "cell_type": "code",
   "execution_count": 174,
   "metadata": {},
   "outputs": [],
   "source": [
    "# THIS COLUMN WILL BE DROPPED"
   ]
  },
  {
   "cell_type": "code",
   "execution_count": 203,
   "metadata": {},
   "outputs": [
    {
     "name": "stdout",
     "output_type": "stream",
     "text": [
      "Il y a 4854 films sans movie_us_boxoffice dans le dataset\n"
     ]
    }
   ],
   "source": [
    "nan = merge.movie_us_boxoffice.isna().sum()\n",
    "print(f'Il y a {nan} films sans movie_us_boxoffice dans le dataset')"
   ]
  },
  {
   "cell_type": "markdown",
   "metadata": {},
   "source": [
    "#### MOVIE RELEASE DATE"
   ]
  },
  {
   "cell_type": "code",
   "execution_count": 179,
   "metadata": {},
   "outputs": [],
   "source": [
    "# PB !!\n",
    "# Ici, on voit bien qu'il y a bien des films de cette année présents dans le dataset.\n",
    "# Plus bas, quand je demande la valeur maximale, c'est l'année 2021 (et non 2024 ou 2025) qui m'est retournée. Pourquoi?"
   ]
  },
  {
   "cell_type": "code",
   "execution_count": 175,
   "metadata": {},
   "outputs": [
    {
     "data": {
      "text/plain": [
       "count           6133\n",
       "unique          2071\n",
       "top       24-04-2024\n",
       "freq              18\n",
       "Name: release_date, dtype: object"
      ]
     },
     "execution_count": 175,
     "metadata": {},
     "output_type": "execute_result"
    }
   ],
   "source": [
    "merge.release_date.describe()"
   ]
  },
  {
   "cell_type": "code",
   "execution_count": 176,
   "metadata": {},
   "outputs": [
    {
     "data": {
      "text/plain": [
       "'01-01-2000'"
      ]
     },
     "execution_count": 176,
     "metadata": {},
     "output_type": "execute_result"
    }
   ],
   "source": [
    "merge.release_date.min()"
   ]
  },
  {
   "cell_type": "code",
   "execution_count": 178,
   "metadata": {},
   "outputs": [
    {
     "data": {
      "text/plain": [
       "'31-12-2021'"
      ]
     },
     "execution_count": 178,
     "metadata": {},
     "output_type": "execute_result"
    }
   ],
   "source": [
    "merge.release_date.max()"
   ]
  },
  {
   "cell_type": "code",
   "execution_count": 201,
   "metadata": {},
   "outputs": [
    {
     "name": "stdout",
     "output_type": "stream",
     "text": [
      "Il y a 0 films sans release_date dans le dataset\n"
     ]
    }
   ],
   "source": [
    "nan = merge.release_date.isna().sum()\n",
    "print(f'Il y a {nan} films sans release_date dans le dataset')"
   ]
  },
  {
   "cell_type": "markdown",
   "metadata": {},
   "source": [
    "#### MOVIE YEAR"
   ]
  },
  {
   "cell_type": "code",
   "execution_count": 183,
   "metadata": {},
   "outputs": [],
   "source": [
    "# La valeur minimale est 0 car j'ai rempli les NaN au tout début de l'EDA"
   ]
  },
  {
   "cell_type": "code",
   "execution_count": 185,
   "metadata": {},
   "outputs": [
    {
     "data": {
      "text/plain": [
       "count    6133.000000\n",
       "mean     1971.879341\n",
       "std       284.529396\n",
       "min         0.000000\n",
       "25%      2007.000000\n",
       "50%      2013.000000\n",
       "75%      2019.000000\n",
       "max      2025.000000\n",
       "Name: year, dtype: float64"
      ]
     },
     "execution_count": 185,
     "metadata": {},
     "output_type": "execute_result"
    }
   ],
   "source": [
    "merge.year.describe()"
   ]
  },
  {
   "cell_type": "code",
   "execution_count": 199,
   "metadata": {},
   "outputs": [
    {
     "name": "stdout",
     "output_type": "stream",
     "text": [
      "Il y a 0 films sans movie_year dans le dataset\n"
     ]
    }
   ],
   "source": [
    "nan = merge.year.isna().sum()\n",
    "print(f'Il y a {nan} films sans movie_year dans le dataset')"
   ]
  },
  {
   "cell_type": "markdown",
   "metadata": {},
   "source": [
    "#### TARGET : WEEK 1 FRENCH BOX-OFFICE/ENTRIES"
   ]
  },
  {
   "cell_type": "code",
   "execution_count": 186,
   "metadata": {},
   "outputs": [
    {
     "data": {
      "text/plain": [
       "count         947\n",
       "unique        851\n",
       "top       422 241\n",
       "freq            3\n",
       "Name: total_tickets_sold_on_week1, dtype: object"
      ]
     },
     "execution_count": 186,
     "metadata": {},
     "output_type": "execute_result"
    }
   ],
   "source": [
    "merge.total_tickets_sold_on_week1.describe()"
   ]
  },
  {
   "cell_type": "code",
   "execution_count": 198,
   "metadata": {},
   "outputs": [
    {
     "name": "stdout",
     "output_type": "stream",
     "text": [
      "Il y a 5186 films sans Target dans le dataset\n"
     ]
    }
   ],
   "source": [
    "nan_target = merge.total_tickets_sold_on_week1.isna().sum()\n",
    "print(f'Il y a {nan_target} films sans Target dans le dataset')"
   ]
  },
  {
   "cell_type": "code",
   "execution_count": 191,
   "metadata": {},
   "outputs": [
    {
     "data": {
      "image/png": "[encoded data removed]",
      "text/plain": [
       "<Figure size 640x480 with 1 Axes>"
      ]
     },
     "metadata": {},
     "output_type": "display_data"
    }
   ],
   "source": [
    "sns.boxenplot(merge.total_tickets_sold_on_week1, color='cadetblue')\n",
    "plt.title('TARGET DISTRIBUTION')\n",
    "plt.yscale('log')\n",
    "plt.ylabel('NUMBER OF TICKETS SOLD ON WEEK 1')\n",
    "plt.show()"
   ]
  },
  {
   "cell_type": "markdown",
   "metadata": {},
   "source": [
    "## Bivariate Analysis"
   ]
  },
  {
   "cell_type": "code",
   "execution_count": null,
   "metadata": {},
   "outputs": [],
   "source": []
  }
 ],
 "metadata": {
  "kernelspec": {
   "display_name": "venv",
   "language": "python",
   "name": "python3"
  },
  "language_info": {
   "codemirror_mode": {
    "name": "ipython",
    "version": 3
   },
   "file_extension": ".py",
   "mimetype": "text/x-python",
   "name": "python",
   "nbconvert_exporter": "python",
   "pygments_lexer": "ipython3",
   "version": "3.9.13"
  }
 },
 "nbformat": 4,
 "nbformat_minor": 2
}
