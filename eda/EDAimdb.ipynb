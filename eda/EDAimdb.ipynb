{
 "cells": [
  {
   "cell_type": "code",
   "execution_count": 1,
   "metadata": {},
   "outputs": [],
   "source": [
    "import pandas as pd"
   ]
  },
  {
   "cell_type": "markdown",
   "metadata": {},
   "source": [
    "# Data Preprocessing"
   ]
  },
  {
   "cell_type": "markdown",
   "metadata": {},
   "source": [
    "## Data Scraping"
   ]
  },
  {
   "cell_type": "markdown",
   "metadata": {},
   "source": [
    "### IMDB 2000-2024 movies"
   ]
  },
  {
   "cell_type": "markdown",
   "metadata": {},
   "source": [
    "Original scraped data"
   ]
  },
  {
   "cell_type": "code",
   "execution_count": 2,
   "metadata": {},
   "outputs": [
    {
     "data": {
      "text/plain": [
       "(9873, 21)"
      ]
     },
     "execution_count": 2,
     "metadata": {},
     "output_type": "execute_result"
    }
   ],
   "source": [
    "data = pd.read_csv(r'C:\\Users\\Thibaut\\Documents\\SIMPLON\\DEV-IA\\BOXOFFICE\\scraping\\data\\imdb_movies.csv')\n",
    "data.shape"
   ]
  },
  {
   "cell_type": "code",
   "execution_count": 3,
   "metadata": {},
   "outputs": [
    {
     "data": {
      "text/plain": [
       "Index(['movie_boxoffice', 'movie_budget', 'movie_cast', 'movie_categories',\n",
       "       'movie_countries', 'movie_director', 'movie_id', 'movie_imdb_metascore',\n",
       "       'movie_imdb_nb_of_ratings', 'movie_imdb_popularity',\n",
       "       'movie_imdb_rating', 'movie_length', 'movie_original_title',\n",
       "       'movie_poster', 'movie_production_companies', 'movie_synopsis',\n",
       "       'movie_title', 'movie_url', 'movie_us_boxoffice', 'release_date',\n",
       "       'year'],\n",
       "      dtype='object')"
      ]
     },
     "execution_count": 3,
     "metadata": {},
     "output_type": "execute_result"
    }
   ],
   "source": [
    "data.columns"
   ]
  },
  {
   "cell_type": "markdown",
   "metadata": {},
   "source": [
    "Keep only movies with a poster & a category"
   ]
  },
  {
   "cell_type": "code",
   "execution_count": 4,
   "metadata": {},
   "outputs": [
    {
     "data": {
      "text/plain": [
       "(8656, 21)"
      ]
     },
     "execution_count": 4,
     "metadata": {},
     "output_type": "execute_result"
    }
   ],
   "source": [
    "movies = data.copy()\n",
    "movies = movies.query('movie_poster.isna() == False and movie_categories.isna() == False')\n",
    "movies.shape "
   ]
  },
  {
   "cell_type": "code",
   "execution_count": 5,
   "metadata": {},
   "outputs": [
    {
     "data": {
      "text/html": [
       "<div>\n",
       "<style scoped>\n",
       "    .dataframe tbody tr th:only-of-type {\n",
       "        vertical-align: middle;\n",
       "    }\n",
       "\n",
       "    .dataframe tbody tr th {\n",
       "        vertical-align: top;\n",
       "    }\n",
       "\n",
       "    .dataframe thead th {\n",
       "        text-align: right;\n",
       "    }\n",
       "</style>\n",
       "<table border=\"1\" class=\"dataframe\">\n",
       "  <thead>\n",
       "    <tr style=\"text-align: right;\">\n",
       "      <th></th>\n",
       "      <th>movie_boxoffice</th>\n",
       "      <th>movie_budget</th>\n",
       "      <th>movie_cast</th>\n",
       "      <th>movie_categories</th>\n",
       "      <th>movie_countries</th>\n",
       "      <th>movie_director</th>\n",
       "      <th>movie_id</th>\n",
       "      <th>movie_imdb_metascore</th>\n",
       "      <th>movie_imdb_nb_of_ratings</th>\n",
       "      <th>movie_imdb_popularity</th>\n",
       "      <th>movie_imdb_rating</th>\n",
       "      <th>movie_length</th>\n",
       "      <th>movie_original_title</th>\n",
       "      <th>movie_poster</th>\n",
       "      <th>movie_production_companies</th>\n",
       "      <th>movie_synopsis</th>\n",
       "      <th>movie_title</th>\n",
       "      <th>movie_url</th>\n",
       "      <th>movie_us_boxoffice</th>\n",
       "      <th>release_date</th>\n",
       "      <th>year</th>\n",
       "    </tr>\n",
       "  </thead>\n",
       "  <tbody>\n",
       "    <tr>\n",
       "      <th>5745</th>\n",
       "      <td>NaN</td>\n",
       "      <td>11000.0</td>\n",
       "      <td>Santiago Águila|Alexander Marcel Nadler|Rodrig...</td>\n",
       "      <td>Comédie|Mystère|Thriller</td>\n",
       "      <td>Mexique</td>\n",
       "      <td>Jerzain Ortega</td>\n",
       "      <td>tt6072052</td>\n",
       "      <td>NaN</td>\n",
       "      <td>26.0</td>\n",
       "      <td>NaN</td>\n",
       "      <td>7.2</td>\n",
       "      <td>87.0</td>\n",
       "      <td>NaN</td>\n",
       "      <td>https://m.media-amazon.com/images/M/MV5BNzNmOD...</td>\n",
       "      <td>Guepardo Films</td>\n",
       "      <td>The life of a telephone line told through a ch...</td>\n",
       "      <td>Telephone</td>\n",
       "      <td>https://www.imdb.com/title/tt6072052/</td>\n",
       "      <td>NaN</td>\n",
       "      <td>04-06-2023</td>\n",
       "      <td>2023.0</td>\n",
       "    </tr>\n",
       "  </tbody>\n",
       "</table>\n",
       "</div>"
      ],
      "text/plain": [
       "      movie_boxoffice  movie_budget  \\\n",
       "5745              NaN       11000.0   \n",
       "\n",
       "                                             movie_cast  \\\n",
       "5745  Santiago Águila|Alexander Marcel Nadler|Rodrig...   \n",
       "\n",
       "              movie_categories movie_countries  movie_director   movie_id  \\\n",
       "5745  Comédie|Mystère|Thriller         Mexique  Jerzain Ortega  tt6072052   \n",
       "\n",
       "      movie_imdb_metascore  movie_imdb_nb_of_ratings  movie_imdb_popularity  \\\n",
       "5745                   NaN                      26.0                    NaN   \n",
       "\n",
       "      movie_imdb_rating  movie_length movie_original_title  \\\n",
       "5745                7.2          87.0                  NaN   \n",
       "\n",
       "                                           movie_poster  \\\n",
       "5745  https://m.media-amazon.com/images/M/MV5BNzNmOD...   \n",
       "\n",
       "     movie_production_companies  \\\n",
       "5745             Guepardo Films   \n",
       "\n",
       "                                         movie_synopsis movie_title  \\\n",
       "5745  The life of a telephone line told through a ch...   Telephone   \n",
       "\n",
       "                                  movie_url  movie_us_boxoffice release_date  \\\n",
       "5745  https://www.imdb.com/title/tt6072052/                 NaN   04-06-2023   \n",
       "\n",
       "        year  \n",
       "5745  2023.0  "
      ]
     },
     "execution_count": 5,
     "metadata": {},
     "output_type": "execute_result"
    }
   ],
   "source": [
    "pd.set_option('display.max_columns', None)\n",
    "movies.sample(1)"
   ]
  },
  {
   "cell_type": "markdown",
   "metadata": {},
   "source": [
    "### IMDB Upcoming movies (2024-2025)"
   ]
  },
  {
   "cell_type": "markdown",
   "metadata": {},
   "source": [
    "##### First upcoming movies scraping (don't remember the date, probably March 24th)"
   ]
  },
  {
   "cell_type": "code",
   "execution_count": 6,
   "metadata": {},
   "outputs": [
    {
     "data": {
      "text/plain": [
       "Index(['movie_boxoffice', 'movie_budget', 'movie_cast', 'movie_categories',\n",
       "       'movie_countries', 'movie_director', 'movie_id', 'movie_imdb_metascore',\n",
       "       'movie_imdb_nb_of_ratings', 'movie_imdb_popularity',\n",
       "       'movie_imdb_rating', 'movie_length', 'movie_original_title',\n",
       "       'movie_production_companies', 'movie_synopsis', 'movie_title',\n",
       "       'movie_url', 'movie_us_boxoffice', 'release_date'],\n",
       "      dtype='object')"
      ]
     },
     "execution_count": 6,
     "metadata": {},
     "output_type": "execute_result"
    }
   ],
   "source": [
    "upcoming_movies = pd.read_csv(r'C:\\Users\\Thibaut\\Documents\\SIMPLON\\DEV-IA\\BOXOFFICE\\scraping\\data\\upcomingmovies_march24.csv')\n",
    "upcoming_movies['release_date'] = pd.to_datetime(upcoming_movies['release_date'], format='%d-%m-%Y')\n",
    "upcoming_movies = upcoming_movies.sort_values(by=\"release_date\", ascending=True)\n",
    "upcoming_movies.columns"
   ]
  },
  {
   "cell_type": "markdown",
   "metadata": {},
   "source": [
    "##### Second scraping of upcoming movies : April 6"
   ]
  },
  {
   "cell_type": "code",
   "execution_count": 7,
   "metadata": {},
   "outputs": [
    {
     "data": {
      "text/html": [
       "<div>\n",
       "<style scoped>\n",
       "    .dataframe tbody tr th:only-of-type {\n",
       "        vertical-align: middle;\n",
       "    }\n",
       "\n",
       "    .dataframe tbody tr th {\n",
       "        vertical-align: top;\n",
       "    }\n",
       "\n",
       "    .dataframe thead th {\n",
       "        text-align: right;\n",
       "    }\n",
       "</style>\n",
       "<table border=\"1\" class=\"dataframe\">\n",
       "  <thead>\n",
       "    <tr style=\"text-align: right;\">\n",
       "      <th></th>\n",
       "      <th>movie_boxoffice</th>\n",
       "      <th>movie_budget</th>\n",
       "      <th>movie_cast</th>\n",
       "      <th>movie_categories</th>\n",
       "      <th>movie_countries</th>\n",
       "      <th>movie_director</th>\n",
       "      <th>movie_id</th>\n",
       "      <th>movie_imdb_metascore</th>\n",
       "      <th>movie_imdb_nb_of_ratings</th>\n",
       "      <th>movie_imdb_popularity</th>\n",
       "      <th>movie_imdb_rating</th>\n",
       "      <th>movie_length</th>\n",
       "      <th>movie_original_title</th>\n",
       "      <th>movie_poster</th>\n",
       "      <th>movie_production_companies</th>\n",
       "      <th>movie_synopsis</th>\n",
       "      <th>movie_title</th>\n",
       "      <th>movie_url</th>\n",
       "      <th>movie_us_boxoffice</th>\n",
       "      <th>release_date</th>\n",
       "    </tr>\n",
       "  </thead>\n",
       "  <tbody>\n",
       "    <tr>\n",
       "      <th>0</th>\n",
       "      <td>NaN</td>\n",
       "      <td>NaN</td>\n",
       "      <td>Daniel Berlioux, Oussem Kadri, Majida Ghomari,...</td>\n",
       "      <td>Biographique, Drame</td>\n",
       "      <td>France</td>\n",
       "      <td>Cheyenne Carron</td>\n",
       "      <td>tt29478506</td>\n",
       "      <td>NaN</td>\n",
       "      <td>NaN</td>\n",
       "      <td>NaN</td>\n",
       "      <td>NaN</td>\n",
       "      <td>108.0</td>\n",
       "      <td>Que Notre Joie Demeure</td>\n",
       "      <td>https://m.media-amazon.com/images/M/MV5BMmY2Ym...</td>\n",
       "      <td>Hésiode Productions</td>\n",
       "      <td>Father Jacques Hamel and Adel Kermiche, two de...</td>\n",
       "      <td>Que Notre Joie Demeure</td>\n",
       "      <td>https://www.imdb.com/title/tt29478506/?ref_=rlm</td>\n",
       "      <td>NaN</td>\n",
       "      <td>24-04-2024</td>\n",
       "    </tr>\n",
       "    <tr>\n",
       "      <th>1</th>\n",
       "      <td>NaN</td>\n",
       "      <td>NaN</td>\n",
       "      <td>Tergel Bold-Erdene, Nomin-Erdene Ariunbyamba, ...</td>\n",
       "      <td>Drame</td>\n",
       "      <td>Qatar, Allemagne, Pays-Bas, Portugal, Mongolie...</td>\n",
       "      <td>Lkhagvadulam Purev-Ochir</td>\n",
       "      <td>tt27816866</td>\n",
       "      <td>NaN</td>\n",
       "      <td>140.0</td>\n",
       "      <td>NaN</td>\n",
       "      <td>6.9</td>\n",
       "      <td>104.0</td>\n",
       "      <td>Ser Ser Salhi</td>\n",
       "      <td>NaN</td>\n",
       "      <td>27 Films Production, Aurora Films, Guru Media</td>\n",
       "      <td>Ze, a 17-year-old, studies hard at school to s...</td>\n",
       "      <td>Un Jeune Chaman</td>\n",
       "      <td>https://www.imdb.com/title/tt27816866/?ref_=rlm</td>\n",
       "      <td>NaN</td>\n",
       "      <td>24-04-2024</td>\n",
       "    </tr>\n",
       "    <tr>\n",
       "      <th>2</th>\n",
       "      <td>114426978.0</td>\n",
       "      <td>100000000.0</td>\n",
       "      <td>Paul Rudd, Carrie Coon, Finn Wolfhard, Mckenna...</td>\n",
       "      <td>Aventure, Comédie, Fantastique</td>\n",
       "      <td>États-Unis, Canada, Royaume-Uni</td>\n",
       "      <td>Gil Kenan</td>\n",
       "      <td>tt21235248</td>\n",
       "      <td>46.0</td>\n",
       "      <td>20000.0</td>\n",
       "      <td>4.0</td>\n",
       "      <td>6.5</td>\n",
       "      <td>115.0</td>\n",
       "      <td>Ghostbusters: Frozen Empire</td>\n",
       "      <td>https://m.media-amazon.com/images/M/MV5BNGE5MW...</td>\n",
       "      <td>Columbia Pictures, BRON Studios, Ghostcorps</td>\n",
       "      <td>Lorsque la découverte d'un ancien artefact lib...</td>\n",
       "      <td>S.O.S. Fantômes: La Menace De Glace</td>\n",
       "      <td>https://www.imdb.com/title/tt21235248/?ref_=rlm</td>\n",
       "      <td>79863665.0</td>\n",
       "      <td>10-04-2024</td>\n",
       "    </tr>\n",
       "    <tr>\n",
       "      <th>3</th>\n",
       "      <td>NaN</td>\n",
       "      <td>NaN</td>\n",
       "      <td>Ido Tako, Mika Reiss, Efrat Ben Tzur, Tikva Da...</td>\n",
       "      <td>Drame, Thriller, Guerre</td>\n",
       "      <td>Israël</td>\n",
       "      <td>Dani Rosenberg</td>\n",
       "      <td>tt27817584</td>\n",
       "      <td>NaN</td>\n",
       "      <td>98.0</td>\n",
       "      <td>NaN</td>\n",
       "      <td>6.8</td>\n",
       "      <td>105.0</td>\n",
       "      <td>The Vanishing Soldier</td>\n",
       "      <td>https://m.media-amazon.com/images/M/MV5BNGQ1Yz...</td>\n",
       "      <td>Israel Film Fund, United Channel Movies</td>\n",
       "      <td>Eighteen-year-old Israeli soldier flees back t...</td>\n",
       "      <td>Le Déserteur</td>\n",
       "      <td>https://www.imdb.com/title/tt27817584/?ref_=rlm</td>\n",
       "      <td>NaN</td>\n",
       "      <td>24-04-2024</td>\n",
       "    </tr>\n",
       "    <tr>\n",
       "      <th>4</th>\n",
       "      <td>NaN</td>\n",
       "      <td>NaN</td>\n",
       "      <td>Noée Abita, Anders Danielsen Lie, Alexis Neise...</td>\n",
       "      <td>Drame</td>\n",
       "      <td>France</td>\n",
       "      <td>Victoria Musiedlak</td>\n",
       "      <td>tt26218928</td>\n",
       "      <td>NaN</td>\n",
       "      <td>32.0</td>\n",
       "      <td>NaN</td>\n",
       "      <td>6.0</td>\n",
       "      <td>98.0</td>\n",
       "      <td>NaN</td>\n",
       "      <td>NaN</td>\n",
       "      <td>Ligne 2, France 2 Cinéma, Canal+</td>\n",
       "      <td>An inexperienced criminal defense lawyer is ch...</td>\n",
       "      <td>Première Affaire</td>\n",
       "      <td>https://www.imdb.com/title/tt26218928/?ref_=rlm</td>\n",
       "      <td>NaN</td>\n",
       "      <td>24-04-2024</td>\n",
       "    </tr>\n",
       "    <tr>\n",
       "      <th>...</th>\n",
       "      <td>...</td>\n",
       "      <td>...</td>\n",
       "      <td>...</td>\n",
       "      <td>...</td>\n",
       "      <td>...</td>\n",
       "      <td>...</td>\n",
       "      <td>...</td>\n",
       "      <td>...</td>\n",
       "      <td>...</td>\n",
       "      <td>...</td>\n",
       "      <td>...</td>\n",
       "      <td>...</td>\n",
       "      <td>...</td>\n",
       "      <td>...</td>\n",
       "      <td>...</td>\n",
       "      <td>...</td>\n",
       "      <td>...</td>\n",
       "      <td>...</td>\n",
       "      <td>...</td>\n",
       "      <td>...</td>\n",
       "    </tr>\n",
       "    <tr>\n",
       "      <th>119</th>\n",
       "      <td>64120.0</td>\n",
       "      <td>NaN</td>\n",
       "      <td>Karin Anglin, Clé Bennett, John Eric Bentley, ...</td>\n",
       "      <td>Animation, Action, Aventure</td>\n",
       "      <td>Hongrie</td>\n",
       "      <td>Áron Gauder</td>\n",
       "      <td>tt11736638</td>\n",
       "      <td>NaN</td>\n",
       "      <td>414.0</td>\n",
       "      <td>NaN</td>\n",
       "      <td>7.3</td>\n",
       "      <td>103.0</td>\n",
       "      <td>Kojot Négy Lelke</td>\n",
       "      <td>https://m.media-amazon.com/images/M/MV5BOTYyNW...</td>\n",
       "      <td>Cinemon Entertainment</td>\n",
       "      <td>Native American protesters confront an oil pip...</td>\n",
       "      <td>Les 4 Âmes Du Coyote</td>\n",
       "      <td>https://www.imdb.com/title/tt11736638/?ref_=rlm</td>\n",
       "      <td>NaN</td>\n",
       "      <td>10-04-2024</td>\n",
       "    </tr>\n",
       "    <tr>\n",
       "      <th>120</th>\n",
       "      <td>NaN</td>\n",
       "      <td>NaN</td>\n",
       "      <td>Nell Tiger Free, Ralph Ineson, Sonia Braga, Ta...</td>\n",
       "      <td>Horreur</td>\n",
       "      <td>États-Unis, Italie, Royaume-Uni, Canada, Serbie</td>\n",
       "      <td>Arkasha Stevenson</td>\n",
       "      <td>tt5672290</td>\n",
       "      <td>64.0</td>\n",
       "      <td>19000.0</td>\n",
       "      <td>65.0</td>\n",
       "      <td>7.0</td>\n",
       "      <td>120.0</td>\n",
       "      <td>The First Omen</td>\n",
       "      <td>https://m.media-amazon.com/images/M/MV5BNWZkMm...</td>\n",
       "      <td>20th Century Studios, Phantom Four Films, Abbe...</td>\n",
       "      <td>Une jeune Américaine est envoyée à Rome pour c...</td>\n",
       "      <td>La Malédiction: L'Origine</td>\n",
       "      <td>https://www.imdb.com/title/tt5672290/?ref_=rlm</td>\n",
       "      <td>NaN</td>\n",
       "      <td>10-04-2024</td>\n",
       "    </tr>\n",
       "    <tr>\n",
       "      <th>121</th>\n",
       "      <td>NaN</td>\n",
       "      <td>NaN</td>\n",
       "      <td>NaN</td>\n",
       "      <td>Documentaire</td>\n",
       "      <td>France</td>\n",
       "      <td>Nicolas Philibert</td>\n",
       "      <td>tt31831104</td>\n",
       "      <td>NaN</td>\n",
       "      <td>NaN</td>\n",
       "      <td>NaN</td>\n",
       "      <td>NaN</td>\n",
       "      <td>72.0</td>\n",
       "      <td>NaN</td>\n",
       "      <td>https://m.media-amazon.com/images/M/MV5BOGE0OD...</td>\n",
       "      <td>TS Productions</td>\n",
       "      <td>NaN</td>\n",
       "      <td>La Machine À Écrire Et Autres Sources De Tracas</td>\n",
       "      <td>https://www.imdb.com/title/tt31831104/?ref_=rlm</td>\n",
       "      <td>NaN</td>\n",
       "      <td>17-04-2024</td>\n",
       "    </tr>\n",
       "    <tr>\n",
       "      <th>122</th>\n",
       "      <td>488140.0</td>\n",
       "      <td>100000.0</td>\n",
       "      <td>Alan Nehama, Dutch Welch, Aliya Campbell, Dona...</td>\n",
       "      <td>Drame</td>\n",
       "      <td>Mexique, États-Unis</td>\n",
       "      <td>Michel Franco</td>\n",
       "      <td>tt19864828</td>\n",
       "      <td>71.0</td>\n",
       "      <td>32000.0</td>\n",
       "      <td>936.0</td>\n",
       "      <td>6.6</td>\n",
       "      <td>103.0</td>\n",
       "      <td>NaN</td>\n",
       "      <td>https://m.media-amazon.com/images/M/MV5BODY0OW...</td>\n",
       "      <td>High Frequency Entertainment, Teorema, Case St...</td>\n",
       "      <td>Sylvia est une assistante sociale qui mène une...</td>\n",
       "      <td>Memory</td>\n",
       "      <td>https://www.imdb.com/title/tt19864828/?ref_=rlm</td>\n",
       "      <td>381052.0</td>\n",
       "      <td>29-05-2024</td>\n",
       "    </tr>\n",
       "    <tr>\n",
       "      <th>123</th>\n",
       "      <td>1674900.0</td>\n",
       "      <td>NaN</td>\n",
       "      <td>Santiago Sandoval, Fernando Cuautle, Esteban C...</td>\n",
       "      <td>Drame, Mystère, Thriller</td>\n",
       "      <td>Mexique, Suède</td>\n",
       "      <td>David Zonana</td>\n",
       "      <td>tt24079846</td>\n",
       "      <td>NaN</td>\n",
       "      <td>12000.0</td>\n",
       "      <td>NaN</td>\n",
       "      <td>6.8</td>\n",
       "      <td>88.0</td>\n",
       "      <td>NaN</td>\n",
       "      <td>https://m.media-amazon.com/images/M/MV5BYmQ4YT...</td>\n",
       "      <td>Filmadora, Film i Väst</td>\n",
       "      <td>Luis, un jeune homme de 18 ans aux racines ind...</td>\n",
       "      <td>Heroico</td>\n",
       "      <td>https://www.imdb.com/title/tt24079846/?ref_=rlm</td>\n",
       "      <td>NaN</td>\n",
       "      <td>22-05-2024</td>\n",
       "    </tr>\n",
       "  </tbody>\n",
       "</table>\n",
       "<p>124 rows × 20 columns</p>\n",
       "</div>"
      ],
      "text/plain": [
       "     movie_boxoffice  movie_budget  \\\n",
       "0                NaN           NaN   \n",
       "1                NaN           NaN   \n",
       "2        114426978.0   100000000.0   \n",
       "3                NaN           NaN   \n",
       "4                NaN           NaN   \n",
       "..               ...           ...   \n",
       "119          64120.0           NaN   \n",
       "120              NaN           NaN   \n",
       "121              NaN           NaN   \n",
       "122         488140.0      100000.0   \n",
       "123        1674900.0           NaN   \n",
       "\n",
       "                                            movie_cast  \\\n",
       "0    Daniel Berlioux, Oussem Kadri, Majida Ghomari,...   \n",
       "1    Tergel Bold-Erdene, Nomin-Erdene Ariunbyamba, ...   \n",
       "2    Paul Rudd, Carrie Coon, Finn Wolfhard, Mckenna...   \n",
       "3    Ido Tako, Mika Reiss, Efrat Ben Tzur, Tikva Da...   \n",
       "4    Noée Abita, Anders Danielsen Lie, Alexis Neise...   \n",
       "..                                                 ...   \n",
       "119  Karin Anglin, Clé Bennett, John Eric Bentley, ...   \n",
       "120  Nell Tiger Free, Ralph Ineson, Sonia Braga, Ta...   \n",
       "121                                                NaN   \n",
       "122  Alan Nehama, Dutch Welch, Aliya Campbell, Dona...   \n",
       "123  Santiago Sandoval, Fernando Cuautle, Esteban C...   \n",
       "\n",
       "                   movie_categories  \\\n",
       "0               Biographique, Drame   \n",
       "1                             Drame   \n",
       "2    Aventure, Comédie, Fantastique   \n",
       "3           Drame, Thriller, Guerre   \n",
       "4                             Drame   \n",
       "..                              ...   \n",
       "119     Animation, Action, Aventure   \n",
       "120                         Horreur   \n",
       "121                    Documentaire   \n",
       "122                           Drame   \n",
       "123        Drame, Mystère, Thriller   \n",
       "\n",
       "                                       movie_countries  \\\n",
       "0                                               France   \n",
       "1    Qatar, Allemagne, Pays-Bas, Portugal, Mongolie...   \n",
       "2                      États-Unis, Canada, Royaume-Uni   \n",
       "3                                               Israël   \n",
       "4                                               France   \n",
       "..                                                 ...   \n",
       "119                                            Hongrie   \n",
       "120    États-Unis, Italie, Royaume-Uni, Canada, Serbie   \n",
       "121                                             France   \n",
       "122                                Mexique, États-Unis   \n",
       "123                                     Mexique, Suède   \n",
       "\n",
       "               movie_director    movie_id  movie_imdb_metascore  \\\n",
       "0             Cheyenne Carron  tt29478506                   NaN   \n",
       "1    Lkhagvadulam Purev-Ochir  tt27816866                   NaN   \n",
       "2                   Gil Kenan  tt21235248                  46.0   \n",
       "3              Dani Rosenberg  tt27817584                   NaN   \n",
       "4          Victoria Musiedlak  tt26218928                   NaN   \n",
       "..                        ...         ...                   ...   \n",
       "119               Áron Gauder  tt11736638                   NaN   \n",
       "120         Arkasha Stevenson   tt5672290                  64.0   \n",
       "121         Nicolas Philibert  tt31831104                   NaN   \n",
       "122             Michel Franco  tt19864828                  71.0   \n",
       "123              David Zonana  tt24079846                   NaN   \n",
       "\n",
       "     movie_imdb_nb_of_ratings  movie_imdb_popularity  movie_imdb_rating  \\\n",
       "0                         NaN                    NaN                NaN   \n",
       "1                       140.0                    NaN                6.9   \n",
       "2                     20000.0                    4.0                6.5   \n",
       "3                        98.0                    NaN                6.8   \n",
       "4                        32.0                    NaN                6.0   \n",
       "..                        ...                    ...                ...   \n",
       "119                     414.0                    NaN                7.3   \n",
       "120                   19000.0                   65.0                7.0   \n",
       "121                       NaN                    NaN                NaN   \n",
       "122                   32000.0                  936.0                6.6   \n",
       "123                   12000.0                    NaN                6.8   \n",
       "\n",
       "     movie_length          movie_original_title  \\\n",
       "0           108.0        Que Notre Joie Demeure   \n",
       "1           104.0                 Ser Ser Salhi   \n",
       "2           115.0   Ghostbusters: Frozen Empire   \n",
       "3           105.0         The Vanishing Soldier   \n",
       "4            98.0                           NaN   \n",
       "..            ...                           ...   \n",
       "119         103.0              Kojot Négy Lelke   \n",
       "120         120.0                The First Omen   \n",
       "121          72.0                           NaN   \n",
       "122         103.0                           NaN   \n",
       "123          88.0                           NaN   \n",
       "\n",
       "                                          movie_poster  \\\n",
       "0    https://m.media-amazon.com/images/M/MV5BMmY2Ym...   \n",
       "1                                                  NaN   \n",
       "2    https://m.media-amazon.com/images/M/MV5BNGE5MW...   \n",
       "3    https://m.media-amazon.com/images/M/MV5BNGQ1Yz...   \n",
       "4                                                  NaN   \n",
       "..                                                 ...   \n",
       "119  https://m.media-amazon.com/images/M/MV5BOTYyNW...   \n",
       "120  https://m.media-amazon.com/images/M/MV5BNWZkMm...   \n",
       "121  https://m.media-amazon.com/images/M/MV5BOGE0OD...   \n",
       "122  https://m.media-amazon.com/images/M/MV5BODY0OW...   \n",
       "123  https://m.media-amazon.com/images/M/MV5BYmQ4YT...   \n",
       "\n",
       "                            movie_production_companies  \\\n",
       "0                                  Hésiode Productions   \n",
       "1        27 Films Production, Aurora Films, Guru Media   \n",
       "2          Columbia Pictures, BRON Studios, Ghostcorps   \n",
       "3              Israel Film Fund, United Channel Movies   \n",
       "4                     Ligne 2, France 2 Cinéma, Canal+   \n",
       "..                                                 ...   \n",
       "119                              Cinemon Entertainment   \n",
       "120  20th Century Studios, Phantom Four Films, Abbe...   \n",
       "121                                     TS Productions   \n",
       "122  High Frequency Entertainment, Teorema, Case St...   \n",
       "123                             Filmadora, Film i Väst   \n",
       "\n",
       "                                        movie_synopsis  \\\n",
       "0    Father Jacques Hamel and Adel Kermiche, two de...   \n",
       "1    Ze, a 17-year-old, studies hard at school to s...   \n",
       "2    Lorsque la découverte d'un ancien artefact lib...   \n",
       "3    Eighteen-year-old Israeli soldier flees back t...   \n",
       "4    An inexperienced criminal defense lawyer is ch...   \n",
       "..                                                 ...   \n",
       "119  Native American protesters confront an oil pip...   \n",
       "120  Une jeune Américaine est envoyée à Rome pour c...   \n",
       "121                                                NaN   \n",
       "122  Sylvia est une assistante sociale qui mène une...   \n",
       "123  Luis, un jeune homme de 18 ans aux racines ind...   \n",
       "\n",
       "                                         movie_title  \\\n",
       "0                             Que Notre Joie Demeure   \n",
       "1                                    Un Jeune Chaman   \n",
       "2                S.O.S. Fantômes: La Menace De Glace   \n",
       "3                                       Le Déserteur   \n",
       "4                                   Première Affaire   \n",
       "..                                               ...   \n",
       "119                             Les 4 Âmes Du Coyote   \n",
       "120                        La Malédiction: L'Origine   \n",
       "121  La Machine À Écrire Et Autres Sources De Tracas   \n",
       "122                                           Memory   \n",
       "123                                          Heroico   \n",
       "\n",
       "                                           movie_url  movie_us_boxoffice  \\\n",
       "0    https://www.imdb.com/title/tt29478506/?ref_=rlm                 NaN   \n",
       "1    https://www.imdb.com/title/tt27816866/?ref_=rlm                 NaN   \n",
       "2    https://www.imdb.com/title/tt21235248/?ref_=rlm          79863665.0   \n",
       "3    https://www.imdb.com/title/tt27817584/?ref_=rlm                 NaN   \n",
       "4    https://www.imdb.com/title/tt26218928/?ref_=rlm                 NaN   \n",
       "..                                               ...                 ...   \n",
       "119  https://www.imdb.com/title/tt11736638/?ref_=rlm                 NaN   \n",
       "120   https://www.imdb.com/title/tt5672290/?ref_=rlm                 NaN   \n",
       "121  https://www.imdb.com/title/tt31831104/?ref_=rlm                 NaN   \n",
       "122  https://www.imdb.com/title/tt19864828/?ref_=rlm            381052.0   \n",
       "123  https://www.imdb.com/title/tt24079846/?ref_=rlm                 NaN   \n",
       "\n",
       "    release_date  \n",
       "0     24-04-2024  \n",
       "1     24-04-2024  \n",
       "2     10-04-2024  \n",
       "3     24-04-2024  \n",
       "4     24-04-2024  \n",
       "..           ...  \n",
       "119   10-04-2024  \n",
       "120   10-04-2024  \n",
       "121   17-04-2024  \n",
       "122   29-05-2024  \n",
       "123   22-05-2024  \n",
       "\n",
       "[124 rows x 20 columns]"
      ]
     },
     "execution_count": 7,
     "metadata": {},
     "output_type": "execute_result"
    }
   ],
   "source": [
    "upcoming_movies2 = pd.read_csv(r'C:\\Users\\Thibaut\\Documents\\SIMPLON\\DEV-IA\\BOXOFFICE\\scraping\\data\\upcomingmovies_april6.csv')\n",
    "# upcoming_movies2['release_date'] = pd.to_datetime(upcoming_movies2['release_date'], format='%d-%m-%Y')\n",
    "# upcoming_movies2 = upcoming_movies2.sort_values(by=\"release_date\", ascending=True)\n",
    "upcoming_movies2"
   ]
  },
  {
   "cell_type": "markdown",
   "metadata": {},
   "source": [
    "### IMDB Oscars"
   ]
  },
  {
   "cell_type": "markdown",
   "metadata": {},
   "source": [
    "Original scraped data"
   ]
  },
  {
   "cell_type": "code",
   "execution_count": 8,
   "metadata": {},
   "outputs": [
    {
     "data": {
      "text/plain": [
       "(25, 4)"
      ]
     },
     "execution_count": 8,
     "metadata": {},
     "output_type": "execute_result"
    }
   ],
   "source": [
    "oscars = pd.read_csv(r\"C:\\Users\\Thibaut\\Documents\\SIMPLON\\DEV-IA\\BOXOFFICE\\scraping\\data\\imdb_oscars.csv\")\n",
    "oscars.shape"
   ]
  },
  {
   "cell_type": "code",
   "execution_count": 9,
   "metadata": {},
   "outputs": [
    {
     "data": {
      "text/html": [
       "<div>\n",
       "<style scoped>\n",
       "    .dataframe tbody tr th:only-of-type {\n",
       "        vertical-align: middle;\n",
       "    }\n",
       "\n",
       "    .dataframe tbody tr th {\n",
       "        vertical-align: top;\n",
       "    }\n",
       "\n",
       "    .dataframe thead th {\n",
       "        text-align: right;\n",
       "    }\n",
       "</style>\n",
       "<table border=\"1\" class=\"dataframe\">\n",
       "  <thead>\n",
       "    <tr style=\"text-align: right;\">\n",
       "      <th></th>\n",
       "      <th>categories</th>\n",
       "      <th>winners</th>\n",
       "      <th>year</th>\n",
       "    </tr>\n",
       "  </thead>\n",
       "  <tbody>\n",
       "    <tr>\n",
       "      <th>8</th>\n",
       "      <td>'Best Motion Picture of the Year', 'Best Perfo...</td>\n",
       "      <td>['Slumdog Millionaire', 'Sean Penn', 'Kate Win...</td>\n",
       "      <td>2009</td>\n",
       "    </tr>\n",
       "  </tbody>\n",
       "</table>\n",
       "</div>"
      ],
      "text/plain": [
       "                                          categories  \\\n",
       "8  'Best Motion Picture of the Year', 'Best Perfo...   \n",
       "\n",
       "                                             winners  year  \n",
       "8  ['Slumdog Millionaire', 'Sean Penn', 'Kate Win...  2009  "
      ]
     },
     "execution_count": 9,
     "metadata": {},
     "output_type": "execute_result"
    }
   ],
   "source": [
    "oscars = oscars[['categories', 'winners', 'year']]\n",
    "oscars.sample(1)"
   ]
  },
  {
   "cell_type": "code",
   "execution_count": 10,
   "metadata": {},
   "outputs": [
    {
     "data": {
      "text/html": [
       "<div>\n",
       "<style scoped>\n",
       "    .dataframe tbody tr th:only-of-type {\n",
       "        vertical-align: middle;\n",
       "    }\n",
       "\n",
       "    .dataframe tbody tr th {\n",
       "        vertical-align: top;\n",
       "    }\n",
       "\n",
       "    .dataframe thead th {\n",
       "        text-align: right;\n",
       "    }\n",
       "</style>\n",
       "<table border=\"1\" class=\"dataframe\">\n",
       "  <thead>\n",
       "    <tr style=\"text-align: right;\">\n",
       "      <th></th>\n",
       "      <th>category</th>\n",
       "      <th>winner</th>\n",
       "      <th>year</th>\n",
       "    </tr>\n",
       "  </thead>\n",
       "  <tbody>\n",
       "    <tr>\n",
       "      <th>0</th>\n",
       "      <td>Best Picture</td>\n",
       "      <td>A Beautiful Mind</td>\n",
       "      <td>2002</td>\n",
       "    </tr>\n",
       "    <tr>\n",
       "      <th>1</th>\n",
       "      <td>Best Actor in a Leading Role</td>\n",
       "      <td>Denzel Washington</td>\n",
       "      <td>2002</td>\n",
       "    </tr>\n",
       "    <tr>\n",
       "      <th>2</th>\n",
       "      <td>Best Actress in a Leading Role</td>\n",
       "      <td>Halle Berry</td>\n",
       "      <td>2002</td>\n",
       "    </tr>\n",
       "    <tr>\n",
       "      <th>3</th>\n",
       "      <td>Best Actor in a Supporting Role</td>\n",
       "      <td>Jim Broadbent</td>\n",
       "      <td>2002</td>\n",
       "    </tr>\n",
       "    <tr>\n",
       "      <th>4</th>\n",
       "      <td>Best Actress in a Supporting Role</td>\n",
       "      <td>Jennifer Connelly</td>\n",
       "      <td>2002</td>\n",
       "    </tr>\n",
       "    <tr>\n",
       "      <th>...</th>\n",
       "      <td>...</td>\n",
       "      <td>...</td>\n",
       "      <td>...</td>\n",
       "    </tr>\n",
       "    <tr>\n",
       "      <th>694</th>\n",
       "      <td>Best Animated Feature Film</td>\n",
       "      <td>The Boy and the Heron</td>\n",
       "      <td>2024</td>\n",
       "    </tr>\n",
       "    <tr>\n",
       "      <th>695</th>\n",
       "      <td>Best Animated Short Film</td>\n",
       "      <td>War Is Over!</td>\n",
       "      <td>2024</td>\n",
       "    </tr>\n",
       "    <tr>\n",
       "      <th>696</th>\n",
       "      <td>Best Live Action Short Film</td>\n",
       "      <td>The Wonderful Story of Henry Sugar</td>\n",
       "      <td>2024</td>\n",
       "    </tr>\n",
       "    <tr>\n",
       "      <th>697</th>\n",
       "      <td>Best Documentary Short Film</td>\n",
       "      <td>The Last Repair Shop</td>\n",
       "      <td>2024</td>\n",
       "    </tr>\n",
       "    <tr>\n",
       "      <th>698</th>\n",
       "      <td>Best International Feature Film</td>\n",
       "      <td>The Zone of Interest</td>\n",
       "      <td>2024</td>\n",
       "    </tr>\n",
       "  </tbody>\n",
       "</table>\n",
       "<p>699 rows × 3 columns</p>\n",
       "</div>"
      ],
      "text/plain": [
       "                              category                              winner  \\\n",
       "0                         Best Picture                    A Beautiful Mind   \n",
       "1         Best Actor in a Leading Role                   Denzel Washington   \n",
       "2       Best Actress in a Leading Role                         Halle Berry   \n",
       "3      Best Actor in a Supporting Role                       Jim Broadbent   \n",
       "4    Best Actress in a Supporting Role                   Jennifer Connelly   \n",
       "..                                 ...                                 ...   \n",
       "694         Best Animated Feature Film               The Boy and the Heron   \n",
       "695           Best Animated Short Film                        War Is Over!   \n",
       "696        Best Live Action Short Film  The Wonderful Story of Henry Sugar   \n",
       "697        Best Documentary Short Film                The Last Repair Shop   \n",
       "698    Best International Feature Film                The Zone of Interest   \n",
       "\n",
       "     year  \n",
       "0    2002  \n",
       "1    2002  \n",
       "2    2002  \n",
       "3    2002  \n",
       "4    2002  \n",
       "..    ...  \n",
       "694  2024  \n",
       "695  2024  \n",
       "696  2024  \n",
       "697  2024  \n",
       "698  2024  \n",
       "\n",
       "[699 rows x 3 columns]"
      ]
     },
     "execution_count": 10,
     "metadata": {},
     "output_type": "execute_result"
    }
   ],
   "source": [
    "# Supprimer les crochets \"[\" et \"]\" des colonnes categories et winners\n",
    "oscars['categories'] = oscars['categories'].str.replace(r\"[\", \"\").str.replace(r\"'\", \"\")\n",
    "oscars['winners'] = oscars['winners'].str.replace(r\"[\", \"\").str.replace(r\"'\", \"\")\n",
    "# Nettoyage des chaînes en supprimant les guillemets simples et les espaces autour des chaînes\n",
    "oscars['categories'] = oscars['categories'].str.strip(\"'\").str.strip()\n",
    "oscars['winners'] = oscars['winners'].str.strip(\"'\").str.strip()\n",
    "# # Diviser les valeurs de chaque colonne en une liste\n",
    "oscars['category'] = oscars['categories'].str.split(', ')\n",
    "oscars['winner'] = oscars['winners'].str.split(', ')\n",
    "\n",
    "data_list = [(cat, win, year) for cat_list, win_list, year in zip(oscars['category'], oscars['winner'], oscars['year']) for cat, win in zip(cat_list, win_list)]\n",
    "oscars_data = pd.DataFrame(data_list, columns=['category', 'winner', 'year'])\n",
    "oscars_data.to_csv('oscars.csv', index=False)\n",
    "oscars_data "
   ]
  },
  {
   "cell_type": "markdown",
   "metadata": {},
   "source": [
    "### Allociné TARGET Box Office Week 1"
   ]
  },
  {
   "cell_type": "code",
   "execution_count": 11,
   "metadata": {},
   "outputs": [
    {
     "data": {
      "text/html": [
       "<div>\n",
       "<style scoped>\n",
       "    .dataframe tbody tr th:only-of-type {\n",
       "        vertical-align: middle;\n",
       "    }\n",
       "\n",
       "    .dataframe tbody tr th {\n",
       "        vertical-align: top;\n",
       "    }\n",
       "\n",
       "    .dataframe thead th {\n",
       "        text-align: right;\n",
       "    }\n",
       "</style>\n",
       "<table border=\"1\" class=\"dataframe\">\n",
       "  <thead>\n",
       "    <tr style=\"text-align: right;\">\n",
       "      <th></th>\n",
       "      <th>Titre</th>\n",
       "      <th>Entrées</th>\n",
       "    </tr>\n",
       "  </thead>\n",
       "  <tbody>\n",
       "    <tr>\n",
       "      <th>0</th>\n",
       "      <td>1 Kung Fu Panda 4 Universal Pictures Internati...</td>\n",
       "      <td>825 898</td>\n",
       "    </tr>\n",
       "    <tr>\n",
       "      <th>1</th>\n",
       "      <td>3 La Promesse verte Diaphana Distribution Band...</td>\n",
       "      <td>176 281</td>\n",
       "    </tr>\n",
       "    <tr>\n",
       "      <th>2</th>\n",
       "      <td>4 Pas de vagues Ad Vitam Bande-annonce</td>\n",
       "      <td>170 817</td>\n",
       "    </tr>\n",
       "    <tr>\n",
       "      <th>3</th>\n",
       "      <td>6 Le Jeu de la reine ARP Sélection Bande-annonce</td>\n",
       "      <td>106 872</td>\n",
       "    </tr>\n",
       "    <tr>\n",
       "      <th>4</th>\n",
       "      <td>4 Immaculée Metropolitan FilmExport Bande-annonce</td>\n",
       "      <td>129 796</td>\n",
       "    </tr>\n",
       "    <tr>\n",
       "      <th>...</th>\n",
       "      <td>...</td>\n",
       "      <td>...</td>\n",
       "    </tr>\n",
       "    <tr>\n",
       "      <th>3118</th>\n",
       "      <td>1 Espace détente ARP Sélection Bande-annonce</td>\n",
       "      <td>701 031</td>\n",
       "    </tr>\n",
       "    <tr>\n",
       "      <th>3119</th>\n",
       "      <td>3 L'Ex femme de ma vie Warner Bros. France Ban...</td>\n",
       "      <td>371 284</td>\n",
       "    </tr>\n",
       "    <tr>\n",
       "      <th>3120</th>\n",
       "      <td>4 Danny the Dog EuropaCorp Distribution Bande-...</td>\n",
       "      <td>350 054</td>\n",
       "    </tr>\n",
       "    <tr>\n",
       "      <th>3121</th>\n",
       "      <td>6 Le Manège enchanté Pathé Bande-annonce</td>\n",
       "      <td>189 760</td>\n",
       "    </tr>\n",
       "    <tr>\n",
       "      <th>3122</th>\n",
       "      <td>8 La Voix des morts United International Pictu...</td>\n",
       "      <td>125 191</td>\n",
       "    </tr>\n",
       "  </tbody>\n",
       "</table>\n",
       "<p>3123 rows × 2 columns</p>\n",
       "</div>"
      ],
      "text/plain": [
       "                                                  Titre  Entrées\n",
       "0     1 Kung Fu Panda 4 Universal Pictures Internati...  825 898\n",
       "1     3 La Promesse verte Diaphana Distribution Band...  176 281\n",
       "2                4 Pas de vagues Ad Vitam Bande-annonce  170 817\n",
       "3      6 Le Jeu de la reine ARP Sélection Bande-annonce  106 872\n",
       "4     4 Immaculée Metropolitan FilmExport Bande-annonce  129 796\n",
       "...                                                 ...      ...\n",
       "3118       1 Espace détente ARP Sélection Bande-annonce  701 031\n",
       "3119  3 L'Ex femme de ma vie Warner Bros. France Ban...  371 284\n",
       "3120  4 Danny the Dog EuropaCorp Distribution Bande-...  350 054\n",
       "3121           6 Le Manège enchanté Pathé Bande-annonce  189 760\n",
       "3122  8 La Voix des morts United International Pictu...  125 191\n",
       "\n",
       "[3123 rows x 2 columns]"
      ]
     },
     "execution_count": 11,
     "metadata": {},
     "output_type": "execute_result"
    }
   ],
   "source": [
    "import pandas as pd\n",
    "import requests\n",
    "import time\n",
    "from datetime import date, timedelta\n",
    "from io import StringIO \n",
    "from fake_useragent import UserAgent\n",
    "\n",
    "# Generate a random user-agent\n",
    "ua = UserAgent()\n",
    "headers = {'User-Agent': ua.random}\n",
    "\n",
    "# Date de départ\n",
    "start_date = date(2024, 3, 27)\n",
    "urls = [f\"https://www.allocine.fr/boxoffice/france/sem-{(start_date - timedelta(days=7*i)).strftime('%Y-%m-%d')}/\" for i in range(1000)]\n",
    "\n",
    "target_df = pd.DataFrame()\n",
    "\n",
    "# Boucle sur chaque URL\n",
    "for url in urls:\n",
    "    # Utiliser requests pour obtenir le contenu HTML\n",
    "    with requests.Session() as s:\n",
    "        s.headers.update(headers)\n",
    "        response = s.get(url)\n",
    "        if response.status_code == 200:\n",
    "            # Pause pour simuler une navigation humaine\n",
    "            time.sleep(1)\n",
    "            # Utiliser StringIO pour encapsuler le contenu HTML\n",
    "            html_content = StringIO(response.text)\n",
    "            # Utiliser pandas pour lire le tableau\n",
    "            tables = pd.read_html(html_content)\n",
    "            # Supposons que le tableau qui vous intéresse est le premier\n",
    "            table = tables[0]\n",
    "            # Filtrer ou nettoyer le tableau au besoin\n",
    "            table = table.query('Semaine == 1') \n",
    "            # Ajouter le tableau à notre DataFrame principal\n",
    "            target_df = pd.concat([target_df, table], ignore_index=True)\n",
    "            \n",
    "target_df = target_df.rename(columns={'Unnamed: 0': 'Titre'})\n",
    "target_df = target_df[['Titre', 'Entrées']]\n",
    "target_df"
   ]
  },
  {
   "cell_type": "markdown",
   "metadata": {},
   "source": [
    "## Final Data Cleaning"
   ]
  },
  {
   "cell_type": "code",
   "execution_count": 12,
   "metadata": {},
   "outputs": [
    {
     "name": "stderr",
     "output_type": "stream",
     "text": [
      "C:\\Users\\Thibaut\\AppData\\Local\\Temp\\ipykernel_30848\\1798755383.py:2: UserWarning: This pattern is interpreted as a regular expression, and has match groups. To actually get the groups, use str.extract.\n",
      "  matching_values = target_df[target_df['Titre'].str.contains(movie_title)]['Entrées']\n"
     ]
    }
   ],
   "source": [
    "def get_matching_values(movie_title):\n",
    "    matching_values = target_df[target_df['Titre'].str.contains(movie_title)]['Entrées']\n",
    "    if not matching_values.empty:\n",
    "        if len(matching_values) < 1:\n",
    "            return ' '.join(map(str, matching_values))\n",
    "        else:\n",
    "            return matching_values.iloc[0]\n",
    "    else:\n",
    "        return None\n",
    "movies_data = movies.copy()\n",
    "# Appliquer la fonction pour chaque titre de film de df1\n",
    "movies_data['total_tickets_sold_on_week1'] = movies_data['movie_title'].apply(get_matching_values)"
   ]
  },
  {
   "cell_type": "code",
   "execution_count": 13,
   "metadata": {},
   "outputs": [
    {
     "data": {
      "text/html": [
       "<div>\n",
       "<style scoped>\n",
       "    .dataframe tbody tr th:only-of-type {\n",
       "        vertical-align: middle;\n",
       "    }\n",
       "\n",
       "    .dataframe tbody tr th {\n",
       "        vertical-align: top;\n",
       "    }\n",
       "\n",
       "    .dataframe thead th {\n",
       "        text-align: right;\n",
       "    }\n",
       "</style>\n",
       "<table border=\"1\" class=\"dataframe\">\n",
       "  <thead>\n",
       "    <tr style=\"text-align: right;\">\n",
       "      <th></th>\n",
       "      <th>movie_boxoffice</th>\n",
       "      <th>movie_budget</th>\n",
       "      <th>movie_cast</th>\n",
       "      <th>movie_categories</th>\n",
       "      <th>movie_countries</th>\n",
       "      <th>movie_director</th>\n",
       "      <th>movie_id</th>\n",
       "      <th>movie_imdb_metascore</th>\n",
       "      <th>movie_imdb_nb_of_ratings</th>\n",
       "      <th>movie_imdb_popularity</th>\n",
       "      <th>movie_imdb_rating</th>\n",
       "      <th>movie_length</th>\n",
       "      <th>movie_original_title</th>\n",
       "      <th>movie_poster</th>\n",
       "      <th>movie_production_companies</th>\n",
       "      <th>movie_synopsis</th>\n",
       "      <th>movie_title</th>\n",
       "      <th>movie_url</th>\n",
       "      <th>movie_us_boxoffice</th>\n",
       "      <th>release_date</th>\n",
       "      <th>year</th>\n",
       "      <th>total_tickets_sold_on_week1</th>\n",
       "    </tr>\n",
       "  </thead>\n",
       "  <tbody>\n",
       "    <tr>\n",
       "      <th>7379</th>\n",
       "      <td>208859.0</td>\n",
       "      <td>850000.0</td>\n",
       "      <td>Yeong-ho Kim|Hwang Soo-Jung|Park Eun-hye|Boris...</td>\n",
       "      <td>Drame</td>\n",
       "      <td>Corée du Sud</td>\n",
       "      <td>Hong Sang-soo</td>\n",
       "      <td>tt1176096</td>\n",
       "      <td>73.0</td>\n",
       "      <td>13000.0</td>\n",
       "      <td>NaN</td>\n",
       "      <td>7.1</td>\n",
       "      <td>144.0</td>\n",
       "      <td>Bam gua nat</td>\n",
       "      <td>https://m.media-amazon.com/images/M/MV5BMjc2Nz...</td>\n",
       "      <td>B.O.M. Film Productions Co.</td>\n",
       "      <td>In the summer of 2007 a painter in his forties...</td>\n",
       "      <td>Night And Day</td>\n",
       "      <td>https://www.imdb.com/title/tt1176096/</td>\n",
       "      <td>NaN</td>\n",
       "      <td>23-07-2008</td>\n",
       "      <td>2008.0</td>\n",
       "      <td>None</td>\n",
       "    </tr>\n",
       "    <tr>\n",
       "      <th>4019</th>\n",
       "      <td>136786.0</td>\n",
       "      <td>NaN</td>\n",
       "      <td>Frédéric Dorkel|\"Joseph Jo Dorkel\"|Joseph Dork...</td>\n",
       "      <td>Drame</td>\n",
       "      <td>France</td>\n",
       "      <td>Jean-Charles Hue</td>\n",
       "      <td>tt1714667</td>\n",
       "      <td>NaN</td>\n",
       "      <td>156.0</td>\n",
       "      <td>NaN</td>\n",
       "      <td>6.3</td>\n",
       "      <td>84.0</td>\n",
       "      <td>NaN</td>\n",
       "      <td>https://m.media-amazon.com/images/M/MV5BYzdhYj...</td>\n",
       "      <td>Les Films dAvalon|Région Picardie|La Région Îl...</td>\n",
       "      <td>NaN</td>\n",
       "      <td>La Bm Du Seigneur</td>\n",
       "      <td>https://www.imdb.com/title/tt1714667/</td>\n",
       "      <td>NaN</td>\n",
       "      <td>26-01-2011</td>\n",
       "      <td>2010.0</td>\n",
       "      <td>None</td>\n",
       "    </tr>\n",
       "  </tbody>\n",
       "</table>\n",
       "</div>"
      ],
      "text/plain": [
       "      movie_boxoffice  movie_budget  \\\n",
       "7379         208859.0      850000.0   \n",
       "4019         136786.0           NaN   \n",
       "\n",
       "                                             movie_cast movie_categories  \\\n",
       "7379  Yeong-ho Kim|Hwang Soo-Jung|Park Eun-hye|Boris...            Drame   \n",
       "4019  Frédéric Dorkel|\"Joseph Jo Dorkel\"|Joseph Dork...            Drame   \n",
       "\n",
       "     movie_countries    movie_director   movie_id  movie_imdb_metascore  \\\n",
       "7379    Corée du Sud     Hong Sang-soo  tt1176096                  73.0   \n",
       "4019          France  Jean-Charles Hue  tt1714667                   NaN   \n",
       "\n",
       "      movie_imdb_nb_of_ratings  movie_imdb_popularity  movie_imdb_rating  \\\n",
       "7379                   13000.0                    NaN                7.1   \n",
       "4019                     156.0                    NaN                6.3   \n",
       "\n",
       "      movie_length movie_original_title  \\\n",
       "7379         144.0          Bam gua nat   \n",
       "4019          84.0                  NaN   \n",
       "\n",
       "                                           movie_poster  \\\n",
       "7379  https://m.media-amazon.com/images/M/MV5BMjc2Nz...   \n",
       "4019  https://m.media-amazon.com/images/M/MV5BYzdhYj...   \n",
       "\n",
       "                             movie_production_companies  \\\n",
       "7379                        B.O.M. Film Productions Co.   \n",
       "4019  Les Films dAvalon|Région Picardie|La Région Îl...   \n",
       "\n",
       "                                         movie_synopsis        movie_title  \\\n",
       "7379  In the summer of 2007 a painter in his forties...      Night And Day   \n",
       "4019                                                NaN  La Bm Du Seigneur   \n",
       "\n",
       "                                  movie_url  movie_us_boxoffice release_date  \\\n",
       "7379  https://www.imdb.com/title/tt1176096/                 NaN   23-07-2008   \n",
       "4019  https://www.imdb.com/title/tt1714667/                 NaN   26-01-2011   \n",
       "\n",
       "        year total_tickets_sold_on_week1  \n",
       "7379  2008.0                        None  \n",
       "4019  2010.0                        None  "
      ]
     },
     "execution_count": 13,
     "metadata": {},
     "output_type": "execute_result"
    }
   ],
   "source": [
    "merge = pd.concat([movies_data, upcoming_movies2])\n",
    "merge.sample(2)"
   ]
  },
  {
   "cell_type": "code",
   "execution_count": 14,
   "metadata": {},
   "outputs": [
    {
     "data": {
      "text/html": [
       "<div>\n",
       "<style scoped>\n",
       "    .dataframe tbody tr th:only-of-type {\n",
       "        vertical-align: middle;\n",
       "    }\n",
       "\n",
       "    .dataframe tbody tr th {\n",
       "        vertical-align: top;\n",
       "    }\n",
       "\n",
       "    .dataframe thead th {\n",
       "        text-align: right;\n",
       "    }\n",
       "</style>\n",
       "<table border=\"1\" class=\"dataframe\">\n",
       "  <thead>\n",
       "    <tr style=\"text-align: right;\">\n",
       "      <th></th>\n",
       "      <th>casting</th>\n",
       "      <th>director</th>\n",
       "      <th>duration</th>\n",
       "      <th>ENTRIES</th>\n",
       "      <th>film_id</th>\n",
       "      <th>genres</th>\n",
       "      <th>img_src</th>\n",
       "      <th>press_ratings</th>\n",
       "      <th>release</th>\n",
       "      <th>societies</th>\n",
       "      <th>synopsis</th>\n",
       "      <th>title</th>\n",
       "      <th>viewers_ratings</th>\n",
       "      <th>release_year</th>\n",
       "      <th>original_title</th>\n",
       "      <th>public_rating</th>\n",
       "      <th>vote_count</th>\n",
       "      <th>press_rating</th>\n",
       "      <th>audience</th>\n",
       "      <th>poster_link</th>\n",
       "      <th>start1</th>\n",
       "      <th>start2</th>\n",
       "      <th>start3</th>\n",
       "    </tr>\n",
       "  </thead>\n",
       "  <tbody>\n",
       "    <tr>\n",
       "      <th>0</th>\n",
       "      <td>François Civil|Shaïn Boumedine|Bakary Kebe|Tos...</td>\n",
       "      <td>Teddy Lussi-Modeste</td>\n",
       "      <td>92.0</td>\n",
       "      <td>170817</td>\n",
       "      <td>306254</td>\n",
       "      <td>Drame</td>\n",
       "      <td>https://fr.web.img5.acsta.net/c_310_420/pictur...</td>\n",
       "      <td>3.4</td>\n",
       "      <td>27 mars 2024</td>\n",
       "      <td>Kazak Productions|Ad Vitam|Indie Sales</td>\n",
       "      <td>Julien est professeur au collège. Jeune et vol...</td>\n",
       "      <td>Pas de vagues</td>\n",
       "      <td>3.9</td>\n",
       "      <td>2024.0</td>\n",
       "      <td>NaN</td>\n",
       "      <td>4.0</td>\n",
       "      <td>NaN</td>\n",
       "      <td>3.0</td>\n",
       "      <td>NaN</td>\n",
       "      <td>https://fr.web.img5.acsta.net/c_310_420/pictur...</td>\n",
       "      <td>Bakary Kebe</td>\n",
       "      <td>Emma Boumali</td>\n",
       "      <td>François Civil</td>\n",
       "    </tr>\n",
       "    <tr>\n",
       "      <th>1</th>\n",
       "      <td>Jack Black|Awkwafina|Viola Davis|Dustin Hoffma...</td>\n",
       "      <td>Mike Mitchell (V)|Stephanie Stine</td>\n",
       "      <td>94.0</td>\n",
       "      <td>825898</td>\n",
       "      <td>306226</td>\n",
       "      <td>Aventure|Animation|Comédie|Famille|Arts Martiaux</td>\n",
       "      <td>https://fr.web.img4.acsta.net/c_310_420/pictur...</td>\n",
       "      <td>2.9</td>\n",
       "      <td>27 mars 2024</td>\n",
       "      <td>DreamWorks Animation|Universal Pictures|Univer...</td>\n",
       "      <td>Après trois aventures dans lesquelles le guerr...</td>\n",
       "      <td>Kung Fu Panda 4</td>\n",
       "      <td>3.5</td>\n",
       "      <td>NaN</td>\n",
       "      <td>NaN</td>\n",
       "      <td>NaN</td>\n",
       "      <td>NaN</td>\n",
       "      <td>NaN</td>\n",
       "      <td>NaN</td>\n",
       "      <td>NaN</td>\n",
       "      <td>NaN</td>\n",
       "      <td>NaN</td>\n",
       "      <td>NaN</td>\n",
       "    </tr>\n",
       "    <tr>\n",
       "      <th>2</th>\n",
       "      <td>Alicia Vikander|Jude Law|Eddie Marsan|Sam Rile...</td>\n",
       "      <td>Karim Aïnouz</td>\n",
       "      <td>120.0</td>\n",
       "      <td>106872</td>\n",
       "      <td>294377</td>\n",
       "      <td>Drame|Historique</td>\n",
       "      <td>https://fr.web.img2.acsta.net/c_310_420/pictur...</td>\n",
       "      <td>3.2</td>\n",
       "      <td>27 mars 2024</td>\n",
       "      <td>FilmNation Entertainment|Brouhaha Entertainmen...</td>\n",
       "      <td>Catherine Parr est la sixième femme du roi Hen...</td>\n",
       "      <td>Le Jeu de la reine</td>\n",
       "      <td>3.6</td>\n",
       "      <td>2024.0</td>\n",
       "      <td>NaN</td>\n",
       "      <td>4.0</td>\n",
       "      <td>NaN</td>\n",
       "      <td>3.0</td>\n",
       "      <td>NaN</td>\n",
       "      <td>https://fr.web.img2.acsta.net/c_310_420/pictur...</td>\n",
       "      <td>Alicia Vikander</td>\n",
       "      <td>Amr Waked</td>\n",
       "      <td>Eddie Marsan</td>\n",
       "    </tr>\n",
       "    <tr>\n",
       "      <th>3</th>\n",
       "      <td>Alexandra Lamy|Félix Moati|Sofian Khammes|Juli...</td>\n",
       "      <td>Edouard Bergeon</td>\n",
       "      <td>124.0</td>\n",
       "      <td>176281</td>\n",
       "      <td>314138</td>\n",
       "      <td>Drame</td>\n",
       "      <td>https://fr.web.img3.acsta.net/c_310_420/pictur...</td>\n",
       "      <td>3.0</td>\n",
       "      <td>27 mars 2024</td>\n",
       "      <td>Nord-Ouest Films|France 2 Cinéma|Diaphana Dist...</td>\n",
       "      <td>Pour tenter de sauver son fils Martin injustem...</td>\n",
       "      <td>La Promesse verte</td>\n",
       "      <td>3.9</td>\n",
       "      <td>2024.0</td>\n",
       "      <td>NaN</td>\n",
       "      <td>4.0</td>\n",
       "      <td>NaN</td>\n",
       "      <td>3.0</td>\n",
       "      <td>NaN</td>\n",
       "      <td>https://fr.web.img3.acsta.net/c_310_420/pictur...</td>\n",
       "      <td>Adam Fitzgerald</td>\n",
       "      <td>Alexandra Lamy</td>\n",
       "      <td>Antoine Bertrand</td>\n",
       "    </tr>\n",
       "    <tr>\n",
       "      <th>4</th>\n",
       "      <td>Paola Cortellesi|Valerio Mastandrea|Romana Mag...</td>\n",
       "      <td>Paola Cortellesi</td>\n",
       "      <td>118.0</td>\n",
       "      <td>145340</td>\n",
       "      <td>321520</td>\n",
       "      <td>Comédie|Drame</td>\n",
       "      <td>https://fr.web.img3.acsta.net/c_310_420/pictur...</td>\n",
       "      <td>3.2</td>\n",
       "      <td>13 mars 2024</td>\n",
       "      <td>Universal Pictures International France|Wildsi...</td>\n",
       "      <td>Mariée à Ivano, Delia, mère de trois enfants, ...</td>\n",
       "      <td>Il reste encore demain</td>\n",
       "      <td>4.3</td>\n",
       "      <td>2024.0</td>\n",
       "      <td>NaN</td>\n",
       "      <td>4.0</td>\n",
       "      <td>NaN</td>\n",
       "      <td>3.0</td>\n",
       "      <td>NaN</td>\n",
       "      <td>https://fr.web.img3.acsta.net/c_310_420/pictur...</td>\n",
       "      <td>Emanuela Fanelli</td>\n",
       "      <td>Francesco Centorame</td>\n",
       "      <td>Giorgio Colangeli</td>\n",
       "    </tr>\n",
       "    <tr>\n",
       "      <th>...</th>\n",
       "      <td>...</td>\n",
       "      <td>...</td>\n",
       "      <td>...</td>\n",
       "      <td>...</td>\n",
       "      <td>...</td>\n",
       "      <td>...</td>\n",
       "      <td>...</td>\n",
       "      <td>...</td>\n",
       "      <td>...</td>\n",
       "      <td>...</td>\n",
       "      <td>...</td>\n",
       "      <td>...</td>\n",
       "      <td>...</td>\n",
       "      <td>...</td>\n",
       "      <td>...</td>\n",
       "      <td>...</td>\n",
       "      <td>...</td>\n",
       "      <td>...</td>\n",
       "      <td>...</td>\n",
       "      <td>...</td>\n",
       "      <td>...</td>\n",
       "      <td>...</td>\n",
       "      <td>...</td>\n",
       "    </tr>\n",
       "    <tr>\n",
       "      <th>3784</th>\n",
       "      <td>Woody Allen|Sharon Stone|Sylvester Stallone|Ge...</td>\n",
       "      <td>Eric Darnell|Tim Johnson|Lawrence Guterman</td>\n",
       "      <td>83.0</td>\n",
       "      <td>421717</td>\n",
       "      <td>19483</td>\n",
       "      <td>Aventure|Animation|Comédie|Famille</td>\n",
       "      <td>https://fr.web.img6.acsta.net/c_310_420/medias...</td>\n",
       "      <td>3.4</td>\n",
       "      <td>11 novembre 1998</td>\n",
       "      <td>DreamWorks SKG|Pacific Data Images|United Inte...</td>\n",
       "      <td>Z-4195, fourmi ouvrière, est amoureux de la be...</td>\n",
       "      <td>Fourmiz</td>\n",
       "      <td>NaN</td>\n",
       "      <td>NaN</td>\n",
       "      <td>NaN</td>\n",
       "      <td>NaN</td>\n",
       "      <td>NaN</td>\n",
       "      <td>NaN</td>\n",
       "      <td>NaN</td>\n",
       "      <td>NaN</td>\n",
       "      <td>NaN</td>\n",
       "      <td>NaN</td>\n",
       "      <td>NaN</td>\n",
       "    </tr>\n",
       "    <tr>\n",
       "      <th>3785</th>\n",
       "      <td>Daniel Auteuil|Gérard Depardieu|Thierry Lhermi...</td>\n",
       "      <td>Francis Veber</td>\n",
       "      <td>84.0</td>\n",
       "      <td>1190496</td>\n",
       "      <td>27793</td>\n",
       "      <td>Comédie</td>\n",
       "      <td>https://fr.web.img6.acsta.net/c_310_420/medias...</td>\n",
       "      <td>3.6</td>\n",
       "      <td>17 janvier 2001</td>\n",
       "      <td>StudioCanal|Gaumont|TF1 Films Production|Gaumo...</td>\n",
       "      <td>François Pignon, un homme au costume sombre et...</td>\n",
       "      <td>Le Placard</td>\n",
       "      <td>2.9</td>\n",
       "      <td>2001.0</td>\n",
       "      <td>NaN</td>\n",
       "      <td>3.0</td>\n",
       "      <td>NaN</td>\n",
       "      <td>4.0</td>\n",
       "      <td>NaN</td>\n",
       "      <td>https://fr.web.img6.acsta.net/c_310_420/medias...</td>\n",
       "      <td>Alexandra Vandernoot</td>\n",
       "      <td>Daniel Auteuil</td>\n",
       "      <td>Gérard Depardieu</td>\n",
       "    </tr>\n",
       "    <tr>\n",
       "      <th>3786</th>\n",
       "      <td>Adam Sandler|Joey Lauren Adams|Jon Stewart|Kri...</td>\n",
       "      <td>Dennis Dugan</td>\n",
       "      <td>93.0</td>\n",
       "      <td>141577</td>\n",
       "      <td>20537</td>\n",
       "      <td>Comédie</td>\n",
       "      <td>https://fr.web.img2.acsta.net/c_310_420/medias...</td>\n",
       "      <td>2.7</td>\n",
       "      <td>22 septembre 1999</td>\n",
       "      <td>Out of the blue... Entertainment|Jack Giarrapu...</td>\n",
       "      <td>Pour impressionner sa petite amie Vanessa et à...</td>\n",
       "      <td>Big Daddy</td>\n",
       "      <td>2.6</td>\n",
       "      <td>1999.0</td>\n",
       "      <td>NaN</td>\n",
       "      <td>3.0</td>\n",
       "      <td>NaN</td>\n",
       "      <td>3.0</td>\n",
       "      <td>NaN</td>\n",
       "      <td>https://fr.web.img2.acsta.net/c_310_420/medias...</td>\n",
       "      <td>Adam Sandler</td>\n",
       "      <td>Cole Sprouse</td>\n",
       "      <td>Dylan Sprouse</td>\n",
       "    </tr>\n",
       "    <tr>\n",
       "      <th>3787</th>\n",
       "      <td>Albert Dupontel|Valérie Dréville|Dominique Rey...</td>\n",
       "      <td>Michel Deville</td>\n",
       "      <td>107.0</td>\n",
       "      <td>67152</td>\n",
       "      <td>20445</td>\n",
       "      <td>Comédie dramatique</td>\n",
       "      <td>https://fr.web.img3.acsta.net/c_310_420/medias...</td>\n",
       "      <td>3.8</td>\n",
       "      <td>22 septembre 1999</td>\n",
       "      <td>StudioCanal|Katharina|France 2 Cinéma|Eléfilm|...</td>\n",
       "      <td>Confronté à la souffrance, à l'angoisse, à la ...</td>\n",
       "      <td>La maladie de Sachs</td>\n",
       "      <td>3.3</td>\n",
       "      <td>1999.0</td>\n",
       "      <td>NaN</td>\n",
       "      <td>3.0</td>\n",
       "      <td>NaN</td>\n",
       "      <td>4.0</td>\n",
       "      <td>NaN</td>\n",
       "      <td>https://fr.web.img3.acsta.net/c_310_420/medias...</td>\n",
       "      <td>Albert Dupontel</td>\n",
       "      <td>Bernard Waver</td>\n",
       "      <td>Dominique Reymond</td>\n",
       "    </tr>\n",
       "    <tr>\n",
       "      <th>3788</th>\n",
       "      <td>Jim Carrey|Laura Linney|Natascha McElhone|Ed H...</td>\n",
       "      <td>Peter Weir</td>\n",
       "      <td>103.0</td>\n",
       "      <td>244990</td>\n",
       "      <td>18671</td>\n",
       "      <td>Comédie|Drame</td>\n",
       "      <td>https://fr.web.img6.acsta.net/c_310_420/pictur...</td>\n",
       "      <td>3.6</td>\n",
       "      <td>28 octobre 1998</td>\n",
       "      <td>Scott Rudin Productions|Universal Pictures|Cin...</td>\n",
       "      <td>Truman Burbank mène une vie calme et heureuse....</td>\n",
       "      <td>The Truman Show</td>\n",
       "      <td>4.3</td>\n",
       "      <td>1998.0</td>\n",
       "      <td>NaN</td>\n",
       "      <td>4.0</td>\n",
       "      <td>NaN</td>\n",
       "      <td>4.0</td>\n",
       "      <td>NaN</td>\n",
       "      <td>https://fr.web.img6.acsta.net/c_310_420/pictur...</td>\n",
       "      <td>Ed Harris</td>\n",
       "      <td>Holland Taylor</td>\n",
       "      <td>Jim Carrey</td>\n",
       "    </tr>\n",
       "  </tbody>\n",
       "</table>\n",
       "<p>3789 rows × 23 columns</p>\n",
       "</div>"
      ],
      "text/plain": [
       "                                                casting  \\\n",
       "0     François Civil|Shaïn Boumedine|Bakary Kebe|Tos...   \n",
       "1     Jack Black|Awkwafina|Viola Davis|Dustin Hoffma...   \n",
       "2     Alicia Vikander|Jude Law|Eddie Marsan|Sam Rile...   \n",
       "3     Alexandra Lamy|Félix Moati|Sofian Khammes|Juli...   \n",
       "4     Paola Cortellesi|Valerio Mastandrea|Romana Mag...   \n",
       "...                                                 ...   \n",
       "3784  Woody Allen|Sharon Stone|Sylvester Stallone|Ge...   \n",
       "3785  Daniel Auteuil|Gérard Depardieu|Thierry Lhermi...   \n",
       "3786  Adam Sandler|Joey Lauren Adams|Jon Stewart|Kri...   \n",
       "3787  Albert Dupontel|Valérie Dréville|Dominique Rey...   \n",
       "3788  Jim Carrey|Laura Linney|Natascha McElhone|Ed H...   \n",
       "\n",
       "                                        director  duration  ENTRIES  film_id  \\\n",
       "0                            Teddy Lussi-Modeste      92.0   170817   306254   \n",
       "1              Mike Mitchell (V)|Stephanie Stine      94.0   825898   306226   \n",
       "2                                   Karim Aïnouz     120.0   106872   294377   \n",
       "3                                Edouard Bergeon     124.0   176281   314138   \n",
       "4                               Paola Cortellesi     118.0   145340   321520   \n",
       "...                                          ...       ...      ...      ...   \n",
       "3784  Eric Darnell|Tim Johnson|Lawrence Guterman      83.0   421717    19483   \n",
       "3785                               Francis Veber      84.0  1190496    27793   \n",
       "3786                                Dennis Dugan      93.0   141577    20537   \n",
       "3787                              Michel Deville     107.0    67152    20445   \n",
       "3788                                  Peter Weir     103.0   244990    18671   \n",
       "\n",
       "                                                genres  \\\n",
       "0                                                Drame   \n",
       "1     Aventure|Animation|Comédie|Famille|Arts Martiaux   \n",
       "2                                     Drame|Historique   \n",
       "3                                                Drame   \n",
       "4                                        Comédie|Drame   \n",
       "...                                                ...   \n",
       "3784                Aventure|Animation|Comédie|Famille   \n",
       "3785                                           Comédie   \n",
       "3786                                           Comédie   \n",
       "3787                                Comédie dramatique   \n",
       "3788                                     Comédie|Drame   \n",
       "\n",
       "                                                img_src  press_ratings  \\\n",
       "0     https://fr.web.img5.acsta.net/c_310_420/pictur...            3.4   \n",
       "1     https://fr.web.img4.acsta.net/c_310_420/pictur...            2.9   \n",
       "2     https://fr.web.img2.acsta.net/c_310_420/pictur...            3.2   \n",
       "3     https://fr.web.img3.acsta.net/c_310_420/pictur...            3.0   \n",
       "4     https://fr.web.img3.acsta.net/c_310_420/pictur...            3.2   \n",
       "...                                                 ...            ...   \n",
       "3784  https://fr.web.img6.acsta.net/c_310_420/medias...            3.4   \n",
       "3785  https://fr.web.img6.acsta.net/c_310_420/medias...            3.6   \n",
       "3786  https://fr.web.img2.acsta.net/c_310_420/medias...            2.7   \n",
       "3787  https://fr.web.img3.acsta.net/c_310_420/medias...            3.8   \n",
       "3788  https://fr.web.img6.acsta.net/c_310_420/pictur...            3.6   \n",
       "\n",
       "                release                                          societies  \\\n",
       "0          27 mars 2024             Kazak Productions|Ad Vitam|Indie Sales   \n",
       "1          27 mars 2024  DreamWorks Animation|Universal Pictures|Univer...   \n",
       "2          27 mars 2024  FilmNation Entertainment|Brouhaha Entertainmen...   \n",
       "3          27 mars 2024  Nord-Ouest Films|France 2 Cinéma|Diaphana Dist...   \n",
       "4          13 mars 2024  Universal Pictures International France|Wildsi...   \n",
       "...                 ...                                                ...   \n",
       "3784   11 novembre 1998  DreamWorks SKG|Pacific Data Images|United Inte...   \n",
       "3785    17 janvier 2001  StudioCanal|Gaumont|TF1 Films Production|Gaumo...   \n",
       "3786  22 septembre 1999  Out of the blue... Entertainment|Jack Giarrapu...   \n",
       "3787  22 septembre 1999  StudioCanal|Katharina|France 2 Cinéma|Eléfilm|...   \n",
       "3788    28 octobre 1998  Scott Rudin Productions|Universal Pictures|Cin...   \n",
       "\n",
       "                                               synopsis  \\\n",
       "0     Julien est professeur au collège. Jeune et vol...   \n",
       "1     Après trois aventures dans lesquelles le guerr...   \n",
       "2     Catherine Parr est la sixième femme du roi Hen...   \n",
       "3     Pour tenter de sauver son fils Martin injustem...   \n",
       "4     Mariée à Ivano, Delia, mère de trois enfants, ...   \n",
       "...                                                 ...   \n",
       "3784  Z-4195, fourmi ouvrière, est amoureux de la be...   \n",
       "3785  François Pignon, un homme au costume sombre et...   \n",
       "3786  Pour impressionner sa petite amie Vanessa et à...   \n",
       "3787  Confronté à la souffrance, à l'angoisse, à la ...   \n",
       "3788  Truman Burbank mène une vie calme et heureuse....   \n",
       "\n",
       "                       title  viewers_ratings  release_year  original_title  \\\n",
       "0              Pas de vagues              3.9        2024.0             NaN   \n",
       "1            Kung Fu Panda 4              3.5           NaN             NaN   \n",
       "2         Le Jeu de la reine              3.6        2024.0             NaN   \n",
       "3          La Promesse verte              3.9        2024.0             NaN   \n",
       "4     Il reste encore demain              4.3        2024.0             NaN   \n",
       "...                      ...              ...           ...             ...   \n",
       "3784                 Fourmiz              NaN           NaN             NaN   \n",
       "3785              Le Placard              2.9        2001.0             NaN   \n",
       "3786               Big Daddy              2.6        1999.0             NaN   \n",
       "3787     La maladie de Sachs              3.3        1999.0             NaN   \n",
       "3788         The Truman Show              4.3        1998.0             NaN   \n",
       "\n",
       "      public_rating  vote_count  press_rating  audience  \\\n",
       "0               4.0         NaN           3.0       NaN   \n",
       "1               NaN         NaN           NaN       NaN   \n",
       "2               4.0         NaN           3.0       NaN   \n",
       "3               4.0         NaN           3.0       NaN   \n",
       "4               4.0         NaN           3.0       NaN   \n",
       "...             ...         ...           ...       ...   \n",
       "3784            NaN         NaN           NaN       NaN   \n",
       "3785            3.0         NaN           4.0       NaN   \n",
       "3786            3.0         NaN           3.0       NaN   \n",
       "3787            3.0         NaN           4.0       NaN   \n",
       "3788            4.0         NaN           4.0       NaN   \n",
       "\n",
       "                                            poster_link                start1  \\\n",
       "0     https://fr.web.img5.acsta.net/c_310_420/pictur...           Bakary Kebe   \n",
       "1                                                   NaN                   NaN   \n",
       "2     https://fr.web.img2.acsta.net/c_310_420/pictur...       Alicia Vikander   \n",
       "3     https://fr.web.img3.acsta.net/c_310_420/pictur...       Adam Fitzgerald   \n",
       "4     https://fr.web.img3.acsta.net/c_310_420/pictur...      Emanuela Fanelli   \n",
       "...                                                 ...                   ...   \n",
       "3784                                                NaN                   NaN   \n",
       "3785  https://fr.web.img6.acsta.net/c_310_420/medias...  Alexandra Vandernoot   \n",
       "3786  https://fr.web.img2.acsta.net/c_310_420/medias...          Adam Sandler   \n",
       "3787  https://fr.web.img3.acsta.net/c_310_420/medias...       Albert Dupontel   \n",
       "3788  https://fr.web.img6.acsta.net/c_310_420/pictur...             Ed Harris   \n",
       "\n",
       "                   start2             start3  \n",
       "0            Emma Boumali     François Civil  \n",
       "1                     NaN                NaN  \n",
       "2               Amr Waked       Eddie Marsan  \n",
       "3          Alexandra Lamy   Antoine Bertrand  \n",
       "4     Francesco Centorame  Giorgio Colangeli  \n",
       "...                   ...                ...  \n",
       "3784                  NaN                NaN  \n",
       "3785       Daniel Auteuil   Gérard Depardieu  \n",
       "3786         Cole Sprouse      Dylan Sprouse  \n",
       "3787        Bernard Waver  Dominique Reymond  \n",
       "3788       Holland Taylor         Jim Carrey  \n",
       "\n",
       "[3789 rows x 23 columns]"
      ]
     },
     "execution_count": 14,
     "metadata": {},
     "output_type": "execute_result"
    }
   ],
   "source": [
    "data = pd.read_csv(r'C:\\Users\\Thibaut\\Documents\\SIMPLON\\DEV-IA\\BOXOFFICE\\scraping\\data\\group_films.csv')\n",
    "frame = pd.read_csv(r'C:\\Users\\Thibaut\\Documents\\SIMPLON\\DEV-IA\\BOXOFFICE\\scraping\\data\\EDA.csv')\n",
    "frame = frame.rename(columns={'duration_m':'duration','directors':'director'})\n",
    "dataframe = pd.merge(data, frame, on=[\"title\", \"director\", \"duration\"], how='left')\n",
    "dataframe = dataframe.rename(columns={'genres_x':'genres', 'synopsis_x':'synopsis', 'entries':'ENTRIES'})\n",
    "dataframe = dataframe.drop_duplicates()\n",
    "dataframe = dataframe.drop(columns=[\"genres_y\", \"synopsis_y\"], axis=1)\n",
    "dataframe "
   ]
  },
  {
   "cell_type": "markdown",
   "metadata": {},
   "source": [
    "# EDA"
   ]
  },
  {
   "cell_type": "code",
   "execution_count": 15,
   "metadata": {},
   "outputs": [],
   "source": [
    "import matplotlib.pyplot as plt\n",
    "import seaborn as sns\n",
    "import pandas as pd\n",
    "import numpy as np"
   ]
  },
  {
   "cell_type": "code",
   "execution_count": 16,
   "metadata": {},
   "outputs": [
    {
     "data": {
      "text/plain": [
       "Index(['movie_boxoffice', 'movie_budget', 'movie_cast', 'movie_categories',\n",
       "       'movie_countries', 'movie_director', 'movie_id', 'movie_imdb_metascore',\n",
       "       'movie_imdb_nb_of_ratings', 'movie_imdb_popularity',\n",
       "       'movie_imdb_rating', 'movie_length', 'movie_original_title',\n",
       "       'movie_poster', 'movie_production_companies', 'movie_synopsis',\n",
       "       'movie_title', 'movie_url', 'movie_us_boxoffice', 'release_date',\n",
       "       'year', 'total_tickets_sold_on_week1'],\n",
       "      dtype='object')"
      ]
     },
     "execution_count": 16,
     "metadata": {},
     "output_type": "execute_result"
    }
   ],
   "source": [
    "dataframe = merge.copy()\n",
    "dataframe.columns"
   ]
  },
  {
   "cell_type": "markdown",
   "metadata": {},
   "source": [
    "## Univariate Analysis"
   ]
  },
  {
   "cell_type": "markdown",
   "metadata": {},
   "source": [
    "#### MOVIE BOX OFFICE"
   ]
  },
  {
   "cell_type": "code",
   "execution_count": 17,
   "metadata": {},
   "outputs": [
    {
     "data": {
      "text/plain": [
       "count    4.522000e+03\n",
       "mean     1.899638e+07\n",
       "std      7.829870e+07\n",
       "min      2.000000e+00\n",
       "25%      1.732902e+05\n",
       "50%      1.191653e+06\n",
       "75%      5.352191e+06\n",
       "max      1.066180e+09\n",
       "Name: movie_boxoffice, dtype: float64"
      ]
     },
     "execution_count": 17,
     "metadata": {},
     "output_type": "execute_result"
    }
   ],
   "source": [
    "merge.movie_boxoffice.describe()"
   ]
  },
  {
   "cell_type": "code",
   "execution_count": 18,
   "metadata": {},
   "outputs": [
    {
     "data": {
      "image/png": "[encoded data removed]",
      "text/plain": [
       "<Figure size 640x480 with 1 Axes>"
      ]
     },
     "metadata": {},
     "output_type": "display_data"
    }
   ],
   "source": [
    "sns.boxenplot(dataframe.movie_boxoffice, color='cadetblue')\n",
    "plt.title(\"MOVIE BOXOFFICE DISTRIBUTION\")\n",
    "plt.yscale('log')\n",
    "plt.show()"
   ]
  },
  {
   "cell_type": "code",
   "execution_count": 19,
   "metadata": {},
   "outputs": [
    {
     "name": "stdout",
     "output_type": "stream",
     "text": [
      "Il y a 4258 soit 48.5 % films sans boxoffice dans le dataset\n"
     ]
    }
   ],
   "source": [
    "nan = dataframe.movie_boxoffice.isna().sum()\n",
    "print(f'Il y a {nan} soit {round(nan*100/len(dataframe), 2)} % films sans boxoffice dans le dataset')"
   ]
  },
  {
   "cell_type": "markdown",
   "metadata": {},
   "source": [
    "#### MOVIE BUDGET"
   ]
  },
  {
   "cell_type": "code",
   "execution_count": 20,
   "metadata": {},
   "outputs": [],
   "source": [
    "# Attention, il y avait un problème de conversion des budgets non américains donc j'ai tout laissé tel quel\n",
    "# Il faudrait peut-être les convertir via pandas & rescraper ces données en enlevant le nettoyage de cette variable dans les pipelines\n",
    "# Supprimer les budgets inférieurs à un certain seuil?"
   ]
  },
  {
   "cell_type": "code",
   "execution_count": 21,
   "metadata": {},
   "outputs": [
    {
     "data": {
      "text/plain": [
       "count    2.810000e+03\n",
       "mean     5.380332e+07\n",
       "std      1.656308e+09\n",
       "min      1.000000e+00\n",
       "25%      7.125000e+05\n",
       "50%      3.915053e+06\n",
       "75%      1.200000e+07\n",
       "max      8.590770e+10\n",
       "Name: movie_budget, dtype: float64"
      ]
     },
     "execution_count": 21,
     "metadata": {},
     "output_type": "execute_result"
    }
   ],
   "source": [
    "merge.movie_budget.describe()"
   ]
  },
  {
   "cell_type": "code",
   "execution_count": 22,
   "metadata": {},
   "outputs": [
    {
     "data": {
      "image/png": "[encoded data removed]",
      "text/plain": [
       "<Figure size 640x480 with 1 Axes>"
      ]
     },
     "metadata": {},
     "output_type": "display_data"
    }
   ],
   "source": [
    "sns.boxenplot(dataframe.movie_budget, color='cadetblue')\n",
    "plt.title(\"MOVIE BUDGETS DISTRIBUTION\")\n",
    "plt.yscale('log')\n",
    "plt.show()"
   ]
  },
  {
   "cell_type": "code",
   "execution_count": 23,
   "metadata": {},
   "outputs": [
    {
     "name": "stdout",
     "output_type": "stream",
     "text": [
      "Il y a 5970 soit 68.0 % films sans casting dans le dataset\n"
     ]
    }
   ],
   "source": [
    "nan = dataframe.movie_budget.isna().sum()\n",
    "print(f'Il y a {nan} soit {round(nan*100/len(dataframe), 2)} % films sans casting dans le dataset')"
   ]
  },
  {
   "cell_type": "markdown",
   "metadata": {},
   "source": [
    "#### MOVIE CAST"
   ]
  },
  {
   "cell_type": "code",
   "execution_count": 24,
   "metadata": {},
   "outputs": [],
   "source": [
    "# Que faire?"
   ]
  },
  {
   "cell_type": "code",
   "execution_count": 25,
   "metadata": {},
   "outputs": [
    {
     "data": {
      "text/plain": [
       "count              8695\n",
       "unique             8689\n",
       "top       Simon Leblanc\n",
       "freq                  2\n",
       "Name: movie_cast, dtype: object"
      ]
     },
     "execution_count": 25,
     "metadata": {},
     "output_type": "execute_result"
    }
   ],
   "source": [
    "dataframe.movie_cast.describe()"
   ]
  },
  {
   "cell_type": "code",
   "execution_count": 26,
   "metadata": {},
   "outputs": [
    {
     "name": "stdout",
     "output_type": "stream",
     "text": [
      "Il y a 85 soit 0.97 % films sans casting dans le dataset\n"
     ]
    }
   ],
   "source": [
    "nan = dataframe.movie_cast.isna().sum()\n",
    "print(f'Il y a {nan} soit {round(nan*100/len(dataframe), 2)} % films sans casting dans le dataset')"
   ]
  },
  {
   "cell_type": "markdown",
   "metadata": {},
   "source": [
    "#### MOVIE CATEGORIES"
   ]
  },
  {
   "cell_type": "code",
   "execution_count": 27,
   "metadata": {},
   "outputs": [],
   "source": [
    "# Que faire?\n",
    "# Il faudrait les séparer et faire un value_counts sur les catégories uniques"
   ]
  },
  {
   "cell_type": "code",
   "execution_count": 28,
   "metadata": {},
   "outputs": [
    {
     "data": {
      "text/plain": [
       "count      8774\n",
       "unique      465\n",
       "top       Drame\n",
       "freq       2564\n",
       "Name: movie_categories, dtype: object"
      ]
     },
     "execution_count": 28,
     "metadata": {},
     "output_type": "execute_result"
    }
   ],
   "source": [
    "dataframe.movie_categories.describe()"
   ]
  },
  {
   "cell_type": "code",
   "execution_count": 29,
   "metadata": {},
   "outputs": [
    {
     "data": {
      "text/plain": [
       "movie_categories\n",
       "Drame                         2564\n",
       "Comédie                        961\n",
       "Comédie|Drame                  644\n",
       "Drame|Romantique               346\n",
       "Comédie|Drame|Romantique       253\n",
       "                              ... \n",
       "Comédie|Thriller|Policier        1\n",
       "Action|Policier|Historique       1\n",
       "Biographique|Musical             1\n",
       "Drame|Fantastique|Musical        1\n",
       "Drame, Mystère, Thriller         1\n",
       "Name: count, Length: 465, dtype: int64"
      ]
     },
     "execution_count": 29,
     "metadata": {},
     "output_type": "execute_result"
    }
   ],
   "source": [
    "dataframe.movie_categories.value_counts()"
   ]
  },
  {
   "cell_type": "code",
   "execution_count": 30,
   "metadata": {},
   "outputs": [],
   "source": [
    "# categ = dataframe.movie_categories.value_counts()\n",
    "# categories = dict(categ)\n",
    "# colors = [\"lightseagreen\",  \"mediumturquoise\"]\n",
    "# labels = [key for key,value in categories.items()]\n",
    "# values = [value for key,value in categories.items()]\n",
    "# plt.figure(figsize=(15, 15))\n",
    "# plt.pie(values, colors=colors, labels=labels, autopct='%1.1f%%')\n",
    "# plt.show()"
   ]
  },
  {
   "cell_type": "code",
   "execution_count": 31,
   "metadata": {},
   "outputs": [
    {
     "name": "stdout",
     "output_type": "stream",
     "text": [
      "Il y a 6 soit 0.07 % films sans catégories/genres dans le dataset\n"
     ]
    }
   ],
   "source": [
    "nan = dataframe.movie_categories.isna().sum()\n",
    "print(f'Il y a {nan} soit {round(nan*100/len(dataframe), 2)} % films sans catégories/genres dans le dataset')"
   ]
  },
  {
   "cell_type": "markdown",
   "metadata": {},
   "source": [
    "#### MOVIE COUNTRIES"
   ]
  },
  {
   "cell_type": "code",
   "execution_count": 32,
   "metadata": {},
   "outputs": [
    {
     "data": {
      "text/plain": [
       "count       8765\n",
       "unique      1352\n",
       "top       France\n",
       "freq        3248\n",
       "Name: movie_countries, dtype: object"
      ]
     },
     "execution_count": 32,
     "metadata": {},
     "output_type": "execute_result"
    }
   ],
   "source": [
    "dataframe.movie_countries.describe()"
   ]
  },
  {
   "cell_type": "code",
   "execution_count": 33,
   "metadata": {},
   "outputs": [
    {
     "name": "stdout",
     "output_type": "stream",
     "text": [
      "Il y a 15 soit 0.17 % films sans pays dans le dataset\n"
     ]
    }
   ],
   "source": [
    "nan = dataframe.movie_countries.isna().sum()\n",
    "print(f'Il y a {nan} soit {round(nan*100/len(dataframe), 2)} % films sans pays dans le dataset')"
   ]
  },
  {
   "cell_type": "markdown",
   "metadata": {},
   "source": [
    "#### MOVIE DIRECTORS"
   ]
  },
  {
   "cell_type": "code",
   "execution_count": 34,
   "metadata": {},
   "outputs": [
    {
     "name": "stdout",
     "output_type": "stream",
     "text": [
      "Il y a 35 soit 0.4 % films sans casting dans le dataset\n"
     ]
    }
   ],
   "source": [
    "nan = dataframe.movie_director.isna().sum()\n",
    "print(f'Il y a {nan} soit {round(nan*100/len(dataframe), 2)} % films sans casting dans le dataset')"
   ]
  },
  {
   "cell_type": "code",
   "execution_count": 35,
   "metadata": {},
   "outputs": [
    {
     "data": {
      "text/plain": [
       "count                  8745\n",
       "unique                 5658\n",
       "top       Jean-Pierre Mocky\n",
       "freq                     25\n",
       "Name: movie_director, dtype: object"
      ]
     },
     "execution_count": 35,
     "metadata": {},
     "output_type": "execute_result"
    }
   ],
   "source": [
    "dataframe.movie_director.describe()"
   ]
  },
  {
   "cell_type": "code",
   "execution_count": 36,
   "metadata": {},
   "outputs": [
    {
     "data": {
      "image/png": "[encoded data removed]",
      "text/plain": [
       "<Figure size 2000x1000 with 1 Axes>"
      ]
     },
     "metadata": {},
     "output_type": "display_data"
    }
   ],
   "source": [
    "test = dataframe.groupby(\"movie_director\").count().reset_index()\n",
    "test = test.rename(columns={\"movie_cast\": \"Total\"})\n",
    "test_top = test.sort_values(by=\"Total\", ascending=False).head(30)\n",
    "test_top = test_top[[\"movie_director\", \"Total\"]]\n",
    "plt.figure(figsize=(20,10))\n",
    "plt.title(\"TOP 30 DIRECTORS WITH THE MOST FILMS DIRECTED SINCE YEAR 2000\")\n",
    "sns.barplot(test_top, x='movie_director', y=\"Total\", hue=\"movie_director\", palette=\"Blues_r\", legend=False)\n",
    "plt.xticks(rotation='vertical')\n",
    "plt.ylabel('NUMBER OF MOVIES')\n",
    "plt.xlabel('')\n",
    "plt.show()"
   ]
  },
  {
   "cell_type": "markdown",
   "metadata": {},
   "source": [
    "#### MOVIE ID"
   ]
  },
  {
   "cell_type": "code",
   "execution_count": 37,
   "metadata": {},
   "outputs": [],
   "source": [
    "# Que faire?"
   ]
  },
  {
   "cell_type": "code",
   "execution_count": 38,
   "metadata": {},
   "outputs": [
    {
     "name": "stdout",
     "output_type": "stream",
     "text": [
      "Il y a 0 soit 0.0 % films sans casting dans le dataset\n"
     ]
    }
   ],
   "source": [
    "nan = dataframe.movie_id.isna().sum()\n",
    "print(f'Il y a {nan} soit {round(nan*100/len(dataframe), 2)} % films sans casting dans le dataset')"
   ]
  },
  {
   "cell_type": "markdown",
   "metadata": {},
   "source": [
    "#### MOVIE METASCORE, IMDB RATING & NB OF RATINGS"
   ]
  },
  {
   "cell_type": "code",
   "execution_count": 39,
   "metadata": {},
   "outputs": [
    {
     "data": {
      "text/plain": [
       "count    1725.000000\n",
       "mean       61.873043\n",
       "std        15.356687\n",
       "min        10.000000\n",
       "25%        52.000000\n",
       "50%        63.000000\n",
       "75%        73.000000\n",
       "max        96.000000\n",
       "Name: movie_imdb_metascore, dtype: float64"
      ]
     },
     "execution_count": 39,
     "metadata": {},
     "output_type": "execute_result"
    }
   ],
   "source": [
    "dataframe.movie_imdb_metascore.describe()"
   ]
  },
  {
   "cell_type": "code",
   "execution_count": 40,
   "metadata": {},
   "outputs": [
    {
     "data": {
      "image/png": "[encoded data removed]",
      "text/plain": [
       "<Figure size 640x480 with 1 Axes>"
      ]
     },
     "metadata": {},
     "output_type": "display_data"
    }
   ],
   "source": [
    "sns.violinplot(dataframe.movie_imdb_metascore, color='cadetblue')\n",
    "plt.title('METASCORE DISTRIBUTION')\n",
    "plt.show()"
   ]
  },
  {
   "cell_type": "code",
   "execution_count": 41,
   "metadata": {},
   "outputs": [
    {
     "data": {
      "image/png": "[encoded data removed]",
      "text/plain": [
       "<Figure size 2500x900 with 2 Axes>"
      ]
     },
     "metadata": {},
     "output_type": "display_data"
    }
   ],
   "source": [
    "fig, axes = plt.subplots(1, 2, figsize=(25,9))\n",
    "# Premier graphique\n",
    "sns.violinplot(dataframe.movie_imdb_rating, color='cadetblue', ax=axes[0])\n",
    "axes[0].set_yscale('log')\n",
    "axes[0].set_ylabel('')\n",
    "axes[0].set_title(\"IMDB RATINGS DISTRIBUTION\", fontsize=15)\n",
    "# Deuxième graphique\n",
    "sns.violinplot(dataframe.movie_imdb_nb_of_ratings, color='cadetblue', ax=axes[1])\n",
    "axes[1].set_yscale('log')\n",
    "axes[1].set_ylabel('')\n",
    "axes[1].set_title(\"IMDB NB OF RATINGS DISTRIBUTION\", fontsize=15)\n",
    "plt.show()"
   ]
  },
  {
   "cell_type": "code",
   "execution_count": 42,
   "metadata": {},
   "outputs": [
    {
     "name": "stdout",
     "output_type": "stream",
     "text": [
      "Il y a 7055 soit 80.35 % films sans metascore dans le dataset\n"
     ]
    }
   ],
   "source": [
    "nan = dataframe.movie_imdb_metascore.isna().sum()\n",
    "print(f'Il y a {nan} soit {round(nan*100/len(dataframe), 2)} % films sans metascore dans le dataset')"
   ]
  },
  {
   "cell_type": "code",
   "execution_count": 43,
   "metadata": {},
   "outputs": [
    {
     "data": {
      "text/plain": [
       "count    7499.000000\n",
       "mean        6.115895\n",
       "std         0.958353\n",
       "min         1.700000\n",
       "25%         5.600000\n",
       "50%         6.200000\n",
       "75%         6.700000\n",
       "max        10.000000\n",
       "Name: movie_imdb_rating, dtype: float64"
      ]
     },
     "execution_count": 43,
     "metadata": {},
     "output_type": "execute_result"
    }
   ],
   "source": [
    "dataframe.movie_imdb_rating.describe()"
   ]
  },
  {
   "cell_type": "code",
   "execution_count": 44,
   "metadata": {},
   "outputs": [
    {
     "name": "stdout",
     "output_type": "stream",
     "text": [
      "Il y a 1281 soit 14.59 % films sans metascore dans le dataset\n"
     ]
    }
   ],
   "source": [
    "nan = dataframe.movie_imdb_rating.isna().sum()\n",
    "print(f'Il y a {nan} soit {round(nan*100/len(dataframe), 2)} % films sans metascore dans le dataset')"
   ]
  },
  {
   "cell_type": "code",
   "execution_count": 45,
   "metadata": {},
   "outputs": [
    {
     "data": {
      "text/plain": [
       "count    7.499000e+03\n",
       "mean     3.456859e+04\n",
       "std      4.984417e+05\n",
       "min      5.000000e+00\n",
       "25%      1.030000e+02\n",
       "50%      4.260000e+02\n",
       "75%      1.600000e+04\n",
       "max      2.500000e+07\n",
       "Name: movie_imdb_nb_of_ratings, dtype: float64"
      ]
     },
     "execution_count": 45,
     "metadata": {},
     "output_type": "execute_result"
    }
   ],
   "source": [
    "dataframe.movie_imdb_nb_of_ratings.describe()"
   ]
  },
  {
   "cell_type": "code",
   "execution_count": 46,
   "metadata": {},
   "outputs": [
    {
     "name": "stdout",
     "output_type": "stream",
     "text": [
      "Il y a 1281 soit 14.59 % films sans metascore dans le dataset\n"
     ]
    }
   ],
   "source": [
    "nan = dataframe.movie_imdb_nb_of_ratings.isna().sum()\n",
    "print(f'Il y a {nan} soit {round(nan*100/len(dataframe), 2)} % films sans metascore dans le dataset')"
   ]
  },
  {
   "cell_type": "markdown",
   "metadata": {},
   "source": [
    "#### MOVIE LENGTH"
   ]
  },
  {
   "cell_type": "code",
   "execution_count": 47,
   "metadata": {},
   "outputs": [
    {
     "data": {
      "text/plain": [
       "count    8184.000000\n",
       "mean       97.380621\n",
       "std        21.517879\n",
       "min        12.000000\n",
       "25%        87.000000\n",
       "50%        96.000000\n",
       "75%       106.000000\n",
       "max       808.000000\n",
       "Name: movie_length, dtype: float64"
      ]
     },
     "execution_count": 47,
     "metadata": {},
     "output_type": "execute_result"
    }
   ],
   "source": [
    "dataframe.movie_length.describe()"
   ]
  },
  {
   "cell_type": "code",
   "execution_count": 48,
   "metadata": {},
   "outputs": [
    {
     "data": {
      "image/png": "[encoded data removed]",
      "text/plain": [
       "<Figure size 640x480 with 1 Axes>"
      ]
     },
     "metadata": {},
     "output_type": "display_data"
    }
   ],
   "source": [
    "sns.violinplot(dataframe.movie_length, color='cadetblue')\n",
    "plt.title('MOVIE DURATIONS DISTRIBUTION')\n",
    "plt.ylabel('MOVIE DURATIONS IN MINUTES')\n",
    "plt.show()"
   ]
  },
  {
   "cell_type": "code",
   "execution_count": 49,
   "metadata": {},
   "outputs": [
    {
     "name": "stdout",
     "output_type": "stream",
     "text": [
      "Il y a 596 soit 6.79 % films sans durée dans le dataset\n"
     ]
    }
   ],
   "source": [
    "nan = dataframe.movie_length.isna().sum()\n",
    "print(f'Il y a {nan} soit {round(nan*100/len(dataframe), 2)} % films sans durée dans le dataset')"
   ]
  },
  {
   "cell_type": "markdown",
   "metadata": {},
   "source": [
    "#### MOVIE ORIGINAL TITLE"
   ]
  },
  {
   "cell_type": "code",
   "execution_count": 50,
   "metadata": {},
   "outputs": [],
   "source": [
    "# Que faire?"
   ]
  },
  {
   "cell_type": "code",
   "execution_count": 51,
   "metadata": {},
   "outputs": [
    {
     "data": {
      "text/plain": [
       "count                     1437\n",
       "unique                    1432\n",
       "top        Mary Queen of Scots\n",
       "freq                         2\n",
       "Name: movie_original_title, dtype: object"
      ]
     },
     "execution_count": 51,
     "metadata": {},
     "output_type": "execute_result"
    }
   ],
   "source": [
    "dataframe.movie_original_title.describe()"
   ]
  },
  {
   "cell_type": "code",
   "execution_count": 52,
   "metadata": {},
   "outputs": [
    {
     "name": "stdout",
     "output_type": "stream",
     "text": [
      "Il y a 7343 soit 83.63 % films sans titre original dans le dataset\n"
     ]
    }
   ],
   "source": [
    "nan = dataframe.movie_original_title.isna().sum()\n",
    "print(f'Il y a {nan} soit {round(nan*100/len(dataframe), 2)} % films sans titre original dans le dataset')"
   ]
  },
  {
   "cell_type": "markdown",
   "metadata": {},
   "source": [
    "#### MOVIE POSTER & IMG_SRC"
   ]
  },
  {
   "cell_type": "code",
   "execution_count": 53,
   "metadata": {},
   "outputs": [],
   "source": [
    "# Que faire?"
   ]
  },
  {
   "cell_type": "code",
   "execution_count": 54,
   "metadata": {},
   "outputs": [
    {
     "name": "stdout",
     "output_type": "stream",
     "text": [
      "Il y a 28 soit 0.32 % films sans poster/affiche dans le dataset\n"
     ]
    }
   ],
   "source": [
    "nan = dataframe.movie_poster.isna().sum()\n",
    "print(f'Il y a {nan} soit {round(nan*100/len(dataframe), 2)} % films sans poster/affiche dans le dataset')"
   ]
  },
  {
   "cell_type": "code",
   "execution_count": 55,
   "metadata": {},
   "outputs": [
    {
     "data": {
      "text/plain": [
       "(8752, 22)"
      ]
     },
     "execution_count": 55,
     "metadata": {},
     "output_type": "execute_result"
    }
   ],
   "source": [
    "# Suppression des valeurs nulles dans cette colonne\n",
    "dataframe = dataframe.dropna(subset=['movie_poster'], axis=0)\n",
    "dataframe.shape"
   ]
  },
  {
   "cell_type": "markdown",
   "metadata": {},
   "source": [
    "#### MOVIE PRODUCTION COMPANIES"
   ]
  },
  {
   "cell_type": "code",
   "execution_count": 56,
   "metadata": {},
   "outputs": [],
   "source": [
    "# Que faire?"
   ]
  },
  {
   "cell_type": "code",
   "execution_count": 57,
   "metadata": {},
   "outputs": [
    {
     "data": {
      "text/plain": [
       "count                   8215\n",
       "unique                  7438\n",
       "top       Cinémaginaire Inc.\n",
       "freq                      17\n",
       "Name: movie_production_companies, dtype: object"
      ]
     },
     "execution_count": 57,
     "metadata": {},
     "output_type": "execute_result"
    }
   ],
   "source": [
    "dataframe.movie_production_companies.describe() "
   ]
  },
  {
   "cell_type": "code",
   "execution_count": 58,
   "metadata": {},
   "outputs": [
    {
     "name": "stdout",
     "output_type": "stream",
     "text": [
      "Il y a 537 soit 6.14 % films sans société de production dans le dataset\n"
     ]
    }
   ],
   "source": [
    "nan = dataframe.movie_production_companies.isna().sum()\n",
    "print(f'Il y a {nan} soit {round(nan*100/len(dataframe), 2)} % films sans société de production dans le dataset')"
   ]
  },
  {
   "cell_type": "code",
   "execution_count": 59,
   "metadata": {},
   "outputs": [
    {
     "data": {
      "image/png": "[encoded data removed]",
      "text/plain": [
       "<Figure size 2000x1000 with 1 Axes>"
      ]
     },
     "metadata": {},
     "output_type": "display_data"
    }
   ],
   "source": [
    "test = dataframe.groupby(\"movie_production_companies\").count().reset_index()\n",
    "test = test.rename(columns={\"movie_cast\": \"Total\"})\n",
    "test_top = test.sort_values(by=\"Total\", ascending=False).head(20)\n",
    "test_top = test_top[[\"movie_production_companies\", \"Total\"]]\n",
    "plt.figure(figsize=(20,10))\n",
    "plt.title(\"TOP 20 MOVIE PRODUCTION COMPANIES WITH THE MOST FILMS PRODUCED SINCE YEAR 2000\")\n",
    "sns.barplot(test_top, x='movie_production_companies', y=\"Total\", hue=\"movie_production_companies\", palette=\"Purples_r\", legend=False)\n",
    "plt.xticks(rotation='vertical')\n",
    "plt.ylabel('NUMBER OF MOVIES')\n",
    "plt.xlabel('')\n",
    "plt.show()"
   ]
  },
  {
   "cell_type": "markdown",
   "metadata": {},
   "source": [
    "#### MOVIE SYNOPSIS"
   ]
  },
  {
   "cell_type": "code",
   "execution_count": 60,
   "metadata": {},
   "outputs": [],
   "source": [
    "# Que faire?"
   ]
  },
  {
   "cell_type": "code",
   "execution_count": 61,
   "metadata": {},
   "outputs": [
    {
     "data": {
      "text/plain": [
       "count              7752\n",
       "unique             7725\n",
       "top       Plot inconnu.\n",
       "freq                  5\n",
       "Name: movie_synopsis, dtype: object"
      ]
     },
     "execution_count": 61,
     "metadata": {},
     "output_type": "execute_result"
    }
   ],
   "source": [
    "dataframe.movie_synopsis.describe()"
   ]
  },
  {
   "cell_type": "code",
   "execution_count": 62,
   "metadata": {},
   "outputs": [
    {
     "name": "stdout",
     "output_type": "stream",
     "text": [
      "Il y a 1000 soit 11.43 % films sans synopsis dans le dataset\n"
     ]
    }
   ],
   "source": [
    "nan = dataframe.movie_synopsis.isna().sum()\n",
    "print(f'Il y a {nan} soit {round(nan*100/len(dataframe), 2)} % films sans synopsis dans le dataset')"
   ]
  },
  {
   "cell_type": "markdown",
   "metadata": {},
   "source": [
    "#### MOVIE TITLE"
   ]
  },
  {
   "cell_type": "code",
   "execution_count": 63,
   "metadata": {},
   "outputs": [],
   "source": [
    "# Que faire?"
   ]
  },
  {
   "cell_type": "code",
   "execution_count": 64,
   "metadata": {},
   "outputs": [
    {
     "data": {
      "text/plain": [
       "count             8752\n",
       "unique            8569\n",
       "top       Le Déserteur\n",
       "freq                 4\n",
       "Name: movie_title, dtype: object"
      ]
     },
     "execution_count": 64,
     "metadata": {},
     "output_type": "execute_result"
    }
   ],
   "source": [
    "dataframe.movie_title.describe()"
   ]
  },
  {
   "cell_type": "code",
   "execution_count": 65,
   "metadata": {},
   "outputs": [
    {
     "name": "stdout",
     "output_type": "stream",
     "text": [
      "Il y a 0 soit 0.0 % films sans titre dans le dataset\n"
     ]
    }
   ],
   "source": [
    "nan = dataframe.movie_title.isna().sum()\n",
    "print(f'Il y a {nan} soit {round(nan*100/len(dataframe), 2)} % films sans titre dans le dataset')"
   ]
  },
  {
   "cell_type": "markdown",
   "metadata": {},
   "source": [
    "#### MOVIE URL"
   ]
  },
  {
   "cell_type": "code",
   "execution_count": 66,
   "metadata": {},
   "outputs": [
    {
     "data": {
      "text/plain": [
       "count                                       8780\n",
       "unique                                      8780\n",
       "top       https://www.imdb.com/title/tt13097932/\n",
       "freq                                           1\n",
       "Name: movie_url, dtype: object"
      ]
     },
     "execution_count": 66,
     "metadata": {},
     "output_type": "execute_result"
    }
   ],
   "source": [
    "merge.movie_url.describe()"
   ]
  },
  {
   "cell_type": "code",
   "execution_count": 67,
   "metadata": {},
   "outputs": [
    {
     "name": "stdout",
     "output_type": "stream",
     "text": [
      "Il y a 0 soit 0.0 % films sans url dans le dataset\n"
     ]
    }
   ],
   "source": [
    "nan = merge.movie_url.isna().sum()\n",
    "print(f'Il y a {nan} soit {round(nan*100/len(dataframe), 2)} % films sans url dans le dataset')"
   ]
  },
  {
   "cell_type": "markdown",
   "metadata": {},
   "source": [
    "#### MOVIE RELEASE DATE"
   ]
  },
  {
   "cell_type": "code",
   "execution_count": 68,
   "metadata": {},
   "outputs": [],
   "source": [
    "# PB !!\n",
    "# Ici, on voit bien qu'il y a bien des films de cette année présents dans le dataset.\n",
    "# Plus bas, quand je demande la valeur maximale, c'est l'année 2021 (et non 2024 ou 2025) qui m'est retournée. Pourquoi?"
   ]
  },
  {
   "cell_type": "code",
   "execution_count": 69,
   "metadata": {},
   "outputs": [
    {
     "data": {
      "text/plain": [
       "count           8752\n",
       "unique          3612\n",
       "top       17-04-2024\n",
       "freq              17\n",
       "Name: release_date, dtype: object"
      ]
     },
     "execution_count": 69,
     "metadata": {},
     "output_type": "execute_result"
    }
   ],
   "source": [
    "dataframe.release_date.describe()"
   ]
  },
  {
   "cell_type": "code",
   "execution_count": 70,
   "metadata": {},
   "outputs": [
    {
     "data": {
      "text/plain": [
       "'01-01-2000'"
      ]
     },
     "execution_count": 70,
     "metadata": {},
     "output_type": "execute_result"
    }
   ],
   "source": [
    "dataframe.release_date.min()"
   ]
  },
  {
   "cell_type": "code",
   "execution_count": 71,
   "metadata": {},
   "outputs": [
    {
     "data": {
      "text/plain": [
       "'31-12-2021'"
      ]
     },
     "execution_count": 71,
     "metadata": {},
     "output_type": "execute_result"
    }
   ],
   "source": [
    "dataframe.release_date.max()\n",
    "# Où sont les films des années 2022, 2023, 2024?????"
   ]
  },
  {
   "cell_type": "code",
   "execution_count": 72,
   "metadata": {},
   "outputs": [
    {
     "name": "stdout",
     "output_type": "stream",
     "text": [
      "Il y a 0 soit 0.0 % films sans release_date dans le dataset\n"
     ]
    }
   ],
   "source": [
    "nan = dataframe.release_date.isna().sum()\n",
    "print(f'Il y a {nan} soit {round(nan*100/len(dataframe), 2)} % films sans release_date dans le dataset')"
   ]
  },
  {
   "cell_type": "markdown",
   "metadata": {},
   "source": [
    "#### MOVIE YEAR"
   ]
  },
  {
   "cell_type": "code",
   "execution_count": 73,
   "metadata": {},
   "outputs": [],
   "source": [
    "# La valeur minimale est 0 car j'ai rempli les NaN au tout début de l'EDA"
   ]
  },
  {
   "cell_type": "code",
   "execution_count": 74,
   "metadata": {},
   "outputs": [
    {
     "data": {
      "text/plain": [
       "count    8655.000000\n",
       "mean     2013.478914\n",
       "std         6.686792\n",
       "min      2000.000000\n",
       "25%      2008.000000\n",
       "50%      2014.000000\n",
       "75%      2019.000000\n",
       "max      2025.000000\n",
       "Name: year, dtype: float64"
      ]
     },
     "execution_count": 74,
     "metadata": {},
     "output_type": "execute_result"
    }
   ],
   "source": [
    "dataframe.year.describe()"
   ]
  },
  {
   "cell_type": "code",
   "execution_count": 75,
   "metadata": {},
   "outputs": [
    {
     "name": "stdout",
     "output_type": "stream",
     "text": [
      "Il y a 97 soit 1.11 % films sans année dans le dataset\n"
     ]
    }
   ],
   "source": [
    "nan = dataframe.year.isna().sum()\n",
    "print(f'Il y a {nan} soit {round(nan*100/len(dataframe), 2)} % films sans année dans le dataset')"
   ]
  },
  {
   "cell_type": "markdown",
   "metadata": {},
   "source": [
    "#### TARGET : WEEK 1 FRENCH BOX-OFFICE/ENTRIES"
   ]
  },
  {
   "cell_type": "code",
   "execution_count": 76,
   "metadata": {},
   "outputs": [
    {
     "name": "stdout",
     "output_type": "stream",
     "text": [
      "Il y a 97 soit 1.11 % films sans TARGET dans le dataset\n"
     ]
    }
   ],
   "source": [
    "nan_target = dataframe.total_tickets_sold_on_week1.isna().sum()\n",
    "print(f'Il y a {nan} soit {round(nan*100/len(dataframe), 2)} % films sans TARGET dans le dataset')"
   ]
  },
  {
   "cell_type": "code",
   "execution_count": 77,
   "metadata": {},
   "outputs": [
    {
     "data": {
      "text/plain": [
       "count         949\n",
       "unique        804\n",
       "top       280 226\n",
       "freq            4\n",
       "Name: total_tickets_sold_on_week1, dtype: object"
      ]
     },
     "execution_count": 77,
     "metadata": {},
     "output_type": "execute_result"
    }
   ],
   "source": [
    "dataframe.total_tickets_sold_on_week1.describe() "
   ]
  },
  {
   "cell_type": "code",
   "execution_count": 78,
   "metadata": {},
   "outputs": [],
   "source": [
    "dataframe['total_tickets_sold_on_week1'] = dataframe['total_tickets_sold_on_week1'].str.replace(' ', '')\n",
    "dataframe['total_tickets_sold_on_week1'] = dataframe['total_tickets_sold_on_week1'].fillna(0).astype(int)"
   ]
  },
  {
   "cell_type": "code",
   "execution_count": 86,
   "metadata": {},
   "outputs": [
    {
     "data": {
      "image/png": "[encoded data removed]",
      "text/plain": [
       "<Figure size 640x480 with 1 Axes>"
      ]
     },
     "metadata": {},
     "output_type": "display_data"
    }
   ],
   "source": [
    "sns.violinplot(dataframe.total_tickets_sold_on_week1, color='cadetblue')\n",
    "plt.title('TARGET DISTRIBUTION')\n",
    "plt.yscale('log')\n",
    "plt.show()"
   ]
  },
  {
   "cell_type": "markdown",
   "metadata": {},
   "source": [
    "## Bivariate Analysis"
   ]
  },
  {
   "cell_type": "markdown",
   "metadata": {},
   "source": [
    "### Correlations"
   ]
  },
  {
   "cell_type": "code",
   "execution_count": 80,
   "metadata": {},
   "outputs": [
    {
     "data": {
      "image/png": "[encoded data removed]",
      "text/plain": [
       "<Figure size 640x480 with 2 Axes>"
      ]
     },
     "metadata": {},
     "output_type": "display_data"
    }
   ],
   "source": [
    "corr = dataframe.select_dtypes(include='number').corr()\n",
    "\n",
    "mask = np.zeros_like(corr)\n",
    "# Set the upper triangle of the mask to True\n",
    "mask[np.triu_indices_from(mask)] = True\n",
    "\n",
    "sns.heatmap(corr, mask=mask, cmap=\"RdBu_r\", vmax=1, center=0, vmin=-1)\n",
    "plt.title(\"Corrélations\")\n",
    "plt.show()"
   ]
  },
  {
   "cell_type": "markdown",
   "metadata": {},
   "source": [
    "### Plots"
   ]
  },
  {
   "cell_type": "code",
   "execution_count": 101,
   "metadata": {},
   "outputs": [],
   "source": [
    "# plt.figure(figsize=(15, 7))\n",
    "# sns.scatterplot(data=dataframe, x=\"movie_length\", y=\"total_tickets_sold_on_week1\")\n",
    "# plt.title('Scatter Plot of Movie Length vs Total Tickets Sold on Week 1')\n",
    "# plt.xlabel('Movie Length (Minutes)')\n",
    "# plt.ylabel('Total Tickets Sold on Week 1')\n",
    "# plt.show()"
   ]
  }
 ],
 "metadata": {
  "kernelspec": {
   "display_name": "venv",
   "language": "python",
   "name": "python3"
  },
  "language_info": {
   "codemirror_mode": {
    "name": "ipython",
    "version": 3
   },
   "file_extension": ".py",
   "mimetype": "text/x-python",
   "name": "python",
   "nbconvert_exporter": "python",
   "pygments_lexer": "ipython3",
   "version": "3.9.13"
  }
 },
 "nbformat": 4,
 "nbformat_minor": 2
}
